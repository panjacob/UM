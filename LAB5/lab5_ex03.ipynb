{
 "cells": [
  {
   "cell_type": "markdown",
   "metadata": {
    "id": "VhmmqLA8DGlz",
    "pycharm": {
     "name": "#%% md\n"
    }
   },
   "source": [
    "##### AI TECH - Akademia Innowacyjnych Zastosowań Technologii Cyfrowych. Programu Operacyjnego Polska Cyfrowa na lata 2014-2020\n",
    "<hr>"
   ]
  },
  {
   "cell_type": "markdown",
   "metadata": {
    "id": "OM0fGNWaDGl3",
    "pycharm": {
     "name": "#%% md\n"
    }
   },
   "source": [
    "<br>\n",
    "<br>\n",
    "<br>\n",
    "<br>\n",
    "<br>\n",
    "<br>\n",
    "<br>\n",
    "<center>\n",
    "    <h1 style = \"font-size:48px; font-weight:normal\"><b>AI</b>-TECH</h1>\n",
    "    <br>\n",
    "<br>\n",
    "<br>\n",
    "<br>\n",
    "    <h1 style = \"font-size:24px; font-weight:normal\">Przykład 3 DO LABORATORIUM 5</h1>\n",
    "    <h1 style = \"font-size:24px\">z UCZENIA MASZYNOWEGO</h1>\n",
    "    <h1 style = \"font-size:24px\">Sztuczne sieci neuronowe</h1>\n",
    "    <h1 style = \"font-size:24px\">Tomasz Neumann</h1>\n",
    "    <h3 style = \"font-size:21px\">Klasyfikacja przy użyciu Keras na zbiorze CIFAR-10 za pomocą prostej sieci neuronowej</h3>\n",
    "</center>\n",
    "<br>\n",
    "<br>\n",
    "<br>\n",
    "<br>\n",
    "<br>\n",
    "<br>\n",
    "<br>\n",
    "<br>\n",
    "<br>\n",
    "    </body>\n",
    "    </html>"
   ]
  },
  {
   "cell_type": "markdown",
   "metadata": {
    "cellView": "form",
    "colab": {
     "base_uri": "https://localhost:8080/",
     "height": 174
    },
    "executionInfo": {
     "elapsed": 349,
     "status": "ok",
     "timestamp": 1622643054990,
     "user": {
      "displayName": "Tomasz Neumann",
      "photoUrl": "",
      "userId": "11079917422719855706"
     },
     "user_tz": -120
    },
    "id": "VPViWlW_DKFp",
    "outputId": "a66ae6af-464e-43ed-b251-a4be5e9d8e6b",
    "pycharm": {
     "name": "#%% md\n"
    }
   },
   "source": [
    "![stopka.svg](stopka.svg)"
   ]
  },
  {
   "cell_type": "markdown",
   "metadata": {
    "id": "975sTmVwDGl7",
    "pycharm": {
     "name": "#%% md\n"
    }
   },
   "source": [
    "<center>\n",
    "Projekt współfinansowany ze środków Unii Europejskiej w ramach Europejskiego Funduszu Rozwoju Regionalnego \n",
    "Program Operacyjny Polska Cyfrowa na lata 2014-2020,\n",
    "Oś Priorytetowa nr 3 \"Cyfrowe kompetencje społeczeństwa\" Działanie  nr 3.2 \"Innowacyjne rozwiązania na rzecz aktywizacji cyfrowej\" \n",
    "Tytuł projektu:  „Akademia Innowacyjnych Zastosowań Technologii Cyfrowych (AI Tech)”\n",
    "    </center>"
   ]
  },
  {
   "cell_type": "markdown",
   "metadata": {
    "id": "Gm3IhdmZDGl8",
    "pycharm": {
     "name": "#%% md\n"
    }
   },
   "source": [
    "<hr>"
   ]
  },
  {
   "cell_type": "markdown",
   "metadata": {
    "id": "0oxNhg3pDGl8",
    "pycharm": {
     "name": "#%% md\n"
    }
   },
   "source": [
    "# 5. Przykład 3"
   ]
  },
  {
   "cell_type": "markdown",
   "metadata": {
    "id": "scjiYqm_DGl9",
    "pycharm": {
     "name": "#%% md\n"
    }
   },
   "source": [
    "Keras to wyspecjalizowany, przeznaczony do uczenia głębokiego interfejs API, za pomocą którego\n",
    "możemy z łatwością tworzyć, uczyć, oceniać i uruchamiać wszystkie rodzaje sieci neuronowych. W tym celu stworzymy klasyfikujący perceptron, który będzie pracował na danych CIFAR-10. Rozpoczynamy jak zwykle od dołączenia odpowiednich bibliotek"
   ]
  },
  {
   "cell_type": "code",
   "execution_count": null,
   "metadata": {
    "id": "VQdQobFzDGl-",
    "pycharm": {
     "name": "#%%\n"
    }
   },
   "outputs": [],
   "source": [
    "import sys\n",
    "from matplotlib import pyplot as plt\n",
    "from tensorflow.keras.datasets import cifar10\n",
    "from tensorflow.keras.utils import to_categorical\n",
    "from tensorflow.keras.models import Sequential\n",
    "from tensorflow.keras.layers import Flatten\n",
    "from tensorflow.keras.layers import Dropout\n",
    "from tensorflow.keras.layers import Dense\n",
    "from tensorflow.keras.optimizers import SGD\n",
    "import time\n",
    "from datetime import timedelta "
   ]
  },
  {
   "cell_type": "markdown",
   "metadata": {
    "id": "BvXSJeibDGl_",
    "pycharm": {
     "name": "#%% md\n"
    }
   },
   "source": [
    "oraz ustawione zostaną parametry treningu."
   ]
  },
  {
   "cell_type": "code",
   "execution_count": null,
   "metadata": {
    "id": "DiAvQbuJDGmA",
    "pycharm": {
     "name": "#%%\n"
    }
   },
   "outputs": [],
   "source": [
    "epochs=50\n",
    "batch_size=32\n",
    "lr = 0.001"
   ]
  },
  {
   "cell_type": "markdown",
   "metadata": {
    "id": "o_hUL6FADGmA",
    "pycharm": {
     "name": "#%% md\n"
    }
   },
   "source": [
    "Następnie pobrany zostanie zbiór danych CIFAR-10 zawierający zdjęcia przedstawione na poniższej grafice (zawiera obrazy rozłacznych klas: airplane, automobile, bird, cat, deer, dog, frog, horse, ship, truck)\n",
    "<table>\n",
    "    <tbody><tr>\n",
    "        <td class=\"cifar-class-name\">airplane</td>\n",
    "        <td><img src=\"https://www.cs.toronto.edu/~kriz/cifar-10-sample/airplane1.png\" alt=\"airplane\" class=\"cifar-sample\"></td>\n",
    "        <td><img src=\"https://www.cs.toronto.edu/~kriz/cifar-10-sample/airplane2.png\" alt=\"airplane\" class=\"cifar-sample\"></td>\n",
    "        <td><img src=\"https://www.cs.toronto.edu/~kriz/cifar-10-sample/airplane3.png\" alt=\"airplane\" class=\"cifar-sample\"></td>\n",
    "        <td><img src=\"https://www.cs.toronto.edu/~kriz/cifar-10-sample/airplane4.png\" alt=\"airplane\" class=\"cifar-sample\"></td>\n",
    "        <td><img src=\"https://www.cs.toronto.edu/~kriz/cifar-10-sample/airplane5.png\" alt=\"airplane\" class=\"cifar-sample\"></td>\n",
    "        <td><img src=\"https://www.cs.toronto.edu/~kriz/cifar-10-sample/airplane6.png\" alt=\"airplane\" class=\"cifar-sample\"></td>\n",
    "        <td><img src=\"https://www.cs.toronto.edu/~kriz/cifar-10-sample/airplane7.png\" alt=\"airplane\" class=\"cifar-sample\"></td>\n",
    "        <td><img src=\"https://www.cs.toronto.edu/~kriz/cifar-10-sample/airplane8.png\" alt=\"airplane\" class=\"cifar-sample\"></td>\n",
    "        <td><img src=\"https://www.cs.toronto.edu/~kriz/cifar-10-sample/airplane9.png\" alt=\"airplane\" class=\"cifar-sample\"></td>\n",
    "        <td><img src=\"https://www.cs.toronto.edu/~kriz/cifar-10-sample/airplane10.png\" alt=\"airplane\" class=\"cifar-sample\"></td>\n",
    "    </tr>\n",
    "    <tr>\n",
    "        <td class=\"cifar-class-name\">automobile</td>\n",
    "        <td><img src=\"https://www.cs.toronto.edu/~kriz/cifar-10-sample/automobile1.png\" alt=\"automobile\" class=\"cifar-sample\"></td>\n",
    "        <td><img src=\"https://www.cs.toronto.edu/~kriz/cifar-10-sample/automobile2.png\" alt=\"automobile\" class=\"cifar-sample\"></td>\n",
    "        <td><img src=\"https://www.cs.toronto.edu/~kriz/cifar-10-sample/automobile3.png\" alt=\"automobile\"  class=\" cifar-sample\"></td>\n",
    "        <td><img src=\"https://www.cs.toronto.edu/~kriz/cifar-10-sample/automobile4.png\" alt=\"automobile\" class=\"cifar-sample\"></td>\n",
    "        <td><img src=\"https://www.cs.toronto.edu/~kriz/cifar-10-sample/automobile5.png\" alt=\"automobile\" class=\"cifar-sample\"></td>\n",
    "        <td><img src=\"https://www.cs.toronto.edu/~kriz/cifar-10-sample/automobile6.png\" alt=\"automobile\" class=\"cifar-sample\"></td>\n",
    "        <td><img src=\"https://www.cs.toronto.edu/~kriz/cifar-10-sample/automobile7.png\" alt=\"automobile\" class=\"cifar-sample\"></td>\n",
    "        <td><img src=\"https://www.cs.toronto.edu/~kriz/cifar-10-sample/automobile8.png\" alt=\"automobile\" class=\"cifar-sample\"></td>\n",
    "        <td><img src=\"https://www.cs.toronto.edu/~kriz/cifar-10-sample/automobile9.png\" alt=\"automobile\" class=\"cifar-sample\"></td>\n",
    "        <td><img src=\"https://www.cs.toronto.edu/~kriz/cifar-10-sample/automobile10.png\" alt=\"automobile\" class=\"cifar-sample\"></td>\n",
    "    </tr>\n",
    "    <tr>\n",
    "        <td class=\"cifar-class-name\">bird</td>\n",
    "        <td><img src=\"https://www.cs.toronto.edu/~kriz/cifar-10-sample/bird1.png\" alt=\"bird\" class=\"cifar-sample\"></td>\n",
    "        <td><img src=\"https://www.cs.toronto.edu/~kriz/cifar-10-sample/bird2.png\" alt=\"bird\" class=\"cifar-sample\"></td>\n",
    "        <td><img src=\"https://www.cs.toronto.edu/~kriz/cifar-10-sample/bird3.png\" alt=\"bird\" class=\"cifar-sample\"></td>\n",
    "        <td><img src=\"https://www.cs.toronto.edu/~kriz/cifar-10-sample/bird4.png\" alt=\"bird\" class=\"cifar-sample\"></td>\n",
    "        <td><img src=\"https://www.cs.toronto.edu/~kriz/cifar-10-sample/bird5.png\" alt=\"bird\" class=\"cifar-sample\"></td>\n",
    "        <td><img src=\"https://www.cs.toronto.edu/~kriz/cifar-10-sample/bird6.png\" alt=\"bird\" class=\"cifar-sample\"></td>\n",
    "        <td><img src=\"https://www.cs.toronto.edu/~kriz/cifar-10-sample/bird7.png\" alt=\"bird\" class=\"cifar-sample\"></td>\n",
    "        <td><img src=\"https://www.cs.toronto.edu/~kriz/cifar-10-sample/bird8.png\" alt=\"bird\" class=\"cifar-sample\"></td>\n",
    "        <td><img src=\"https://www.cs.toronto.edu/~kriz/cifar-10-sample/bird9.png\" alt=\"bird\" class=\"cifar-sample\"></td>\n",
    "        <td><img src=\"https://www.cs.toronto.edu/~kriz/cifar-10-sample/bird10.png\" alt=\"bird\" class=\"cifar-sample\"></td>\n",
    "    </tr>\n",
    "    <tr>\n",
    "        <td class=\"cifar-class-name\">cat</td>\n",
    "        <td><img src=\"https://www.cs.toronto.edu/~kriz/cifar-10-sample/cat1.png\" alt=\"cat\" class=\"cifar-sample\"></td>\n",
    "        <td><img src=\"https://www.cs.toronto.edu/~kriz/cifar-10-sample/cat2.png\" alt=\"cat\" class=\"cifar-sample\"></td>\n",
    "        <td><img src=\"https://www.cs.toronto.edu/~kriz/cifar-10-sample/cat3.png\" alt=\"cat\" class=\"cifar-sample\"></td>\n",
    "        <td><img src=\"https://www.cs.toronto.edu/~kriz/cifar-10-sample/cat4.png\" alt=\"cat\" class=\"cifar-sample\"></td>\n",
    "        <td><img src=\"https://www.cs.toronto.edu/~kriz/cifar-10-sample/cat5.png\" alt=\"cat\" class=\"cifar-sample\"></td>\n",
    "        <td><img src=\"https://www.cs.toronto.edu/~kriz/cifar-10-sample/cat6.png\" alt=\"cat\" class=\"cifar-sample\"></td>\n",
    "        <td><img src=\"https://www.cs.toronto.edu/~kriz/cifar-10-sample/cat7.png\" alt=\"cat\" class=\"cifar-sample\"></td>\n",
    "        <td><img src=\"https://www.cs.toronto.edu/~kriz/cifar-10-sample/cat8.png\" alt=\"cat\" class=\"cifar-sample\"></td>\n",
    "        <td><img src=\"https://www.cs.toronto.edu/~kriz/cifar-10-sample/cat9.png\" alt=\"cat\" class=\"cifar-sample\"></td>\n",
    "        <td><img src=\"https://www.cs.toronto.edu/~kriz/cifar-10-sample/cat10.png\" alt=\"cat\" class=\"cifar-sample\"></td>\n",
    "    </tr>\n",
    "    <tr>\n",
    "        <td class=\"cifar-class-name\">deer</td>\n",
    "        <td><img src=\"https://www.cs.toronto.edu/~kriz/cifar-10-sample/deer1.png\" alt=\"deer\" class=\"cifar-sample\"></td>\n",
    "        <td><img src=\"https://www.cs.toronto.edu/~kriz/cifar-10-sample/deer2.png\" alt=\"deer\" class=\"cifar-sample\"></td>\n",
    "        <td><img src=\"https://www.cs.toronto.edu/~kriz/cifar-10-sample/deer3.png\" alt=\"deer\" class=\"cifar-sample\"></td>\n",
    "        <td><img src=\"https://www.cs.toronto.edu/~kriz/cifar-10-sample/deer4.png\" alt=\"deer\" class=\"cifar-sample\"></td>\n",
    "        <td><img src=\"https://www.cs.toronto.edu/~kriz/cifar-10-sample/deer5.png\" alt=\"deer\" class=\"cifar-sample\"></td>\n",
    "        <td><img src=\"https://www.cs.toronto.edu/~kriz/cifar-10-sample/deer6.png\" alt=\"deer\" class=\"cifar-sample\"></td>\n",
    "        <td><img src=\"https://www.cs.toronto.edu/~kriz/cifar-10-sample/deer7.png\" alt=\"deer\" class=\"cifar-sample\"></td>\n",
    "        <td><img src=\"https://www.cs.toronto.edu/~kriz/cifar-10-sample/deer8.png\" alt=\"deer\" class=\"cifar-sample\"></td>\n",
    "        <td><img src=\"https://www.cs.toronto.edu/~kriz/cifar-10-sample/deer9.png\" alt=\"deer\" class=\"cifar-sample\"></td>\n",
    "        <td><img src=\"https://www.cs.toronto.edu/~kriz/cifar-10-sample/deer10.png\" alt=\"deer\" class=\"cifar-sample\"></td>\n",
    "    </tr>\n",
    "    <tr>\n",
    "        <td class=\"cifar-class-name\">dog</td>\n",
    "        <td><img src=\"https://www.cs.toronto.edu/~kriz/cifar-10-sample/dog1.png\" alt=\"dog\" class=\"cifar-sample\"></td>\n",
    "        <td><img src=\"https://www.cs.toronto.edu/~kriz/cifar-10-sample/dog2.png\" alt=\"dog\" class=\"cifar-sample\"></td>\n",
    "        <td><img src=\"https://www.cs.toronto.edu/~kriz/cifar-10-sample/dog3.png\" alt=\"dog\" class=\"cifar-sample\"></td>\n",
    "        <td><img src=\"https://www.cs.toronto.edu/~kriz/cifar-10-sample/dog4.png\" alt=\"dog\" class=\"cifar-sample\"></td>\n",
    "        <td><img src=\"https://www.cs.toronto.edu/~kriz/cifar-10-sample/dog5.png\" alt=\"dog\" class=\"cifar-sample\"></td>\n",
    "        <td><img src=\"https://www.cs.toronto.edu/~kriz/cifar-10-sample/dog6.png\" alt=\"dog\" class=\"cifar-sample\"></td>\n",
    "        <td><img src=\"https://www.cs.toronto.edu/~kriz/cifar-10-sample/dog7.png\" alt=\"dog\" class=\"cifar-sample\"></td>\n",
    "        <td><img src=\"https://www.cs.toronto.edu/~kriz/cifar-10-sample/dog8.png\" alt=\"dog\" class=\"cifar-sample\"></td>\n",
    "        <td><img src=\"https://www.cs.toronto.edu/~kriz/cifar-10-sample/dog9.png\" alt=\"dog\" class=\"cifar-sample\"></td>\n",
    "        <td><img src=\"https://www.cs.toronto.edu/~kriz/cifar-10-sample/dog10.png\" alt=\"dog\" class=\"cifar-sample\"></td>\n",
    "    </tr>\n",
    "    <tr>\n",
    "        <td class=\"cifar-class-name\">frog</td>\n",
    "        <td><img src=\"https://www.cs.toronto.edu/~kriz/cifar-10-sample/frog1.png\" alt=\"frog\" class=\"cifar-sample\"></td>\n",
    "        <td><img src=\"https://www.cs.toronto.edu/~kriz/cifar-10-sample/frog2.png\" alt=\"frog\" class=\"cifar-sample\"></td>\n",
    "        <td><img src=\"https://www.cs.toronto.edu/~kriz/cifar-10-sample/frog3.png\" alt=\"frog\" class=\"cifar-sample\"></td>\n",
    "        <td><img src=\"https://www.cs.toronto.edu/~kriz/cifar-10-sample/frog4.png\" alt=\"frog\" class=\"cifar-sample\"></td>\n",
    "        <td><img src=\"https://www.cs.toronto.edu/~kriz/cifar-10-sample/frog5.png\" alt=\"frog\" class=\"cifar-sample\"></td>\n",
    "        <td><img src=\"https://www.cs.toronto.edu/~kriz/cifar-10-sample/frog6.png\" alt=\"frog\" class=\"cifar-sample\"></td>\n",
    "        <td><img src=\"https://www.cs.toronto.edu/~kriz/cifar-10-sample/frog7.png\" alt=\"frog\" class=\"cifar-sample\"></td>\n",
    "        <td><img src=\"https://www.cs.toronto.edu/~kriz/cifar-10-sample/frog8.png\" alt=\"frog\" class=\"cifar-sample\"></td>\n",
    "        <td><img src=\"https://www.cs.toronto.edu/~kriz/cifar-10-sample/frog9.png\" alt=\"frog\" class=\"cifar-sample\"></td>\n",
    "        <td><img src=\"https://www.cs.toronto.edu/~kriz/cifar-10-sample/frog10.png\" alt=\"frog\" class=\"cifar-sample\"></td>\n",
    "    </tr>\n",
    "    <tr>\n",
    "        <td class=\"cifar-class-name\">horse</td>\n",
    "        <td><img src=\"https://www.cs.toronto.edu/~kriz/cifar-10-sample/horse1.png\" alt=\"horse\" class=\"cifar-sample\"></td>\n",
    "        <td><img src=\"https://www.cs.toronto.edu/~kriz/cifar-10-sample/horse2.png\" alt=\"horse\" class=\"cifar-sample\"></td>\n",
    "        <td><img src=\"https://www.cs.toronto.edu/~kriz/cifar-10-sample/horse3.png\" alt=\"horse\" class=\"cifar-sample\"></td>\n",
    "        <td><img src=\"https://www.cs.toronto.edu/~kriz/cifar-10-sample/horse4.png\" alt=\"horse\" class=\"cifar-sample\"></td>\n",
    "        <td><img src=\"https://www.cs.toronto.edu/~kriz/cifar-10-sample/horse5.png\" alt=\"horse\" class=\"cifar-sample\"></td>\n",
    "        <td><img src=\"https://www.cs.toronto.edu/~kriz/cifar-10-sample/horse6.png\" alt=\"horse\" class=\"cifar-sample\"></td>\n",
    "        <td><img src=\"https://www.cs.toronto.edu/~kriz/cifar-10-sample/horse7.png\" alt=\"horse\" class=\"cifar-sample\"></td>\n",
    "        <td><img src=\"https://www.cs.toronto.edu/~kriz/cifar-10-sample/horse8.png\" alt=\"horse\" class=\"cifar-sample\"></td>\n",
    "        <td><img src=\"https://www.cs.toronto.edu/~kriz/cifar-10-sample/horse9.png\" alt=\"horse\" class=\"cifar-sample\"></td>\n",
    "        <td><img src=\"https://www.cs.toronto.edu/~kriz/cifar-10-sample/horse10.png\" alt=\"horse\" class=\"cifar-sample\"></td>\n",
    "    </tr>\n",
    "    <tr>\n",
    "        <td class=\"cifar-class-name\">ship</td>\n",
    "        <td><img src=\"https://www.cs.toronto.edu/~kriz/cifar-10-sample/ship1.png\" alt=\"ship\" class=\"cifar-sample\"></td>\n",
    "        <td><img src=\"https://www.cs.toronto.edu/~kriz/cifar-10-sample/ship2.png\" alt=\"ship\" class=\"cifar-sample\"></td>\n",
    "        <td><img src=\"https://www.cs.toronto.edu/~kriz/cifar-10-sample/ship3.png\" alt=\"ship\" class=\"cifar-sample\"></td>\n",
    "        <td><img src=\"https://www.cs.toronto.edu/~kriz/cifar-10-sample/ship4.png\" alt=\"ship\" class=\"cifar-sample\"></td>\n",
    "        <td><img src=\"https://www.cs.toronto.edu/~kriz/cifar-10-sample/ship5.png\" alt=\"ship\" class=\"cifar-sample\"></td>\n",
    "        <td><img src=\"https://www.cs.toronto.edu/~kriz/cifar-10-sample/ship6.png\" alt=\"ship\" class=\"cifar-sample\"></td>\n",
    "        <td><img src=\"https://www.cs.toronto.edu/~kriz/cifar-10-sample/ship7.png\" alt=\"ship\" class=\"cifar-sample\"></td>\n",
    "        <td><img src=\"https://www.cs.toronto.edu/~kriz/cifar-10-sample/ship8.png\" alt=\"ship\" class=\"cifar-sample\"></td>\n",
    "        <td><img src=\"https://www.cs.toronto.edu/~kriz/cifar-10-sample/ship9.png\" alt=\"ship\" class=\"cifar-sample\"></td>\n",
    "        <td><img src=\"https://www.cs.toronto.edu/~kriz/cifar-10-sample/ship10.png\" alt=\"ship\" class=\"cifar-sample\"></td>\n",
    "    </tr>\n",
    "    <tr>\n",
    "        <td class=\"cifar-class-name\">truck</td>\n",
    "        <td><img src=\"https://www.cs.toronto.edu/~kriz/cifar-10-sample/truck1.png\" alt=\"truck\" class=\"cifar-sample\"></td>\n",
    "        <td><img src=\"https://www.cs.toronto.edu/~kriz/cifar-10-sample/truck2.png\" alt=\"truck\" class=\"cifar-sample\"></td>\n",
    "        <td><img src=\"https://www.cs.toronto.edu/~kriz/cifar-10-sample/truck3.png\" alt=\"truck\" class=\"cifar-sample\"></td>\n",
    "        <td><img src=\"https://www.cs.toronto.edu/~kriz/cifar-10-sample/truck4.png\" alt=\"truck\" class=\"cifar-sample\"></td>\n",
    "        <td><img src=\"https://www.cs.toronto.edu/~kriz/cifar-10-sample/truck5.png\" alt=\"truck\" class=\"cifar-sample\"></td>\n",
    "        <td><img src=\"https://www.cs.toronto.edu/~kriz/cifar-10-sample/truck6.png\" alt=\"truck\" class=\"cifar-sample\"></td>\n",
    "        <td><img src=\"https://www.cs.toronto.edu/~kriz/cifar-10-sample/truck7.png\" alt=\"truck\" class=\"cifar-sample\"></td>\n",
    "        <td><img src=\"https://www.cs.toronto.edu/~kriz/cifar-10-sample/truck8.png\" alt=\"truck\" class=\"cifar-sample\"></td>\n",
    "        <td><img src=\"https://www.cs.toronto.edu/~kriz/cifar-10-sample/truck9.png\" alt=\"truck\" class=\"cifar-sample\"></td>\n",
    "        <td><img src=\"https://www.cs.toronto.edu/~kriz/cifar-10-sample/truck10.png\" alt=\"truck\" class=\"cifar-sample\"></td>\n",
    "    </tr>\n",
    "</tbody></table>\n",
    "który zostaje automatycznie podzielony na zbiór treningowy oraz testowy. Ponadto kategorie z postaci wektora wartości liczbowych zostają zamienione na macierz binarną za pomocą metody <i>to_categorical()</i>."
   ]
  },
  {
   "cell_type": "code",
   "execution_count": null,
   "metadata": {
    "id": "HGlom9kkDGmD",
    "pycharm": {
     "name": "#%%\n"
    }
   },
   "outputs": [],
   "source": [
    "def load_dataset():\n",
    "    #pobranie bazy danych obrazów\n",
    "    (trainX, trainY), (testX, testY) = cifar10.load_data()\n",
    "    # zamiena wektora etykiet obrazów na macierz binarną\n",
    "    trainY = to_categorical(trainY)\n",
    "    testY = to_categorical(testY)\n",
    "    return trainX, trainY, testX, testY"
   ]
  },
  {
   "cell_type": "markdown",
   "metadata": {
    "id": "Ieq0_OhVDGmD",
    "pycharm": {
     "name": "#%% md\n"
    }
   },
   "source": [
    "W tym kroku zostanie przeprowadzonie skalowanie pikseli w obrazie na zakres  wartości od 0 do 1."
   ]
  },
  {
   "cell_type": "code",
   "execution_count": null,
   "metadata": {
    "id": "AwsqWPc3DGmD",
    "pycharm": {
     "name": "#%%\n"
    }
   },
   "outputs": [],
   "source": [
    "def prep_pixels(train, test):\n",
    "    # convert from integers to floats\n",
    "    train_norm = train.astype('float32')\n",
    "    test_norm = test.astype('float32')\n",
    "    # normalize to range 0-1\n",
    "    train_norm = train_norm / 255.0\n",
    "    test_norm = test_norm / 255.0\n",
    "    # return normalized images\n",
    "    return train_norm, test_norm"
   ]
  },
  {
   "cell_type": "markdown",
   "metadata": {
    "id": "WclPrsAxDGmE",
    "pycharm": {
     "name": "#%% md\n"
    }
   },
   "source": [
    "Na tym etapie zostanie stworzony perceptron wielowarstwowy zawierający dwie warstwy ukryte.  Na początku tworzony jest tu model sekwencyjny (najprostsza forma modelu sieci neuronowej dostępna w Keras), a następnie tworzona jest warstwa spłaszczona, która przekształca obraz wejściowy w tablicę jednowymiarową. Warstwa ta nie zawiera żadnych parametrów, a jej jedynym celem jest proste, wstępne przetworzenie danych. W dalszej kolejności zdefiniowana zostaje gęsta warstwa ukryta (Dense) składającą się z 300 neuronów, a następnie kolejną ze 100 neuronami. Na koniec określona zostaje gęsta warstwa wyjściowa składająca się z 10 neuronów (po jednym na każdą klasę) z wyznaczoną funkcją aktywacji softmax (ponieważ klasy wykluczają się wzajemnie)."
   ]
  },
  {
   "cell_type": "code",
   "execution_count": null,
   "metadata": {
    "id": "gJTJKyAkDGmE",
    "pycharm": {
     "name": "#%%\n"
    }
   },
   "outputs": [],
   "source": [
    "def define_model():\n",
    "    model = Sequential()\n",
    "    model.add(Flatten(input_shape=[32, 32,3]))\n",
    "    model.add(Dense(300, activation='relu', kernel_initializer='he_uniform'))\n",
    "    model.add(Dense(100, activation='relu', kernel_initializer='he_uniform'))\n",
    "    model.add(Dense(10, activation='softmax'))\n",
    "    \n",
    "    opt = SGD(learning_rate=lr, momentum=0.9)\n",
    "    model.compile(optimizer=opt, loss='categorical_crossentropy', metrics=['accuracy'])\n",
    "    return model  \n"
   ]
  },
  {
   "cell_type": "markdown",
   "metadata": {
    "id": "0yN2a_3BDGmF",
    "pycharm": {
     "name": "#%% md\n"
    }
   },
   "source": [
    "Pomocna także będzie funkcja wykreślająca diagnostycznie zachowanie się funkcji straty oraz dokładności z epoki na epokę."
   ]
  },
  {
   "cell_type": "code",
   "execution_count": null,
   "metadata": {
    "id": "7P-fVavvDGmF",
    "pycharm": {
     "name": "#%%\n"
    }
   },
   "outputs": [],
   "source": [
    "def summarize_diagnostics(history):\n",
    "    # wykreślenie wykresu funkcji straty w zależności od epoki\n",
    "    plt.title('Cross Entropy Loss')\n",
    "    plt.plot(history.history['loss'], color='blue', label='train')\n",
    "    plt.plot(history.history['val_loss'], color='orange', label='test')\n",
    "    plt.legend()\n",
    "    plt.show()\n",
    "    # wykreślenie wykresu dokładności w zależności od epoki\n",
    "    plt.title('Classification Accuracy')\n",
    "    plt.plot(history.history['accuracy'], color='blue', label='train')\n",
    "    plt.plot(history.history['val_accuracy'], color='orange', label='test')\n",
    "    plt.legend()\n",
    "    plt.show()"
   ]
  },
  {
   "cell_type": "markdown",
   "metadata": {
    "id": "75RqLeQMDGmG",
    "pycharm": {
     "name": "#%% md\n"
    }
   },
   "source": [
    "Ostatecznie można zaimplementować metodę testującą zaproponowany model na wybranym zbiorze danych"
   ]
  },
  {
   "cell_type": "code",
   "execution_count": null,
   "metadata": {
    "id": "CRit18v3DGmG",
    "pycharm": {
     "name": "#%%\n"
    }
   },
   "outputs": [],
   "source": [
    "def run_test():\n",
    "    # załadowanie danych wejściowych i ich wstępna transformacja\n",
    "    trainX, trainY, testX, testY = load_dataset()\n",
    "    # skalowanie wartości pikseli\n",
    "    trainX, testX = prep_pixels(trainX, testX)\n",
    "    # wybranie modelu\n",
    "    model = define_model()\n",
    "    model.summary()\n",
    "    # trenowanie modelu\n",
    "    history = model.fit(trainX, trainY, epochs=epochs, batch_size=batch_size, validation_data=(testX, testY), verbose=0)\n",
    "\n",
    "    # ewaluacja modelu\n",
    "    _, acc = model.evaluate(testX, testY, verbose=0)\n",
    "    print('> %.3f' % (acc * 100.0))\n",
    "    # wykreślenie krzywych diagnostycznych\n",
    "    summarize_diagnostics(history)"
   ]
  },
  {
   "cell_type": "markdown",
   "metadata": {
    "id": "UdxYKLKrDGmG",
    "pycharm": {
     "name": "#%% md\n"
    }
   },
   "source": [
    "oraz ją wywołać."
   ]
  },
  {
   "cell_type": "code",
   "execution_count": null,
   "metadata": {
    "colab": {
     "base_uri": "https://localhost:8080/",
     "height": 872
    },
    "executionInfo": {
     "elapsed": 175513,
     "status": "ok",
     "timestamp": 1623017457697,
     "user": {
      "displayName": "Tomasz Neumann",
      "photoUrl": "",
      "userId": "11079917422719855706"
     },
     "user_tz": -120
    },
    "id": "Yw4b9tDCDGmG",
    "outputId": "e89f91ef-40c5-4181-d220-c85fcf3f3a3b",
    "pycharm": {
     "name": "#%%\n"
    }
   },
   "outputs": [
    {
     "name": "stdout",
     "output_type": "stream",
     "text": [
      "Model: \"sequential_4\"\n",
      "_________________________________________________________________\n",
      "Layer (type)                 Output Shape              Param #   \n",
      "=================================================================\n",
      "flatten_4 (Flatten)          (None, 3072)              0         \n",
      "_________________________________________________________________\n",
      "dense_10 (Dense)             (None, 300)               921900    \n",
      "_________________________________________________________________\n",
      "dense_11 (Dense)             (None, 100)               30100     \n",
      "_________________________________________________________________\n",
      "dense_12 (Dense)             (None, 10)                1010      \n",
      "=================================================================\n",
      "Total params: 953,010\n",
      "Trainable params: 953,010\n",
      "Non-trainable params: 0\n",
      "_________________________________________________________________\n",
      "> 53.610\n"
     ]
    },
    {
     "data": {
      "image/png": "[encoded data removed]",
      "text/plain": [
       "<Figure size 432x288 with 1 Axes>"
      ]
     },
     "metadata": {
      "needs_background": "light",
      "tags": []
     },
     "output_type": "display_data"
    },
    {
     "data": {
      "image/png": "[encoded data removed]",
      "text/plain": [
       "<Figure size 432x288 with 1 Axes>"
      ]
     },
     "metadata": {
      "needs_background": "light",
      "tags": []
     },
     "output_type": "display_data"
    },
    {
     "name": "stdout",
     "output_type": "stream",
     "text": [
      "Czas wykonania: 0:02:55 sekund\n"
     ]
    }
   ],
   "source": [
    "start_time = time.time()\n",
    "run_test()\n",
    "elapsed_time_secs = time.time() - start_time\n",
    "msg = \"Czas wykonania: %s sekund\" % timedelta(seconds=round(elapsed_time_secs))\n",
    "print(msg)"
   ]
  },
  {
   "cell_type": "markdown",
   "metadata": {
    "id": "d_-epm83DGmI",
    "pycharm": {
     "name": "#%% md\n"
    }
   },
   "source": [
    "Jak widać powyższy model jest w stanie nauczyć się zestawu danych uczących, wykazując poprawę w zestawie danych uczących do conajmniej 30 epoki. Należy jednak także zauważyć, że model ten wykazuje nadmierne dopasowanie po 20-tej epoce patrząc na wyniki zbioru testowego. Wynik ten sugeruje, że ten prosty model wymaga pewnego uregulowania w celu rozwiązania nadmiernego dopasowania  tj. overfittingu. Wyniki sugerują, że przydatne może być zbadanie technik, które spowolnią zbieżność (szybkość uczenia się) modelu.\n",
    "W celu zapobiegania overfitingowi można:\n",
    "<b> zastosować warstwę <i>Dropout()</i></b>"
   ]
  },
  {
   "cell_type": "code",
   "execution_count": 18,
   "metadata": {
    "executionInfo": {
     "elapsed": 255,
     "status": "ok",
     "timestamp": 1623018849131,
     "user": {
      "displayName": "Tomasz Neumann",
      "photoUrl": "",
      "userId": "11079917422719855706"
     },
     "user_tz": -120
    },
    "id": "JAQYMwDtDGmI",
    "pycharm": {
     "name": "#%%\n"
    }
   },
   "outputs": [],
   "source": [
    "#definicja modelu z warstwą Dropout\n",
    "def define_model():\n",
    "    model = Sequential()\n",
    "    model.add(Flatten(input_shape=[32, 32,3]))\n",
    "    model.add(Dense(300, activation='relu', kernel_initializer='he_uniform'))\n",
    "    model.add(Dropout(0.2))\n",
    "    model.add(Dense(100, activation='relu', kernel_initializer='he_uniform'))\n",
    "    model.add(Dropout(0.2))\n",
    "    model.add(Dense(10, activation='softmax'))\n",
    "    \n",
    "    opt = SGD(learning_rate=lr, momentum=0.9)\n",
    "    model.compile(optimizer=opt, loss='categorical_crossentropy', metrics=['accuracy'])\n",
    "    return model"
   ]
  },
  {
   "cell_type": "code",
   "execution_count": 19,
   "metadata": {
    "colab": {
     "base_uri": "https://localhost:8080/",
     "height": 945
    },
    "executionInfo": {
     "elapsed": 179379,
     "status": "ok",
     "timestamp": 1623019032579,
     "user": {
      "displayName": "Tomasz Neumann",
      "photoUrl": "",
      "userId": "11079917422719855706"
     },
     "user_tz": -120
    },
    "id": "aSg0rSmVDGmI",
    "outputId": "3a8f0b75-7f1a-4cc0-929a-778ebda3afcb",
    "pycharm": {
     "name": "#%%\n"
    }
   },
   "outputs": [
    {
     "name": "stdout",
     "output_type": "stream",
     "text": [
      "Model: \"sequential_5\"\n",
      "_________________________________________________________________\n",
      "Layer (type)                 Output Shape              Param #   \n",
      "=================================================================\n",
      "flatten_5 (Flatten)          (None, 3072)              0         \n",
      "_________________________________________________________________\n",
      "dense_13 (Dense)             (None, 300)               921900    \n",
      "_________________________________________________________________\n",
      "dropout (Dropout)            (None, 300)               0         \n",
      "_________________________________________________________________\n",
      "dense_14 (Dense)             (None, 100)               30100     \n",
      "_________________________________________________________________\n",
      "dropout_1 (Dropout)          (None, 100)               0         \n",
      "_________________________________________________________________\n",
      "dense_15 (Dense)             (None, 10)                1010      \n",
      "=================================================================\n",
      "Total params: 953,010\n",
      "Trainable params: 953,010\n",
      "Non-trainable params: 0\n",
      "_________________________________________________________________\n",
      "> 54.120\n"
     ]
    },
    {
     "data": {
      "image/png": "[encoded data removed]",
      "text/plain": [
       "<Figure size 432x288 with 1 Axes>"
      ]
     },
     "metadata": {
      "needs_background": "light",
      "tags": []
     },
     "output_type": "display_data"
    },
    {
     "data": {
      "image/png": "[encoded data removed]",
      "text/plain": [
       "<Figure size 432x288 with 1 Axes>"
      ]
     },
     "metadata": {
      "needs_background": "light",
      "tags": []
     },
     "output_type": "display_data"
    },
    {
     "name": "stdout",
     "output_type": "stream",
     "text": [
      "Czas wykonania: 0:02:59 sekund\n"
     ]
    }
   ],
   "source": [
    "start_time = time.time()\n",
    "run_test()\n",
    "elapsed_time_secs = time.time() - start_time\n",
    "msg = \"Czas wykonania: %s sekund\" % timedelta(seconds=round(elapsed_time_secs))\n",
    "print(msg)"
   ]
  },
  {
   "cell_type": "markdown",
   "metadata": {
    "id": "WV_e1xKODGmJ",
    "pycharm": {
     "name": "#%% md\n"
    }
   },
   "source": [
    "poprzez którą losowo usuwane są z sieci (z warstw wewnętrznych, czasami również wejściowych) pojedyncze neurony w trakcie uczenia. Ponieważ skomplikowane sieci, szczególnie dysponujące relatywnie niewielkimi ilościami danych uczących, mają tendencję do dokładnego dopasowywania się do danych, to taki sposób deregulacji zmusza je do uczenia w sposób bardziej zgeneralizowany.\n",
    "\n",
    "Można także <b> zastosować regularyzację wag</b>"
   ]
  },
  {
   "cell_type": "code",
   "execution_count": null,
   "metadata": {
    "id": "qRhEQNaDDGmJ",
    "pycharm": {
     "name": "#%%\n"
    }
   },
   "outputs": [],
   "source": [
    "#definicja modelu z regularyzacją\n",
    "from tensorflow.keras import regularizers\n",
    "def define_model():\n",
    "    model = Sequential()\n",
    "    model.add(Flatten(input_shape=[32, 32,3]))\n",
    "    model.add(Dense(300, activation='relu', kernel_initializer='he_uniform', kernel_regularizer=regularizers.l2(0.001)))\n",
    "    model.add(Dense(100, activation='relu', kernel_initializer='he_uniform', kernel_regularizer=regularizers.l2(0.001)))\n",
    "    model.add(Dense(10, activation='softmax'))\n",
    "    \n",
    "    opt = SGD(learning_rate=lr, momentum=0.9)\n",
    "    model.compile(optimizer=opt, loss='categorical_crossentropy', metrics=['accuracy'])\n",
    "    return model"
   ]
  },
  {
   "cell_type": "code",
   "execution_count": null,
   "metadata": {
    "colab": {
     "base_uri": "https://localhost:8080/",
     "height": 945
    },
    "executionInfo": {
     "elapsed": 471116,
     "status": "ok",
     "timestamp": 1622644204495,
     "user": {
      "displayName": "Tomasz Neumann",
      "photoUrl": "",
      "userId": "11079917422719855706"
     },
     "user_tz": -120
    },
    "id": "MX6ehAZhDGmK",
    "outputId": "2d6cd0e2-556a-4fae-ff87-3f4c87a1833e",
    "pycharm": {
     "name": "#%%\n"
    }
   },
   "outputs": [
    {
     "name": "stdout",
     "output_type": "stream",
     "text": [
      "Model: \"sequential_3\"\n",
      "_________________________________________________________________\n",
      "Layer (type)                 Output Shape              Param #   \n",
      "=================================================================\n",
      "flatten_3 (Flatten)          (None, 3072)              0         \n",
      "_________________________________________________________________\n",
      "dense_6 (Dense)              (None, 300)               921900    \n",
      "_________________________________________________________________\n",
      "dropout_2 (Dropout)          (None, 300)               0         \n",
      "_________________________________________________________________\n",
      "dense_7 (Dense)              (None, 100)               30100     \n",
      "_________________________________________________________________\n",
      "dropout_3 (Dropout)          (None, 100)               0         \n",
      "_________________________________________________________________\n",
      "dense_8 (Dense)              (None, 10)                1010      \n",
      "=================================================================\n",
      "Total params: 953,010\n",
      "Trainable params: 953,010\n",
      "Non-trainable params: 0\n",
      "_________________________________________________________________\n",
      "> 51.190\n"
     ]
    },
    {
     "data": {
      "image/png": "[encoded data removed]",
      "text/plain": [
       "<Figure size 432x288 with 1 Axes>"
      ]
     },
     "metadata": {
      "needs_background": "light",
      "tags": []
     },
     "output_type": "display_data"
    },
    {
     "data": {
      "image/png": "[encoded data removed]",
      "text/plain": [
       "<Figure size 432x288 with 1 Axes>"
      ]
     },
     "metadata": {
      "needs_background": "light",
      "tags": []
     },
     "output_type": "display_data"
    },
    {
     "name": "stdout",
     "output_type": "stream",
     "text": [
      "Czas wykonania: 0:07:51 sekund\n"
     ]
    }
   ],
   "source": [
    "start_time = time.time()\n",
    "run_test()\n",
    "elapsed_time_secs = time.time() - start_time\n",
    "msg = \"Czas wykonania: %s sekund\" % timedelta(seconds=round(elapsed_time_secs))\n",
    "print(msg)"
   ]
  },
  {
   "cell_type": "markdown",
   "metadata": {
    "id": "n4FxfG4aDGmK",
    "pycharm": {
     "name": "#%% md\n"
    }
   },
   "source": [
    "w tym przypadku regularyzacje $L2$ (znaną również jako zanik wagi), która dodaje \"kwadrat wielkości\" jako warunek kary do funkcji straty.\n",
    "\n",
    "Można także <b> zastosować augmentację</b> czyli rozszerzenie zbioru danych uczących jak i umożliwia to modelowi poznanie tych samych ogólnych cech, choć w bardziej uogólniony sposób."
   ]
  },
  {
   "cell_type": "code",
   "execution_count": null,
   "metadata": {
    "id": "fbH6lEAADGmL",
    "pycharm": {
     "name": "#%%\n"
    }
   },
   "outputs": [],
   "source": [
    "def run_test2():\n",
    "    trainX, trainY, testX, testY = load_dataset()\n",
    "    trainX, testX = prep_pixels(trainX, testX)\n",
    "    model = define_model()\n",
    "    #augmentacja\n",
    "    datagen = ImageDataGenerator(width_shift_range=0.1, height_shift_range=0.1, horizontal_flip=True)\n",
    "    it_train = datagen.flow(trainX, trainY, batch_size=64)\n",
    "    steps = int(trainX.shape[0] / 64)\n",
    "    history = model.fit(it_train, steps_per_epoch=steps, epochs=epochs, validation_data=(testX, testY), verbose=0)\n",
    "    _, acc = model.evaluate(testX, testY, verbose=0)\n",
    "    print('> %.3f' % (acc * 100.0))\n",
    "    summarize_diagnostics(history)\n",
    "    \n",
    "def define_model():\n",
    "    model = Sequential()\n",
    "    model.add(Flatten(input_shape=[32, 32,3]))\n",
    "    model.add(Dense(300, activation='relu', kernel_initializer='he_uniform'))\n",
    "    model.add(Dense(100, activation='relu', kernel_initializer='he_uniform'))\n",
    "    model.add(Dense(10, activation='softmax'))\n",
    "    \n",
    "    opt = SGD(learning_rate=lr, momentum=0.9)\n",
    "    model.compile(optimizer=opt, loss='categorical_crossentropy', metrics=['accuracy'])\n",
    "    return model  \n",
    "    \n",
    "    opt = SGD(learning_rate=lr, momentum=0.9)\n",
    "    model.compile(optimizer=opt, loss='categorical_crossentropy', metrics=['accuracy'])\n",
    "    return model"
   ]
  },
  {
   "cell_type": "code",
   "execution_count": null,
   "metadata": {
    "colab": {
     "base_uri": "https://localhost:8080/",
     "height": 581
    },
    "executionInfo": {
     "elapsed": 1058904,
     "status": "ok",
     "timestamp": 1622645263734,
     "user": {
      "displayName": "Tomasz Neumann",
      "photoUrl": "",
      "userId": "11079917422719855706"
     },
     "user_tz": -120
    },
    "id": "jVpp3ZUFDGmL",
    "outputId": "48f6cd71-65d2-4b09-f9e6-3daf69f30097",
    "pycharm": {
     "name": "#%%\n"
    }
   },
   "outputs": [
    {
     "name": "stdout",
     "output_type": "stream",
     "text": [
      "> 52.980\n"
     ]
    },
    {
     "data": {
      "image/png": "[encoded data removed]",
      "text/plain": [
       "<Figure size 432x288 with 1 Axes>"
      ]
     },
     "metadata": {
      "needs_background": "light",
      "tags": []
     },
     "output_type": "display_data"
    },
    {
     "data": {
      "image/png": "[encoded data removed]",
      "text/plain": [
       "<Figure size 432x288 with 1 Axes>"
      ]
     },
     "metadata": {
      "needs_background": "light",
      "tags": []
     },
     "output_type": "display_data"
    },
    {
     "name": "stdout",
     "output_type": "stream",
     "text": [
      "Czas wykonania: 0:17:38 sekund\n"
     ]
    }
   ],
   "source": [
    "from keras.preprocessing.image import ImageDataGenerator\n",
    "start_time = time.time()\n",
    "run_test2()\n",
    "elapsed_time_secs = time.time() - start_time\n",
    "msg = \"Czas wykonania: %s sekund\" % timedelta(seconds=round(elapsed_time_secs))\n",
    "print(msg)"
   ]
  },
  {
   "cell_type": "markdown",
   "metadata": {
    "id": "5soWeurHZF4O",
    "pycharm": {
     "name": "#%% md\n"
    }
   },
   "source": [
    "Biorąc pod uwagę, że zbiór danych składa się z małych zdjęć obiektów, nie należy używać augmentacji, która zbyt mocno zniekształca obrazy, aby można było zachować i wykorzystać przydatne cechy obrazów.\n",
    "\n",
    "Szeroko stosowaną techniką regularyzacji w uczeniu głębokim jest także <b>Wczesne zatrzymanie</b>, która polega na zatrzymaniu treningu, gdy wzrasta błąd uogólnienia."
   ]
  },
  {
   "cell_type": "markdown",
   "metadata": {
    "id": "VKwLbXncDGmL",
    "pycharm": {
     "name": "#%% md\n"
    }
   },
   "source": [
    "# Zadania do wykonania (Do wyboru)"
   ]
  },
  {
   "cell_type": "markdown",
   "metadata": {
    "id": "WTe9mwlaDGmL",
    "pycharm": {
     "name": "#%% md\n"
    }
   },
   "source": [
    "<p><b>Zadanie 1</b></p>\n",
    "Przetestuj zachowanie się modelu przy zastosowaniu optymalizatora RMSprop, Adam i Nadam. \n",
    "<p><b>Zadanie 2</b></p>\n",
    "Do modelu dodaj warstwy Dropout i przeprowadź eksperymenty z wartościami 0.1, 0.3 i 0.5.\n",
    "<p><b>Zadanie 3</b></p>\n",
    "Czy dodanie regularyzacji wag w warstwach Dense (kernel_regularizer) o wartościach 0.01, 0.05 i 0.1 zmieni zachowanie modelu.\n",
    "<p><b>Zadanie 4</b></p>\n",
    "Zbadaj wpływ augmentacji na wynik końcowy modelu dodając <i>rotation_range</i> lub <i>shear_range</i> lub <i>zoom_range</i>.\n",
    "<p><b>Zadanie 5</b></p>\n",
    "Zbadaj wpływ głębokości modelu na jakość jego treningu."
   ]
  },
  {
   "cell_type": "markdown",
   "metadata": {
    "cellView": "form",
    "colab": {
     "base_uri": "https://localhost:8080/",
     "height": 174
    },
    "executionInfo": {
     "elapsed": 280,
     "status": "ok",
     "timestamp": 1623018058447,
     "user": {
      "displayName": "Tomasz Neumann",
      "photoUrl": "",
      "userId": "11079917422719855706"
     },
     "user_tz": -120
    },
    "id": "VzKT1kvvDQJm",
    "outputId": "e7ed48bc-dcfa-41a7-a829-9d8989e884ea",
    "pycharm": {
     "name": "#%% md\n"
    }
   },
   "source": [
    "![stopka.svg](stopka.svg)"
   ]
  }
 ],
 "metadata": {
  "accelerator": "GPU",
  "colab": {
   "name": "lab5_ex03.ipynb",
   "provenance": []
  },
  "kernelspec": {
   "display_name": "Python 3",
   "language": "python",
   "name": "python3"
  },
  "language_info": {
   "codemirror_mode": {
    "name": "ipython",
    "version": 3
   },
   "file_extension": ".py",
   "mimetype": "text/x-python",
   "name": "python",
   "nbconvert_exporter": "python",
   "pygments_lexer": "ipython3",
   "version": "3.7.9"
  }
 },
 "nbformat": 4,
 "nbformat_minor": 1
}