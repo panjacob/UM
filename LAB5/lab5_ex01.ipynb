{
 "cells": [
  {
   "cell_type": "markdown",
   "metadata": {
    "id": "0T-lejB_9p_R",
    "pycharm": {
     "name": "#%% md\n"
    }
   },
   "source": [
    "##### AI TECH - Akademia Innowacyjnych Zastosowań Technologii Cyfrowych. Programu Operacyjnego Polska Cyfrowa na lata 2014-2020\n",
    "<hr>"
   ]
  },
  {
   "cell_type": "markdown",
   "metadata": {
    "id": "R15Ju4cM9p_V",
    "pycharm": {
     "name": "#%% md\n"
    }
   },
   "source": [
    "<br>\n",
    "<br>\n",
    "<br>\n",
    "<br>\n",
    "<br>\n",
    "<br>\n",
    "<br>\n",
    "<center>\n",
    "    <h1 style = \"font-size:48px; font-weight:normal\"><b>AI</b>-TECH</h1>\n",
    "    <br>\n",
    "<br>\n",
    "<br>\n",
    "<br>\n",
    "    <h1 style = \"font-size:24px; font-weight:normal\">Przykład 1 DO LABORATORIUM 5</h1>\n",
    "    <h1 style = \"font-size:24px\">z UCZENIA MASZYNOWEGO</h1>\n",
    "    <h1 style = \"font-size:24px\">Sztuczne sieci neuronowe</h1>\n",
    "    <h1 style = \"font-size:24px\">Tomasz Neumann</h1>\n",
    "    <h3 style = \"font-size:21px\">Klasyfikacja wieloklasowa, wieloetykietowa i wielowyjściowa w Scikit-Learn</h3>\n",
    "</center>\n",
    "<br>\n",
    "<br>\n",
    "<br>\n",
    "<br>\n",
    "<br>\n",
    "<br>\n",
    "<br>\n",
    "<br>\n",
    "<br>\n",
    "    </body>\n",
    "    </html>"
   ]
  },
  {
   "cell_type": "markdown",
   "metadata": {
    "cellView": "form",
    "colab": {
     "base_uri": "https://localhost:8080/",
     "height": 174
    },
    "executionInfo": {
     "elapsed": 227,
     "status": "ok",
     "timestamp": 1622631207165,
     "user": {
      "displayName": "Tomasz Neumann",
      "photoUrl": "",
      "userId": "11079917422719855706"
     },
     "user_tz": -120
    },
    "id": "1uq71wmY9108",
    "outputId": "ab381928-6d08-431a-feea-8ea30ff6b09f",
    "pycharm": {
     "name": "#%% md\n"
    }
   },
   "source": [
    "![stopka.svg](stopka.svg)"
   ]
  },
  {
   "cell_type": "markdown",
   "metadata": {
    "id": "_S4jpBTz9p_X",
    "pycharm": {
     "name": "#%% md\n"
    }
   },
   "source": [
    "<center>\n",
    "Projekt współfinansowany ze środków Unii Europejskiej w ramach Europejskiego Funduszu Rozwoju Regionalnego \n",
    "Program Operacyjny Polska Cyfrowa na lata 2014-2020,\n",
    "Oś Priorytetowa nr 3 \"Cyfrowe kompetencje społeczeństwa\" Działanie  nr 3.2 \"Innowacyjne rozwiązania na rzecz aktywizacji cyfrowej\" \n",
    "Tytuł projektu:  „Akademia Innowacyjnych Zastosowań Technologii Cyfrowych (AI Tech)”\n",
    "    </center>"
   ]
  },
  {
   "cell_type": "markdown",
   "metadata": {
    "id": "Wc9QkJhn9p_Y",
    "pycharm": {
     "name": "#%% md\n"
    }
   },
   "source": [
    "<hr>"
   ]
  },
  {
   "cell_type": "markdown",
   "metadata": {
    "id": "1MbDlPPM9p_Z",
    "pycharm": {
     "name": "#%% md\n"
    }
   },
   "source": [
    "# 5. Przykład 1"
   ]
  },
  {
   "cell_type": "markdown",
   "metadata": {
    "id": "KdrPUf9E9p_a",
    "pycharm": {
     "name": "#%% md\n"
    }
   },
   "source": [
    "Klasyfikatory wieloklasowe (wielomianowe) służą do rozróżniania większej liczby klas. Niektóre algorytmy (takie jak klasyfikatory SGD, klasyfikatory losowego lasu lub naiwne klasyfikatory bayesowskie) są w stanie natywnie zajmować się wieloma klasami naraz. W przypadku wektorów nośnych czy klasyfikatorów regresji logistycznej mają charakter typowo binarny. Istnieje jednak wiele strategii, dzięki którym możemy przeprowadzać klasyfikację wieloklasową przy użyciu wielu klasyfikatorów binarnych.\n",
    "\n",
    "Jednym ze sposobów stworzenia systemu klasyfikującego 10 klas obrazów cyfr (od 0 do 9) polega na wyuczeniu 10 klasyfikatorów binarnych, po jednym na każdą cyfrę. Następnie na etapie klasyfikacji obrazu uzyskujemy wynik z każdego klasyfikatora dla danej cyfry i wybieramy klasę, która uzyskała najwyższy wynik. Jest to tzw. strategia jeden przeciw reszcie (<i>one-versus-rest — OvR</i> lub  <i>one-versus-all — OvA</i>). Jeszcze innym rozwiązaniem jest wyuczenie klasyfikatora binarnego dla każdej pary cyfr: jeden rozpoznaje zera i jedynki, drugi — zera i dwójki, jeszcze inny — jedynki i dwójki itd. Jest to strategia jeden przeciw jednemu (<i>one-versus-one — OvO</i>). Jeśli masz do czynienia z $N$ klasami, musisz wytrenować $N\\times(N–1)/2$ klasyfikatorów. W przypadku zestawu danych MNIST oznacza to wyuczenie\n",
    "45 klasyfikatorów binarnych.\n",
    "\n",
    "Zaletą strategii <i>OvO</i> jest fakt, że każdy klasyfikator musi zostać wytrenowany jedynie wobec części zbioru uczącego składającego się z obydwu porównywanych klas. Pewne algorytmy nie skalują się zbyt dobrze do rozmiarów zbioru uczącego np. maszyna wektórów nośnych. W takim przypadku preferowane jest stosowanie strategii OvO, ponieważ uczenie wielu klasyfikatorów wobec niewielkich zbiorów danych przebiega szybciej niż trenowanie kilku klasyfikatorów wobec dużych zbiorów przykładów. Jednakże w przypadku większości klasyfikatorów binarnych zalecane jest korzystanie ze strategii <i>OvR</i>.\n",
    "\n",
    "Moduł Scikit-Learn pozwala zastosować strategię <i>OvO</i> lub <i>OvR</i>, poprzez wykorzystanie klas <i>OneVsOneClassifier</i> lub <i>OneVsRestClassifier</i>. Wystarczy stworzyć ich wystąpienie i przekazać konstruktorowi klasyfikator (nie musi być on nawet binarny). Poniższy kod przykładu stworzy klasyfikator wieloklasowy (na podstawie klasyfikatora <i>SVC</i>) przy użyciu strategii <i>OvR</i>."
   ]
  },
  {
   "cell_type": "code",
   "execution_count": 2,
   "metadata": {
    "id": "_UVsDyfU9p_b",
    "pycharm": {
     "name": "#%%\n"
    }
   },
   "outputs": [],
   "source": [
    "#import bibliotek i danych\n",
    "import keras\n",
    "import tensorflow as tf\n",
    "import numpy as np\n",
    "\n",
    "(X_train, y_train), (X_test, y_test) = tf.keras.datasets.mnist.load_data(path='mnist.npz')\n",
    "y_train = y_train.astype(np.uint8)\n",
    "y_test = y_test.astype(np.uint8)\n",
    "X_train = X_train.reshape(X_train.shape[0], X_train.shape[1] * X_train.shape[2])\n",
    "X_test = X_test.reshape(X_test.shape[0], X_test.shape[1] * X_test.shape[2])\n",
    "#zainicjowanie modelu OvR\n",
    "#### UWAGA: trening trwa bardzo długo dlatego zaleca się jego wykonanie poza zajęciami i sprawdzenie rezultatów\n",
    "#### W celu testów odkomentuj poniższe linijki\n",
    "#from sklearn.multiclass import OneVsRestClassifier\n",
    "#from sklearn import svm\n",
    "#ovr_clf = OneVsRestClassifier(svm.SVC())\n",
    "#ovr_clf.fit(X_train, y_train)\n",
    "#print(ovr_clf.predict(X_train))"
   ]
  },
  {
   "cell_type": "markdown",
   "metadata": {
    "id": "4BJRX33F9p_d",
    "pycharm": {
     "name": "#%% md\n"
    }
   },
   "source": [
    "Podobnie można postąpić z klasyfikatorem SGDClassifier"
   ]
  },
  {
   "cell_type": "code",
   "execution_count": 4,
   "metadata": {
    "colab": {
     "base_uri": "https://localhost:8080/"
    },
    "executionInfo": {
     "elapsed": 154495,
     "status": "ok",
     "timestamp": 1622632687773,
     "user": {
      "displayName": "Tomasz Neumann",
      "photoUrl": "",
      "userId": "11079917422719855706"
     },
     "user_tz": -120
    },
    "id": "TsMxGGPN9p_f",
    "outputId": "2cc6e5aa-3242-4cb2-e08f-e8d20ac09fe8",
    "pycharm": {
     "name": "#%%\n"
    }
   },
   "outputs": [
    {
     "ename": "KeyboardInterrupt",
     "evalue": "",
     "output_type": "error",
     "traceback": [
      "\u001B[1;31m---------------------------------------------------------------------------\u001B[0m",
      "\u001B[1;31mKeyboardInterrupt\u001B[0m                         Traceback (most recent call last)",
      "Input \u001B[1;32mIn [4]\u001B[0m, in \u001B[0;36m<cell line: 4>\u001B[1;34m()\u001B[0m\n\u001B[0;32m      1\u001B[0m \u001B[38;5;28;01mfrom\u001B[39;00m \u001B[38;5;21;01msklearn\u001B[39;00m\u001B[38;5;21;01m.\u001B[39;00m\u001B[38;5;21;01mlinear_model\u001B[39;00m \u001B[38;5;28;01mimport\u001B[39;00m SGDClassifier\n\u001B[0;32m      3\u001B[0m sgd_clf \u001B[38;5;241m=\u001B[39m SGDClassifier(n_jobs\u001B[38;5;241m=\u001B[39m\u001B[38;5;241m-\u001B[39m\u001B[38;5;241m1\u001B[39m)\n\u001B[1;32m----> 4\u001B[0m \u001B[43msgd_clf\u001B[49m\u001B[38;5;241;43m.\u001B[39;49m\u001B[43mfit\u001B[49m\u001B[43m(\u001B[49m\u001B[43mX_train\u001B[49m\u001B[43m,\u001B[49m\u001B[43m \u001B[49m\u001B[43my_train\u001B[49m\u001B[43m)\u001B[49m\n\u001B[0;32m      5\u001B[0m \u001B[38;5;28mprint\u001B[39m(sgd_clf\u001B[38;5;241m.\u001B[39mpredict(X_train))\n",
      "File \u001B[1;32mC:\\Projekty SSD\\UM\\venv\\lib\\site-packages\\sklearn\\linear_model\\_stochastic_gradient.py:883\u001B[0m, in \u001B[0;36mBaseSGDClassifier.fit\u001B[1;34m(self, X, y, coef_init, intercept_init, sample_weight)\u001B[0m\n\u001B[0;32m    855\u001B[0m \u001B[38;5;28;01mdef\u001B[39;00m \u001B[38;5;21mfit\u001B[39m(\u001B[38;5;28mself\u001B[39m, X, y, coef_init\u001B[38;5;241m=\u001B[39m\u001B[38;5;28;01mNone\u001B[39;00m, intercept_init\u001B[38;5;241m=\u001B[39m\u001B[38;5;28;01mNone\u001B[39;00m, sample_weight\u001B[38;5;241m=\u001B[39m\u001B[38;5;28;01mNone\u001B[39;00m):\n\u001B[0;32m    856\u001B[0m     \u001B[38;5;124;03m\"\"\"Fit linear model with Stochastic Gradient Descent.\u001B[39;00m\n\u001B[0;32m    857\u001B[0m \n\u001B[0;32m    858\u001B[0m \u001B[38;5;124;03m    Parameters\u001B[39;00m\n\u001B[1;32m   (...)\u001B[0m\n\u001B[0;32m    881\u001B[0m \u001B[38;5;124;03m        Returns an instance of self.\u001B[39;00m\n\u001B[0;32m    882\u001B[0m \u001B[38;5;124;03m    \"\"\"\u001B[39;00m\n\u001B[1;32m--> 883\u001B[0m     \u001B[38;5;28;01mreturn\u001B[39;00m \u001B[38;5;28;43mself\u001B[39;49m\u001B[38;5;241;43m.\u001B[39;49m\u001B[43m_fit\u001B[49m\u001B[43m(\u001B[49m\n\u001B[0;32m    884\u001B[0m \u001B[43m        \u001B[49m\u001B[43mX\u001B[49m\u001B[43m,\u001B[49m\n\u001B[0;32m    885\u001B[0m \u001B[43m        \u001B[49m\u001B[43my\u001B[49m\u001B[43m,\u001B[49m\n\u001B[0;32m    886\u001B[0m \u001B[43m        \u001B[49m\u001B[43malpha\u001B[49m\u001B[38;5;241;43m=\u001B[39;49m\u001B[38;5;28;43mself\u001B[39;49m\u001B[38;5;241;43m.\u001B[39;49m\u001B[43malpha\u001B[49m\u001B[43m,\u001B[49m\n\u001B[0;32m    887\u001B[0m \u001B[43m        \u001B[49m\u001B[43mC\u001B[49m\u001B[38;5;241;43m=\u001B[39;49m\u001B[38;5;241;43m1.0\u001B[39;49m\u001B[43m,\u001B[49m\n\u001B[0;32m    888\u001B[0m \u001B[43m        \u001B[49m\u001B[43mloss\u001B[49m\u001B[38;5;241;43m=\u001B[39;49m\u001B[38;5;28;43mself\u001B[39;49m\u001B[38;5;241;43m.\u001B[39;49m\u001B[43mloss\u001B[49m\u001B[43m,\u001B[49m\n\u001B[0;32m    889\u001B[0m \u001B[43m        \u001B[49m\u001B[43mlearning_rate\u001B[49m\u001B[38;5;241;43m=\u001B[39;49m\u001B[38;5;28;43mself\u001B[39;49m\u001B[38;5;241;43m.\u001B[39;49m\u001B[43mlearning_rate\u001B[49m\u001B[43m,\u001B[49m\n\u001B[0;32m    890\u001B[0m \u001B[43m        \u001B[49m\u001B[43mcoef_init\u001B[49m\u001B[38;5;241;43m=\u001B[39;49m\u001B[43mcoef_init\u001B[49m\u001B[43m,\u001B[49m\n\u001B[0;32m    891\u001B[0m \u001B[43m        \u001B[49m\u001B[43mintercept_init\u001B[49m\u001B[38;5;241;43m=\u001B[39;49m\u001B[43mintercept_init\u001B[49m\u001B[43m,\u001B[49m\n\u001B[0;32m    892\u001B[0m \u001B[43m        \u001B[49m\u001B[43msample_weight\u001B[49m\u001B[38;5;241;43m=\u001B[39;49m\u001B[43msample_weight\u001B[49m\u001B[43m,\u001B[49m\n\u001B[0;32m    893\u001B[0m \u001B[43m    \u001B[49m\u001B[43m)\u001B[49m\n",
      "File \u001B[1;32mC:\\Projekty SSD\\UM\\venv\\lib\\site-packages\\sklearn\\linear_model\\_stochastic_gradient.py:677\u001B[0m, in \u001B[0;36mBaseSGDClassifier._fit\u001B[1;34m(self, X, y, alpha, C, loss, learning_rate, coef_init, intercept_init, sample_weight)\u001B[0m\n\u001B[0;32m    674\u001B[0m \u001B[38;5;66;03m# Clear iteration count for multiple call to fit.\u001B[39;00m\n\u001B[0;32m    675\u001B[0m \u001B[38;5;28mself\u001B[39m\u001B[38;5;241m.\u001B[39mt_ \u001B[38;5;241m=\u001B[39m \u001B[38;5;241m1.0\u001B[39m\n\u001B[1;32m--> 677\u001B[0m \u001B[38;5;28;43mself\u001B[39;49m\u001B[38;5;241;43m.\u001B[39;49m\u001B[43m_partial_fit\u001B[49m\u001B[43m(\u001B[49m\n\u001B[0;32m    678\u001B[0m \u001B[43m    \u001B[49m\u001B[43mX\u001B[49m\u001B[43m,\u001B[49m\n\u001B[0;32m    679\u001B[0m \u001B[43m    \u001B[49m\u001B[43my\u001B[49m\u001B[43m,\u001B[49m\n\u001B[0;32m    680\u001B[0m \u001B[43m    \u001B[49m\u001B[43malpha\u001B[49m\u001B[43m,\u001B[49m\n\u001B[0;32m    681\u001B[0m \u001B[43m    \u001B[49m\u001B[43mC\u001B[49m\u001B[43m,\u001B[49m\n\u001B[0;32m    682\u001B[0m \u001B[43m    \u001B[49m\u001B[43mloss\u001B[49m\u001B[43m,\u001B[49m\n\u001B[0;32m    683\u001B[0m \u001B[43m    \u001B[49m\u001B[43mlearning_rate\u001B[49m\u001B[43m,\u001B[49m\n\u001B[0;32m    684\u001B[0m \u001B[43m    \u001B[49m\u001B[38;5;28;43mself\u001B[39;49m\u001B[38;5;241;43m.\u001B[39;49m\u001B[43mmax_iter\u001B[49m\u001B[43m,\u001B[49m\n\u001B[0;32m    685\u001B[0m \u001B[43m    \u001B[49m\u001B[43mclasses\u001B[49m\u001B[43m,\u001B[49m\n\u001B[0;32m    686\u001B[0m \u001B[43m    \u001B[49m\u001B[43msample_weight\u001B[49m\u001B[43m,\u001B[49m\n\u001B[0;32m    687\u001B[0m \u001B[43m    \u001B[49m\u001B[43mcoef_init\u001B[49m\u001B[43m,\u001B[49m\n\u001B[0;32m    688\u001B[0m \u001B[43m    \u001B[49m\u001B[43mintercept_init\u001B[49m\u001B[43m,\u001B[49m\n\u001B[0;32m    689\u001B[0m \u001B[43m\u001B[49m\u001B[43m)\u001B[49m\n\u001B[0;32m    691\u001B[0m \u001B[38;5;28;01mif\u001B[39;00m (\n\u001B[0;32m    692\u001B[0m     \u001B[38;5;28mself\u001B[39m\u001B[38;5;241m.\u001B[39mtol \u001B[38;5;129;01mis\u001B[39;00m \u001B[38;5;129;01mnot\u001B[39;00m \u001B[38;5;28;01mNone\u001B[39;00m\n\u001B[0;32m    693\u001B[0m     \u001B[38;5;129;01mand\u001B[39;00m \u001B[38;5;28mself\u001B[39m\u001B[38;5;241m.\u001B[39mtol \u001B[38;5;241m>\u001B[39m \u001B[38;5;241m-\u001B[39mnp\u001B[38;5;241m.\u001B[39minf\n\u001B[0;32m    694\u001B[0m     \u001B[38;5;129;01mand\u001B[39;00m \u001B[38;5;28mself\u001B[39m\u001B[38;5;241m.\u001B[39mn_iter_ \u001B[38;5;241m==\u001B[39m \u001B[38;5;28mself\u001B[39m\u001B[38;5;241m.\u001B[39mmax_iter\n\u001B[0;32m    695\u001B[0m ):\n\u001B[0;32m    696\u001B[0m     warnings\u001B[38;5;241m.\u001B[39mwarn(\n\u001B[0;32m    697\u001B[0m         \u001B[38;5;124m\"\u001B[39m\u001B[38;5;124mMaximum number of iteration reached before \u001B[39m\u001B[38;5;124m\"\u001B[39m\n\u001B[0;32m    698\u001B[0m         \u001B[38;5;124m\"\u001B[39m\u001B[38;5;124mconvergence. Consider increasing max_iter to \u001B[39m\u001B[38;5;124m\"\u001B[39m\n\u001B[0;32m    699\u001B[0m         \u001B[38;5;124m\"\u001B[39m\u001B[38;5;124mimprove the fit.\u001B[39m\u001B[38;5;124m\"\u001B[39m,\n\u001B[0;32m    700\u001B[0m         ConvergenceWarning,\n\u001B[0;32m    701\u001B[0m     )\n",
      "File \u001B[1;32mC:\\Projekty SSD\\UM\\venv\\lib\\site-packages\\sklearn\\linear_model\\_stochastic_gradient.py:610\u001B[0m, in \u001B[0;36mBaseSGDClassifier._partial_fit\u001B[1;34m(self, X, y, alpha, C, loss, learning_rate, max_iter, classes, sample_weight, coef_init, intercept_init)\u001B[0m\n\u001B[0;32m    608\u001B[0m \u001B[38;5;66;03m# delegate to concrete training procedure\u001B[39;00m\n\u001B[0;32m    609\u001B[0m \u001B[38;5;28;01mif\u001B[39;00m n_classes \u001B[38;5;241m>\u001B[39m \u001B[38;5;241m2\u001B[39m:\n\u001B[1;32m--> 610\u001B[0m     \u001B[38;5;28;43mself\u001B[39;49m\u001B[38;5;241;43m.\u001B[39;49m\u001B[43m_fit_multiclass\u001B[49m\u001B[43m(\u001B[49m\n\u001B[0;32m    611\u001B[0m \u001B[43m        \u001B[49m\u001B[43mX\u001B[49m\u001B[43m,\u001B[49m\n\u001B[0;32m    612\u001B[0m \u001B[43m        \u001B[49m\u001B[43my\u001B[49m\u001B[43m,\u001B[49m\n\u001B[0;32m    613\u001B[0m \u001B[43m        \u001B[49m\u001B[43malpha\u001B[49m\u001B[38;5;241;43m=\u001B[39;49m\u001B[43malpha\u001B[49m\u001B[43m,\u001B[49m\n\u001B[0;32m    614\u001B[0m \u001B[43m        \u001B[49m\u001B[43mC\u001B[49m\u001B[38;5;241;43m=\u001B[39;49m\u001B[43mC\u001B[49m\u001B[43m,\u001B[49m\n\u001B[0;32m    615\u001B[0m \u001B[43m        \u001B[49m\u001B[43mlearning_rate\u001B[49m\u001B[38;5;241;43m=\u001B[39;49m\u001B[43mlearning_rate\u001B[49m\u001B[43m,\u001B[49m\n\u001B[0;32m    616\u001B[0m \u001B[43m        \u001B[49m\u001B[43msample_weight\u001B[49m\u001B[38;5;241;43m=\u001B[39;49m\u001B[43msample_weight\u001B[49m\u001B[43m,\u001B[49m\n\u001B[0;32m    617\u001B[0m \u001B[43m        \u001B[49m\u001B[43mmax_iter\u001B[49m\u001B[38;5;241;43m=\u001B[39;49m\u001B[43mmax_iter\u001B[49m\u001B[43m,\u001B[49m\n\u001B[0;32m    618\u001B[0m \u001B[43m    \u001B[49m\u001B[43m)\u001B[49m\n\u001B[0;32m    619\u001B[0m \u001B[38;5;28;01melif\u001B[39;00m n_classes \u001B[38;5;241m==\u001B[39m \u001B[38;5;241m2\u001B[39m:\n\u001B[0;32m    620\u001B[0m     \u001B[38;5;28mself\u001B[39m\u001B[38;5;241m.\u001B[39m_fit_binary(\n\u001B[0;32m    621\u001B[0m         X,\n\u001B[0;32m    622\u001B[0m         y,\n\u001B[1;32m   (...)\u001B[0m\n\u001B[0;32m    627\u001B[0m         max_iter\u001B[38;5;241m=\u001B[39mmax_iter,\n\u001B[0;32m    628\u001B[0m     )\n",
      "File \u001B[1;32mC:\\Projekty SSD\\UM\\venv\\lib\\site-packages\\sklearn\\linear_model\\_stochastic_gradient.py:754\u001B[0m, in \u001B[0;36mBaseSGDClassifier._fit_multiclass\u001B[1;34m(self, X, y, alpha, C, learning_rate, sample_weight, max_iter)\u001B[0m\n\u001B[0;32m    752\u001B[0m random_state \u001B[38;5;241m=\u001B[39m check_random_state(\u001B[38;5;28mself\u001B[39m\u001B[38;5;241m.\u001B[39mrandom_state)\n\u001B[0;32m    753\u001B[0m seeds \u001B[38;5;241m=\u001B[39m random_state\u001B[38;5;241m.\u001B[39mrandint(MAX_INT, size\u001B[38;5;241m=\u001B[39m\u001B[38;5;28mlen\u001B[39m(\u001B[38;5;28mself\u001B[39m\u001B[38;5;241m.\u001B[39mclasses_))\n\u001B[1;32m--> 754\u001B[0m result \u001B[38;5;241m=\u001B[39m \u001B[43mParallel\u001B[49m\u001B[43m(\u001B[49m\n\u001B[0;32m    755\u001B[0m \u001B[43m    \u001B[49m\u001B[43mn_jobs\u001B[49m\u001B[38;5;241;43m=\u001B[39;49m\u001B[38;5;28;43mself\u001B[39;49m\u001B[38;5;241;43m.\u001B[39;49m\u001B[43mn_jobs\u001B[49m\u001B[43m,\u001B[49m\n\u001B[0;32m    756\u001B[0m \u001B[43m    \u001B[49m\u001B[43mverbose\u001B[49m\u001B[38;5;241;43m=\u001B[39;49m\u001B[38;5;28;43mself\u001B[39;49m\u001B[38;5;241;43m.\u001B[39;49m\u001B[43mverbose\u001B[49m\u001B[43m,\u001B[49m\n\u001B[0;32m    757\u001B[0m \u001B[43m    \u001B[49m\u001B[38;5;241;43m*\u001B[39;49m\u001B[38;5;241;43m*\u001B[39;49m\u001B[43m_joblib_parallel_args\u001B[49m\u001B[43m(\u001B[49m\u001B[43mrequire\u001B[49m\u001B[38;5;241;43m=\u001B[39;49m\u001B[38;5;124;43m\"\u001B[39;49m\u001B[38;5;124;43msharedmem\u001B[39;49m\u001B[38;5;124;43m\"\u001B[39;49m\u001B[43m)\u001B[49m\u001B[43m,\u001B[49m\n\u001B[0;32m    758\u001B[0m \u001B[43m\u001B[49m\u001B[43m)\u001B[49m\u001B[43m(\u001B[49m\n\u001B[0;32m    759\u001B[0m \u001B[43m    \u001B[49m\u001B[43mdelayed\u001B[49m\u001B[43m(\u001B[49m\u001B[43mfit_binary\u001B[49m\u001B[43m)\u001B[49m\u001B[43m(\u001B[49m\n\u001B[0;32m    760\u001B[0m \u001B[43m        \u001B[49m\u001B[38;5;28;43mself\u001B[39;49m\u001B[43m,\u001B[49m\n\u001B[0;32m    761\u001B[0m \u001B[43m        \u001B[49m\u001B[43mi\u001B[49m\u001B[43m,\u001B[49m\n\u001B[0;32m    762\u001B[0m \u001B[43m        \u001B[49m\u001B[43mX\u001B[49m\u001B[43m,\u001B[49m\n\u001B[0;32m    763\u001B[0m \u001B[43m        \u001B[49m\u001B[43my\u001B[49m\u001B[43m,\u001B[49m\n\u001B[0;32m    764\u001B[0m \u001B[43m        \u001B[49m\u001B[43malpha\u001B[49m\u001B[43m,\u001B[49m\n\u001B[0;32m    765\u001B[0m \u001B[43m        \u001B[49m\u001B[43mC\u001B[49m\u001B[43m,\u001B[49m\n\u001B[0;32m    766\u001B[0m \u001B[43m        \u001B[49m\u001B[43mlearning_rate\u001B[49m\u001B[43m,\u001B[49m\n\u001B[0;32m    767\u001B[0m \u001B[43m        \u001B[49m\u001B[43mmax_iter\u001B[49m\u001B[43m,\u001B[49m\n\u001B[0;32m    768\u001B[0m \u001B[43m        \u001B[49m\u001B[38;5;28;43mself\u001B[39;49m\u001B[38;5;241;43m.\u001B[39;49m\u001B[43m_expanded_class_weight\u001B[49m\u001B[43m[\u001B[49m\u001B[43mi\u001B[49m\u001B[43m]\u001B[49m\u001B[43m,\u001B[49m\n\u001B[0;32m    769\u001B[0m \u001B[43m        \u001B[49m\u001B[38;5;241;43m1.0\u001B[39;49m\u001B[43m,\u001B[49m\n\u001B[0;32m    770\u001B[0m \u001B[43m        \u001B[49m\u001B[43msample_weight\u001B[49m\u001B[43m,\u001B[49m\n\u001B[0;32m    771\u001B[0m \u001B[43m        \u001B[49m\u001B[43mvalidation_mask\u001B[49m\u001B[38;5;241;43m=\u001B[39;49m\u001B[43mvalidation_mask\u001B[49m\u001B[43m,\u001B[49m\n\u001B[0;32m    772\u001B[0m \u001B[43m        \u001B[49m\u001B[43mrandom_state\u001B[49m\u001B[38;5;241;43m=\u001B[39;49m\u001B[43mseed\u001B[49m\u001B[43m,\u001B[49m\n\u001B[0;32m    773\u001B[0m \u001B[43m    \u001B[49m\u001B[43m)\u001B[49m\n\u001B[0;32m    774\u001B[0m \u001B[43m    \u001B[49m\u001B[38;5;28;43;01mfor\u001B[39;49;00m\u001B[43m \u001B[49m\u001B[43mi\u001B[49m\u001B[43m,\u001B[49m\u001B[43m \u001B[49m\u001B[43mseed\u001B[49m\u001B[43m \u001B[49m\u001B[38;5;129;43;01min\u001B[39;49;00m\u001B[43m \u001B[49m\u001B[38;5;28;43menumerate\u001B[39;49m\u001B[43m(\u001B[49m\u001B[43mseeds\u001B[49m\u001B[43m)\u001B[49m\n\u001B[0;32m    775\u001B[0m \u001B[43m\u001B[49m\u001B[43m)\u001B[49m\n\u001B[0;32m    777\u001B[0m \u001B[38;5;66;03m# take the maximum of n_iter_ over every binary fit\u001B[39;00m\n\u001B[0;32m    778\u001B[0m n_iter_ \u001B[38;5;241m=\u001B[39m \u001B[38;5;241m0.0\u001B[39m\n",
      "File \u001B[1;32mC:\\Projekty SSD\\UM\\venv\\lib\\site-packages\\joblib\\parallel.py:1056\u001B[0m, in \u001B[0;36mParallel.__call__\u001B[1;34m(self, iterable)\u001B[0m\n\u001B[0;32m   1053\u001B[0m     \u001B[38;5;28mself\u001B[39m\u001B[38;5;241m.\u001B[39m_iterating \u001B[38;5;241m=\u001B[39m \u001B[38;5;28;01mFalse\u001B[39;00m\n\u001B[0;32m   1055\u001B[0m \u001B[38;5;28;01mwith\u001B[39;00m \u001B[38;5;28mself\u001B[39m\u001B[38;5;241m.\u001B[39m_backend\u001B[38;5;241m.\u001B[39mretrieval_context():\n\u001B[1;32m-> 1056\u001B[0m     \u001B[38;5;28;43mself\u001B[39;49m\u001B[38;5;241;43m.\u001B[39;49m\u001B[43mretrieve\u001B[49m\u001B[43m(\u001B[49m\u001B[43m)\u001B[49m\n\u001B[0;32m   1057\u001B[0m \u001B[38;5;66;03m# Make sure that we get a last message telling us we are done\u001B[39;00m\n\u001B[0;32m   1058\u001B[0m elapsed_time \u001B[38;5;241m=\u001B[39m time\u001B[38;5;241m.\u001B[39mtime() \u001B[38;5;241m-\u001B[39m \u001B[38;5;28mself\u001B[39m\u001B[38;5;241m.\u001B[39m_start_time\n",
      "File \u001B[1;32mC:\\Projekty SSD\\UM\\venv\\lib\\site-packages\\joblib\\parallel.py:935\u001B[0m, in \u001B[0;36mParallel.retrieve\u001B[1;34m(self)\u001B[0m\n\u001B[0;32m    933\u001B[0m \u001B[38;5;28;01mtry\u001B[39;00m:\n\u001B[0;32m    934\u001B[0m     \u001B[38;5;28;01mif\u001B[39;00m \u001B[38;5;28mgetattr\u001B[39m(\u001B[38;5;28mself\u001B[39m\u001B[38;5;241m.\u001B[39m_backend, \u001B[38;5;124m'\u001B[39m\u001B[38;5;124msupports_timeout\u001B[39m\u001B[38;5;124m'\u001B[39m, \u001B[38;5;28;01mFalse\u001B[39;00m):\n\u001B[1;32m--> 935\u001B[0m         \u001B[38;5;28mself\u001B[39m\u001B[38;5;241m.\u001B[39m_output\u001B[38;5;241m.\u001B[39mextend(\u001B[43mjob\u001B[49m\u001B[38;5;241;43m.\u001B[39;49m\u001B[43mget\u001B[49m\u001B[43m(\u001B[49m\u001B[43mtimeout\u001B[49m\u001B[38;5;241;43m=\u001B[39;49m\u001B[38;5;28;43mself\u001B[39;49m\u001B[38;5;241;43m.\u001B[39;49m\u001B[43mtimeout\u001B[49m\u001B[43m)\u001B[49m)\n\u001B[0;32m    936\u001B[0m     \u001B[38;5;28;01melse\u001B[39;00m:\n\u001B[0;32m    937\u001B[0m         \u001B[38;5;28mself\u001B[39m\u001B[38;5;241m.\u001B[39m_output\u001B[38;5;241m.\u001B[39mextend(job\u001B[38;5;241m.\u001B[39mget())\n",
      "File \u001B[1;32m~\\AppData\\Local\\Programs\\Python\\Python310\\lib\\multiprocessing\\pool.py:765\u001B[0m, in \u001B[0;36mApplyResult.get\u001B[1;34m(self, timeout)\u001B[0m\n\u001B[0;32m    764\u001B[0m \u001B[38;5;28;01mdef\u001B[39;00m \u001B[38;5;21mget\u001B[39m(\u001B[38;5;28mself\u001B[39m, timeout\u001B[38;5;241m=\u001B[39m\u001B[38;5;28;01mNone\u001B[39;00m):\n\u001B[1;32m--> 765\u001B[0m     \u001B[38;5;28;43mself\u001B[39;49m\u001B[38;5;241;43m.\u001B[39;49m\u001B[43mwait\u001B[49m\u001B[43m(\u001B[49m\u001B[43mtimeout\u001B[49m\u001B[43m)\u001B[49m\n\u001B[0;32m    766\u001B[0m     \u001B[38;5;28;01mif\u001B[39;00m \u001B[38;5;129;01mnot\u001B[39;00m \u001B[38;5;28mself\u001B[39m\u001B[38;5;241m.\u001B[39mready():\n\u001B[0;32m    767\u001B[0m         \u001B[38;5;28;01mraise\u001B[39;00m \u001B[38;5;167;01mTimeoutError\u001B[39;00m\n",
      "File \u001B[1;32m~\\AppData\\Local\\Programs\\Python\\Python310\\lib\\multiprocessing\\pool.py:762\u001B[0m, in \u001B[0;36mApplyResult.wait\u001B[1;34m(self, timeout)\u001B[0m\n\u001B[0;32m    761\u001B[0m \u001B[38;5;28;01mdef\u001B[39;00m \u001B[38;5;21mwait\u001B[39m(\u001B[38;5;28mself\u001B[39m, timeout\u001B[38;5;241m=\u001B[39m\u001B[38;5;28;01mNone\u001B[39;00m):\n\u001B[1;32m--> 762\u001B[0m     \u001B[38;5;28;43mself\u001B[39;49m\u001B[38;5;241;43m.\u001B[39;49m\u001B[43m_event\u001B[49m\u001B[38;5;241;43m.\u001B[39;49m\u001B[43mwait\u001B[49m\u001B[43m(\u001B[49m\u001B[43mtimeout\u001B[49m\u001B[43m)\u001B[49m\n",
      "File \u001B[1;32m~\\AppData\\Local\\Programs\\Python\\Python310\\lib\\threading.py:600\u001B[0m, in \u001B[0;36mEvent.wait\u001B[1;34m(self, timeout)\u001B[0m\n\u001B[0;32m    598\u001B[0m signaled \u001B[38;5;241m=\u001B[39m \u001B[38;5;28mself\u001B[39m\u001B[38;5;241m.\u001B[39m_flag\n\u001B[0;32m    599\u001B[0m \u001B[38;5;28;01mif\u001B[39;00m \u001B[38;5;129;01mnot\u001B[39;00m signaled:\n\u001B[1;32m--> 600\u001B[0m     signaled \u001B[38;5;241m=\u001B[39m \u001B[38;5;28;43mself\u001B[39;49m\u001B[38;5;241;43m.\u001B[39;49m\u001B[43m_cond\u001B[49m\u001B[38;5;241;43m.\u001B[39;49m\u001B[43mwait\u001B[49m\u001B[43m(\u001B[49m\u001B[43mtimeout\u001B[49m\u001B[43m)\u001B[49m\n\u001B[0;32m    601\u001B[0m \u001B[38;5;28;01mreturn\u001B[39;00m signaled\n",
      "File \u001B[1;32m~\\AppData\\Local\\Programs\\Python\\Python310\\lib\\threading.py:320\u001B[0m, in \u001B[0;36mCondition.wait\u001B[1;34m(self, timeout)\u001B[0m\n\u001B[0;32m    318\u001B[0m \u001B[38;5;28;01mtry\u001B[39;00m:    \u001B[38;5;66;03m# restore state no matter what (e.g., KeyboardInterrupt)\u001B[39;00m\n\u001B[0;32m    319\u001B[0m     \u001B[38;5;28;01mif\u001B[39;00m timeout \u001B[38;5;129;01mis\u001B[39;00m \u001B[38;5;28;01mNone\u001B[39;00m:\n\u001B[1;32m--> 320\u001B[0m         \u001B[43mwaiter\u001B[49m\u001B[38;5;241;43m.\u001B[39;49m\u001B[43macquire\u001B[49m\u001B[43m(\u001B[49m\u001B[43m)\u001B[49m\n\u001B[0;32m    321\u001B[0m         gotit \u001B[38;5;241m=\u001B[39m \u001B[38;5;28;01mTrue\u001B[39;00m\n\u001B[0;32m    322\u001B[0m     \u001B[38;5;28;01melse\u001B[39;00m:\n",
      "\u001B[1;31mKeyboardInterrupt\u001B[0m: "
     ]
    }
   ],
   "source": [
    "from sklearn.linear_model import SGDClassifier\n",
    "\n",
    "sgd_clf = SGDClassifier(n_jobs=-1)\n",
    "sgd_clf.fit(X_train, y_train)\n",
    "print(sgd_clf.predict(X_train))"
   ]
  },
  {
   "cell_type": "markdown",
   "metadata": {
    "id": "sUsx1EDM9p_g",
    "pycharm": {
     "name": "#%% md\n"
    }
   },
   "source": [
    "Klasyfikatory SGD mogą bezpośrednio klasyfikować przykłady w sposób wieloklasowy, stąd też nie ma potrzeby wdrażania powyżej opisanych strategii. W takim zastosowaniu metoda <i>decision_function()</i> zwraca aktualnie po jednej wartości na jedną klasę."
   ]
  },
  {
   "cell_type": "code",
   "execution_count": 65,
   "metadata": {
    "colab": {
     "base_uri": "https://localhost:8080/"
    },
    "executionInfo": {
     "elapsed": 219,
     "status": "ok",
     "timestamp": 1622633058062,
     "user": {
      "displayName": "Tomasz Neumann",
      "photoUrl": "",
      "userId": "11079917422719855706"
     },
     "user_tz": -120
    },
    "id": "V0R0Cb0l9p_g",
    "outputId": "316cd58d-597c-4fff-a333-f00bc0b5e757",
    "pycharm": {
     "name": "#%%\n"
    }
   },
   "outputs": [
    {
     "name": "stdout",
     "output_type": "stream",
     "text": [
      "[3, 4, 5, 5, 7, 15]\n",
      "Liczba: 1   prediction:1   correct?: True\n",
      "Liczba: 9   prediction:9   correct?: True\n",
      "Liczba: 2   prediction:2   correct?: True\n",
      "Liczba: 2   prediction:2   correct?: True\n",
      "Liczba: 3   prediction:3   correct?: True\n",
      "Liczba: 7   prediction:7   correct?: True\n"
     ]
    }
   ],
   "source": [
    "i = 1244\n",
    "test0 = X_train[i].reshape(1, 784)\n",
    "\n",
    "\n",
    "# print(test0.shape)\n",
    "# print(sgd_clf.predict(test0))\n",
    "# print(sgd_clf.decision_function(X_train)[i][:])\n",
    "# print('Przewidywana etykieta: ', sgd_clf.predict(X_train[i].reshape(1, 784))[0])\n",
    "# print('Prawdziwa etykieta: ', y_train[i])\n",
    "\n",
    "def find_first_number_in_arr(n, arr):\n",
    "    for i, x in enumerate(arr):\n",
    "        if x == n:\n",
    "            return i\n",
    "\n",
    "\n",
    "indexes_of_192237 = []\n",
    "for x in [1, 9, 2, 2, 3, 7]:\n",
    "    indexes_of_192237.append(find_first_number_in_arr(x, y_train))\n",
    "print(indexes_of_192237)\n",
    "\n",
    "for x in indexes_of_192237:\n",
    "    real_number = y_train[[x]][0]\n",
    "    test0 = X_train[x].reshape(1, 784)\n",
    "    prediction = sgd_clf.predict(test0)[0]\n",
    "    print(f\"Liczba: {real_number}   prediction:{prediction}   correct?: {real_number == prediction}\")\n",
    "\n",
    "\n"
   ]
  },
  {
   "cell_type": "markdown",
   "metadata": {
    "id": "12tRamOd9p_h",
    "pycharm": {
     "name": "#%% md\n"
    }
   },
   "source": [
    "Jak jednak przyjrzymy się dokładniej, przy wybraniu tego obrazu do przewidywań, klasyfikator pomylił się w ocenie, wykazując największy stopień pewności wyniku dla cyfry 9, a natępnie drugą wartość dla cyfry 8, która jest także wartością nieprawidłową. Jak widać wartość przewidywań dla cyfry 3 jest dużą liczbą ujemną stąd klasyfikator nie będzie brał tej opcji do końcowych przewidywań."
   ]
  },
  {
   "cell_type": "code",
   "execution_count": 7,
   "metadata": {
    "colab": {
     "base_uri": "https://localhost:8080/",
     "height": 266
    },
    "executionInfo": {
     "elapsed": 212,
     "status": "ok",
     "timestamp": 1622633066976,
     "user": {
      "displayName": "Tomasz Neumann",
      "photoUrl": "",
      "userId": "11079917422719855706"
     },
     "user_tz": -120
    },
    "id": "Q9zSGYuK9p_h",
    "outputId": "663f0db7-3c10-46e3-c108-dc98237c5705",
    "pycharm": {
     "name": "#%%\n"
    }
   },
   "outputs": [
    {
     "data": {
      "text/plain": "<Figure size 432x288 with 1 Axes>",
      "image/png": "[encoded data removed]"
     },
     "metadata": {
      "needs_background": "light"
     },
     "output_type": "display_data"
    },
    {
     "name": "stdout",
     "output_type": "stream",
     "text": [
      "Prawdziwa etykieta:  3\n"
     ]
    }
   ],
   "source": [
    "import matplotlib as mpl\n",
    "import matplotlib.pyplot as plt\n",
    "\n",
    "some_digit_image = X_train[i].reshape(28, 28)\n",
    "plt.imshow(some_digit_image, cmap=\"binary\")\n",
    "plt.axis(\"off\")\n",
    "plt.show()\n",
    "print('Prawdziwa etykieta: ', y_train[i])"
   ]
  },
  {
   "cell_type": "markdown",
   "metadata": {
    "id": "H1BBFhxo9p_i",
    "pycharm": {
     "name": "#%% md\n"
    }
   },
   "source": [
    "Był to jednak specjalnie wybrany przykład niepoprawnej klasyfikacji. W celu oceny skuteczności tego klasyfikatora można posłuzyć się sprawdzianem krzyżowym z 5-cio krotną kroswalidacją."
   ]
  },
  {
   "cell_type": "code",
   "execution_count": 8,
   "metadata": {
    "colab": {
     "base_uri": "https://localhost:8080/"
    },
    "executionInfo": {
     "elapsed": 531747,
     "status": "ok",
     "timestamp": 1622633601741,
     "user": {
      "displayName": "Tomasz Neumann",
      "photoUrl": "",
      "userId": "11079917422719855706"
     },
     "user_tz": -120
    },
    "id": "S72F-ktV9p_i",
    "outputId": "d7317e86-6abe-4c90-dcd8-b28ab8a8d3d7",
    "pycharm": {
     "name": "#%%\n"
    }
   },
   "outputs": [
    {
     "data": {
      "text/plain": "array([0.87183333, 0.87916667, 0.88183333, 0.87008333, 0.8705    ])"
     },
     "execution_count": 8,
     "metadata": {},
     "output_type": "execute_result"
    }
   ],
   "source": [
    "from sklearn.model_selection import cross_val_score\n",
    "\n",
    "cross_val_score(sgd_clf, X_train, y_train, cv=5, scoring=\"accuracy\", n_jobs=-1)"
   ]
  },
  {
   "cell_type": "markdown",
   "metadata": {
    "id": "5bB68jef9p_j",
    "pycharm": {
     "name": "#%% md\n"
    }
   },
   "source": [
    "Jak widać, wobec wszystkich podzbiorów testowych uzyskuję się wynik $87\\%$, co porównując to wyniku losowego klasyfikatora ($10\\%$) wypada dobrze. Aby uzyskać lepszy wynik można wykorzystać przeskalowanie danych za pomocą klasy <i>StandardScaler</i>"
   ]
  },
  {
   "cell_type": "code",
   "execution_count": 13,
   "metadata": {
    "colab": {
     "base_uri": "https://localhost:8080/"
    },
    "executionInfo": {
     "elapsed": 1411811,
     "status": "ok",
     "timestamp": 1622635042566,
     "user": {
      "displayName": "Tomasz Neumann",
      "photoUrl": "",
      "userId": "11079917422719855706"
     },
     "user_tz": -120
    },
    "id": "HAx94vMI9p_j",
    "outputId": "c56a6c5a-8569-4e8f-e0b6-f204939c4f85",
    "pycharm": {
     "name": "#%%\n"
    }
   },
   "outputs": [
    {
     "data": {
      "text/plain": "array([0.89808333, 0.89141667, 0.89758333, 0.893     , 0.90391667])"
     },
     "execution_count": 12,
     "metadata": {},
     "output_type": "execute_result"
    },
    {
     "data": {
      "text/plain": "array([0.90283333, 0.89283333, 0.89633333, 0.895     , 0.9035    ])"
     },
     "execution_count": 13,
     "metadata": {},
     "output_type": "execute_result"
    }
   ],
   "source": [
    "from sklearn.preprocessing import StandardScaler\n",
    "\n",
    "scaler = StandardScaler()\n",
    "X_train_scaled = scaler.fit_transform(X_train.astype(np.float64))\n",
    "cross_val_score(sgd_clf, X_train_scaled, y_train, cv=5, scoring=\"accuracy\", n_jobs=-1)"
   ]
  },
  {
   "cell_type": "markdown",
   "metadata": {
    "id": "hiVI_rBl9p_k",
    "pycharm": {
     "name": "#%% md\n"
    }
   },
   "source": [
    "uzyskując o około $3\\%$ lepszy wynik niż wcześniej bez skalowania.\n",
    "\n",
    "Dalszą analizę wyników można dokonywać za pomocą macierzy pomyłek. Należy wyliczyć prognozy za pomocą funkcji <i>cross_val_predict()</i>, a następnie wywołać funkcję <i>confusion_matrix()</i> (rzędy reprezentują rzeczywiste klasy, kolumny zaś - przewidywane klasy)"
   ]
  },
  {
   "cell_type": "code",
   "execution_count": 15,
   "metadata": {
    "id": "9D0Km_0M9p_k",
    "pycharm": {
     "name": "#%%\n"
    }
   },
   "outputs": [
    {
     "name": "stdout",
     "output_type": "stream",
     "text": [
      "[[5579    0   16    8    9   46   36    6  222    1]\n",
      " [   0 6415   41   24    3   42    4    7  194   12]\n",
      " [  26   25 5235   92   70   28   64   41  368    9]\n",
      " [  26   18  112 5240    0  202   24   39  399   71]\n",
      " [  11   14   40   11 5235   11   33   18  309  160]\n",
      " [  27   18   25  166   53 4481   78   15  494   64]\n",
      " [  28   17   42    3   44   93 5550    7  134    0]\n",
      " [  18   10   53   28   50   15    4 5678  196  213]\n",
      " [  15   60   42   91    4  119   29    7 5443   41]\n",
      " [  20   19   31   60  124   39    1  173  358 5124]]\n"
     ]
    }
   ],
   "source": [
    "from sklearn.model_selection import cross_val_predict\n",
    "from sklearn.metrics import confusion_matrix\n",
    "\n",
    "y_train_pred = cross_val_predict(sgd_clf, X_train_scaled, y_train, cv=5, n_jobs=-1)\n",
    "conf_mx = confusion_matrix(y_train, y_train_pred, )\n",
    "print(conf_mx)"
   ]
  },
  {
   "cell_type": "markdown",
   "metadata": {
    "id": "ip9hB0P1q-bi",
    "pycharm": {
     "name": "#%% md\n"
    }
   },
   "source": [
    "jak i stworzyć reprezentację graficzną tych liczb."
   ]
  },
  {
   "cell_type": "code",
   "execution_count": 16,
   "metadata": {
    "id": "T5kXPwPQ9p_l",
    "pycharm": {
     "name": "#%%\n"
    }
   },
   "outputs": [
    {
     "data": {
      "text/plain": "<Figure size 288x288 with 1 Axes>",
      "image/png": "[encoded data removed]"
     },
     "metadata": {
      "needs_background": "light"
     },
     "output_type": "display_data"
    }
   ],
   "source": [
    "plt.matshow(conf_mx, cmap=plt.cm.gray)\n",
    "plt.show()"
   ]
  },
  {
   "cell_type": "markdown",
   "metadata": {
    "id": "EY2Vbm2K9p_l",
    "pycharm": {
     "name": "#%% md\n"
    }
   },
   "source": [
    "Wartości w macierzy pomyłek prezentują się całkiem nieźle, gdyż większość obrazów znajduje się na głównej przekątnej, co oznacza, że zostały prawidłowo sklasyfikowane. Piątki wyglądają nieco ciemniej od pozostałych cyfr, co może oznaczać, że w zbiorze danych znajduje się mniej obrazów piątek lub że klasyfikator nie sprawuje się tak dobrze wobec piątek, jak w przypadku pozostałych cyfr. W rzeczywistości można zweryfikować obydwa stwierdzenia, jeżeli wyrysuje się diagram błędów."
   ]
  },
  {
   "cell_type": "code",
   "execution_count": 17,
   "metadata": {
    "id": "rzfUyVnr9p_m",
    "pycharm": {
     "name": "#%%\n"
    }
   },
   "outputs": [
    {
     "data": {
      "text/plain": "<Figure size 288x288 with 1 Axes>",
      "image/png": "[encoded data removed]"
     },
     "metadata": {
      "needs_background": "light"
     },
     "output_type": "display_data"
    }
   ],
   "source": [
    "#podzielenie każdej wartości z macierzy pomyłek przez liczbę obrazów\n",
    "row_sums = conf_mx.sum(axis=1, keepdims=True)\n",
    "norm_conf_mx = conf_mx / row_sums\n",
    "#Wypełnienie głównej przekątnej zerami, aby pozostały same błędy\n",
    "np.fill_diagonal(norm_conf_mx, 0)\n",
    "plt.matshow(norm_conf_mx, cmap=plt.cm.gray)\n",
    "plt.show()"
   ]
  },
  {
   "cell_type": "markdown",
   "metadata": {
    "id": "S_fe3OqZ9p_m",
    "pycharm": {
     "name": "#%% md\n"
    }
   },
   "source": [
    "Kolumna reprezentująca klasę 8 jest dość jasna, co oznacza, że wiele obrazów zostało nieprawidłowo sklasyfikowanych jako ta właśnie cyfra. Jednak rząd klasy 8 nie wygląda tak źle, co oznacza, że zasadniczo większość ósemek jest prawidłowo klasyfikowanych.\n",
    "Jak widać, macierz pomyłek nie jest zbyt symetryczna. Można również dostrzec, że trójki i piątki są często mylone (w obydwie strony).\n",
    "Analiza macierzy pomyłek często dostarcza wskazówek pozwalających usprawnić klasyfikator. Można byłoby popracować nad zmniejszeniem liczby fałszywych ósemek tworząc nowe cechy bądź też dokonać wstępnego przetwarzania obrazów (korzystając z modułów Scikit-Image, Pillow lub OpenCV), aby uwypuklić pewne wzorce."
   ]
  },
  {
   "cell_type": "markdown",
   "metadata": {
    "id": "QrGFLqW19p_m",
    "pycharm": {
     "name": "#%% md\n"
    }
   },
   "source": [
    "<b>Klasyfikacja wieloetykietowa</b> (multilabel classification)\n",
    "\n",
    "Powyższy kod analizował pojedyncze przykłady i przydzielał je wyłącznie do jednej klasy. W niektórych sytuacjach\n",
    "może zachodzić potrzeba, aby klasyfikator wyznaczał wiele klas dla jednego wystąpienia.\n",
    "\n",
    "W tym celu zaimplemontowane zostaną dwie docelowe etykiety dla każdego obrazu cyfry. Niech pierwsza z nich określa, czy jest to duża liczba, zaś druga niech opisuje, że liczba jest nieparzysta. Następnie zostaje utworzone wystąpienie klasyfikatora <i>KNeighborsClassifier</i>, po czym jest on uczony za pomocą tablicy zawierającej wiele docelowych elementów"
   ]
  },
  {
   "cell_type": "code",
   "execution_count": 14,
   "metadata": {
    "id": "nBP8VuV89p_n",
    "pycharm": {
     "name": "#%%\n"
    }
   },
   "outputs": [
    {
     "data": {
      "text/plain": "KNeighborsClassifier(n_jobs=-1)"
     },
     "execution_count": 14,
     "metadata": {},
     "output_type": "execute_result"
    }
   ],
   "source": [
    "from sklearn.neighbors import KNeighborsClassifier\n",
    "\n",
    "# y_train_large = (y_train >= 7)\n",
    "# y_train_odd = (y_train % 2 == 1)\n",
    "# y_multilabel = np.c_[y_train_large, y_train_odd]\n",
    "# knn_clf = KNeighborsClassifier(n_jobs=-1)\n",
    "# knn_clf.fit(X_train, y_multilabel)\n",
    "\n",
    "y_train_primary = np.isin(y_train, [2, 3, 5, 7])\n",
    "y_train_by_3 = (y_train % 3 == 0)\n",
    "y_multilabel = np.c_[y_train_primary, y_train_by_3]\n",
    "knn_clf = KNeighborsClassifier(n_jobs=-1)\n",
    "knn_clf.fit(X_train, y_multilabel)"
   ]
  },
  {
   "cell_type": "markdown",
   "metadata": {
    "id": "dTUdolUR9p_n",
    "pycharm": {
     "name": "#%% md\n"
    }
   },
   "source": [
    "oraz dokonywane są prognozy."
   ]
  },
  {
   "cell_type": "code",
   "execution_count": 15,
   "metadata": {
    "id": "zZzalBIR9p_n",
    "pycharm": {
     "name": "#%%\n"
    }
   },
   "outputs": [
    {
     "name": "stdout",
     "output_type": "stream",
     "text": [
      "[[ True False]\n",
      " [False  True]\n",
      " [False False]\n",
      " [False False]\n",
      " [False  True]\n",
      " [ True False]\n",
      " [False False]]\n",
      "Prawdziwa etykieta:  [5 0 4 1 9 2 1]\n"
     ]
    }
   ],
   "source": [
    "print(knn_clf.predict(X_train[0:7]))\n",
    "print('Prawdziwa etykieta: ', y_train[0:7])"
   ]
  },
  {
   "cell_type": "markdown",
   "metadata": {
    "id": "jVrcUGG-9p_o",
    "pycharm": {
     "name": "#%% md\n"
    }
   },
   "source": [
    "Jak widać prognoza do obrazu pierwszego, reprezentującego 5-tkę zgadza się - nie jest to wielka cyfra (większa od 6) oraz jest to cyfra nieparzysta. Aby jednak lepiej ocenić wydajność klasyfikatora można obliczyć F-Score dla poszczególnych etykiet (zakładając, że każda ma taką samą wagę), a następnie wyliczeniu średniej."
   ]
  },
  {
   "cell_type": "code",
   "execution_count": 16,
   "metadata": {
    "id": "okNNRyJd9p_o",
    "pycharm": {
     "name": "#%%\n"
    }
   },
   "outputs": [
    {
     "ename": "NameError",
     "evalue": "name 'cross_val_predict' is not defined",
     "output_type": "error",
     "traceback": [
      "\u001B[1;31m---------------------------------------------------------------------------\u001B[0m",
      "\u001B[1;31mNameError\u001B[0m                                 Traceback (most recent call last)",
      "Input \u001B[1;32mIn [16]\u001B[0m, in \u001B[0;36m<cell line: 3>\u001B[1;34m()\u001B[0m\n\u001B[0;32m      1\u001B[0m \u001B[38;5;28;01mfrom\u001B[39;00m \u001B[38;5;21;01msklearn\u001B[39;00m\u001B[38;5;21;01m.\u001B[39;00m\u001B[38;5;21;01mmetrics\u001B[39;00m \u001B[38;5;28;01mimport\u001B[39;00m \u001B[38;5;241m*\u001B[39m\n\u001B[1;32m----> 3\u001B[0m y_train_knn_pred \u001B[38;5;241m=\u001B[39m \u001B[43mcross_val_predict\u001B[49m(knn_clf, X_train, y_multilabel, cv\u001B[38;5;241m=\u001B[39m\u001B[38;5;241m5\u001B[39m, n_jobs\u001B[38;5;241m=\u001B[39m\u001B[38;5;241m-\u001B[39m\u001B[38;5;241m1\u001B[39m)\n\u001B[0;32m      4\u001B[0m \u001B[38;5;28mprint\u001B[39m(f1_score(y_multilabel, y_train_knn_pred, average\u001B[38;5;241m=\u001B[39m\u001B[38;5;124m\"\u001B[39m\u001B[38;5;124mweighted\u001B[39m\u001B[38;5;124m\"\u001B[39m))\n",
      "\u001B[1;31mNameError\u001B[0m: name 'cross_val_predict' is not defined"
     ]
    }
   ],
   "source": [
    "from sklearn.metrics import *\n",
    "\n",
    "y_train_knn_pred = cross_val_predict(knn_clf, X_train, y_multilabel, cv=5, n_jobs=-1)\n",
    "print(f1_score(y_multilabel, y_train_knn_pred, average=\"weighted\"))"
   ]
  },
  {
   "cell_type": "markdown",
   "metadata": {
    "id": "QZY2l19b9p_p",
    "pycharm": {
     "name": "#%% md\n"
    }
   },
   "source": [
    "W celu nadania każdej etykiecie wagi równej jej współczynnikowi wsparcia (support) np. liczba próbek zawierających etykietę docelową, można użyć wyrażenia <i>average=\"weighted\"</i>."
   ]
  },
  {
   "cell_type": "markdown",
   "metadata": {
    "id": "kmKelgYG9p_p",
    "pycharm": {
     "name": "#%% md\n"
    }
   },
   "source": [
    "<b>Klasyfikacja wielowyjściowa</b>\n",
    "Ostatnim rodzajem zadania klasyfikacyjnego jest klasyfikacja wielowyjściowa (<i>multioutput classification</i>). Jest to po prostu uogólnienie klasyfikacji wieloetykietowej, gdzie każda etykieta może być wieloklasowa tj. może mieć ponad dwie możliwe wartości. Można to przedstawić na systemie, który będzie usuwał szum z obrazów cyfr.\n",
    "Danymi wejściowymi będą poprzednie obrazy, które będą zmodyfikowane poprzez dodanie dodatkowego szumu zaś na wyjściu należy spodziewać się obrazu cyfr w postaci zawierającej poziomy szarości poszczególnych pikseli (na jeden piksel przypada jedna etykieta, a każda z etykiet może mieć różne wartości z zakresu poziomów szarości od 0 do 255)"
   ]
  },
  {
   "cell_type": "code",
   "execution_count": 25,
   "metadata": {
    "id": "Gq2VoGmg9p_q",
    "pycharm": {
     "name": "#%%\n"
    }
   },
   "outputs": [],
   "source": [
    "import matplotlib.pyplot as plt\n",
    "\n",
    "noise = np.random.randint(0, 200, (len(X_train), 784))\n",
    "X_train_mod = X_train + noise\n",
    "noise = np.random.randint(0, 200, (len(X_test), 784))\n",
    "X_test_mod = X_test + noise\n",
    "y_train_mod = X_train\n",
    "y_test_mod = X_test"
   ]
  },
  {
   "cell_type": "markdown",
   "metadata": {
    "id": "bc54su989p_r",
    "pycharm": {
     "name": "#%% md\n"
    }
   },
   "source": [
    "oraz wyświetlimy tak zmodyfikowany obraz."
   ]
  },
  {
   "cell_type": "code",
   "execution_count": 26,
   "metadata": {
    "id": "kYfyXGoy9p_r",
    "pycharm": {
     "name": "#%%\n"
    }
   },
   "outputs": [
    {
     "name": "stdout",
     "output_type": "stream",
     "text": [
      "Zaszumiony obraz\n"
     ]
    },
    {
     "data": {
      "text/plain": "<Figure size 432x288 with 1 Axes>",
      "image/png": "[encoded data removed]"
     },
     "metadata": {
      "needs_background": "light"
     },
     "output_type": "display_data"
    },
    {
     "name": "stdout",
     "output_type": "stream",
     "text": [
      "Prawdziwa etykieta:  7\n"
     ]
    }
   ],
   "source": [
    "def find_first_number_in_arr(n, arr):\n",
    "    for i, x in enumerate(arr):\n",
    "        if x == n:\n",
    "            return i\n",
    "\n",
    "\n",
    "number_7_index = find_first_number_in_arr(7, y_train)\n",
    "\n",
    "print('Zaszumiony obraz')\n",
    "plt.imshow(X_train_mod[number_7_index].reshape(28, 28), cmap=\"binary\")\n",
    "plt.axis(\"off\")\n",
    "plt.show()\n",
    "print('Prawdziwa etykieta: ', y_train[number_7_index])"
   ]
  },
  {
   "cell_type": "markdown",
   "metadata": {
    "id": "Q5eCxKSU9p_r",
    "pycharm": {
     "name": "#%% md\n"
    }
   },
   "source": [
    "Następnie wytrenowujemy klasyfikator na tak zmodyfikowanych danych wejściowych i analizujemy wyniki predykcji"
   ]
  },
  {
   "cell_type": "code",
   "execution_count": 27,
   "metadata": {
    "id": "3JKIBj7u9p_r",
    "pycharm": {
     "name": "#%%\n"
    }
   },
   "outputs": [
    {
     "data": {
      "text/plain": "<Figure size 432x288 with 1 Axes>",
      "image/png": "[encoded data removed]"
     },
     "metadata": {
      "needs_background": "light"
     },
     "output_type": "display_data"
    },
    {
     "name": "stdout",
     "output_type": "stream",
     "text": [
      "Prawdziwa etykieta:  7\n"
     ]
    }
   ],
   "source": [
    "knn_clf.fit(X_train_mod, y_train_mod)\n",
    "clean_digit = knn_clf.predict([X_test_mod[number_7_index]])\n",
    "plt.imshow(clean_digit.reshape(28, 28), cmap=\"binary\")\n",
    "plt.axis(\"off\")\n",
    "plt.show()\n",
    "print('Prawdziwa etykieta: ', y_train[number_7_index])"
   ]
  },
  {
   "cell_type": "code",
   "execution_count": 19,
   "outputs": [],
   "source": [],
   "metadata": {
    "collapsed": false,
    "pycharm": {
     "name": "#%%\n"
    }
   }
  },
  {
   "cell_type": "markdown",
   "metadata": {
    "id": "BNGrw9_29p_s",
    "pycharm": {
     "name": "#%% md\n"
    }
   },
   "source": [
    "które nie zawsze muszą odzwierciedlać pierwotny stan naszej cyfry wobec wprowadzonego szumu."
   ]
  },
  {
   "cell_type": "markdown",
   "metadata": {
    "id": "lwfLmIpj9p_s",
    "pycharm": {
     "name": "#%% md\n"
    }
   },
   "source": [
    "# Zadania do wykonania (Do wyboru)"
   ]
  },
  {
   "cell_type": "markdown",
   "metadata": {
    "id": "bBegzsop9p_s",
    "pycharm": {
     "name": "#%% md\n"
    }
   },
   "source": [
    "<p><b>Zadanie 1</b></p>\n",
    "Wykonaj i oceń wynik klasyfikacji wieloklasowej cyfr ze zbioru MNIST wyłącznie dla cyfr znajdujących się w Twoim numerze albumu.\n",
    "<p><b>Zadanie 2</b></p>\n",
    "Dla przykładu klasyfikacji wieloetykietowej przeprowadź eksperymenty, aby klasyfikować liczby pierwsze i podzielne przez 3.\n",
    "<p><b>Zadanie 3</b></p>\n",
    "Dla przykładu klasyfikacji wielowyjściowej wykonaj dwa eksperymenty dla różnych przedziałów zaszumienia oraz przeprowadź testy dla cyfry będącej odpowiednikiem ostatniej cyfry z Twojego numeru albumu.  "
   ]
  },
  {
   "cell_type": "markdown",
   "metadata": {
    "cellView": "form",
    "id": "ABNKtwLV98oQ",
    "pycharm": {
     "name": "#%% md\n"
    }
   },
   "source": [
    "![stopka.svg](stopka.svg)"
   ]
  }
 ],
 "metadata": {
  "accelerator": "GPU",
  "colab": {
   "name": "lab5_ex01.ipynb",
   "provenance": []
  },
  "kernelspec": {
   "display_name": "Python 3",
   "language": "python",
   "name": "python3"
  },
  "language_info": {
   "codemirror_mode": {
    "name": "ipython",
    "version": 3
   },
   "file_extension": ".py",
   "mimetype": "text/x-python",
   "name": "python",
   "nbconvert_exporter": "python",
   "pygments_lexer": "ipython3",
   "version": "3.7.9"
  }
 },
 "nbformat": 4,
 "nbformat_minor": 1
}