{
 "cells": [
  {
   "cell_type": "markdown",
   "metadata": {
    "id": "2R_1cBy-Rn1g",
    "pycharm": {
     "name": "#%% md\n"
    }
   },
   "source": [
    "##### AI TECH - Akademia Innowacyjnych Zastosowań Technologii Cyfrowych. Programu Operacyjnego Polska Cyfrowa na lata 2014-2020\n",
    "<hr>"
   ]
  },
  {
   "cell_type": "markdown",
   "metadata": {
    "id": "cc-XvtKARn1l",
    "pycharm": {
     "name": "#%% md\n"
    }
   },
   "source": [
    "<br>\n",
    "<br>\n",
    "<br>\n",
    "<br>\n",
    "<br>\n",
    "<br>\n",
    "<br>\n",
    "<center>\n",
    "    <h1 style = \"font-size:48px; font-weight:normal\"><b>AI</b>-TECH</h1>\n",
    "    <br>\n",
    "<br>\n",
    "<br>\n",
    "<br>\n",
    "    <h1 style = \"font-size:24px; font-weight:normal\">Przykład 2 DO LABORATORIUM 5</h1>\n",
    "    <h1 style = \"font-size:24px\">z UCZENIA MASZYNOWEGO</h1>\n",
    "    <h1 style = \"font-size:24px\">Sztuczne sieci neuronowe</h1>\n",
    "    <h1 style = \"font-size:24px\">Tomasz Neumann</h1>\n",
    "    <h3 style = \"font-size:21px\">Klasyfikacja przy użyciu Keras i Tensorflow - Autoenkoder</h3>\n",
    "</center>\n",
    "<br>\n",
    "<br>\n",
    "<br>\n",
    "<br>\n",
    "<br>\n",
    "<br>\n",
    "<br>\n",
    "<br>\n",
    "<br>\n",
    "    </body>\n",
    "    </html>"
   ]
  },
  {
   "cell_type": "markdown",
   "metadata": {
    "cellView": "form",
    "colab": {
     "base_uri": "https://localhost:8080/",
     "height": 174
    },
    "executionInfo": {
     "elapsed": 807,
     "status": "ok",
     "timestamp": 1622761293664,
     "user": {
      "displayName": "Tomasz Neumann",
      "photoUrl": "",
      "userId": "11079917422719855706"
     },
     "user_tz": -120
    },
    "id": "gSIkYBlmR3wL",
    "outputId": "c09dd6ca-6bb9-46a7-be5e-75498891cf17",
    "pycharm": {
     "name": "#%% md\n"
    }
   },
   "source": [
    "![stopka.svg](stopka.svg)"
   ]
  },
  {
   "cell_type": "markdown",
   "metadata": {
    "id": "xVpexR8FRn1m",
    "pycharm": {
     "name": "#%% md\n"
    }
   },
   "source": [
    "<center>\n",
    "Projekt współfinansowany ze środków Unii Europejskiej w ramach Europejskiego Funduszu Rozwoju Regionalnego \n",
    "Program Operacyjny Polska Cyfrowa na lata 2014-2020,\n",
    "Oś Priorytetowa nr 3 \"Cyfrowe kompetencje społeczeństwa\" Działanie  nr 3.2 \"Innowacyjne rozwiązania na rzecz aktywizacji cyfrowej\" \n",
    "Tytuł projektu:  „Akademia Innowacyjnych Zastosowań Technologii Cyfrowych (AI Tech)”\n",
    "    </center>"
   ]
  },
  {
   "cell_type": "markdown",
   "metadata": {
    "id": "rm5f3hYlRn1n",
    "pycharm": {
     "name": "#%% md\n"
    }
   },
   "source": [
    "<hr>"
   ]
  },
  {
   "cell_type": "markdown",
   "metadata": {
    "id": "kID4v2EXRn1o",
    "pycharm": {
     "name": "#%% md\n"
    }
   },
   "source": [
    "# 5. Przykład 2"
   ]
  },
  {
   "cell_type": "markdown",
   "metadata": {
    "id": "juE7Du30Rn1o",
    "pycharm": {
     "name": "#%% md\n"
    }
   },
   "source": [
    "Autokodery to modele sieci neuronowej złożone z dwóch bloków:\n",
    "- kodera\n",
    "- dekodera\n",
    "\n",
    "które przetwarzając dane wejściowe $x$, dążą do ich rekonstrukcji na wyjściu $\\hat x$. Związany jest z tym również termin \"auto\". \n",
    "\n",
    "W klasycznym ujęciu autokodery działają na danych wejściowych X bez wyróżniania etykiet y. Rozpatrywany problem polega zatem na nauczeniu modelu takich wag, aby uzyskać idealną rekonstrukcję. Ponieważ nie rozważamy wykorzystania etykiet czy innej formy nadzoru, dlatego klasyczne autokodery zaliczane są do grupy uczenia nienadzorowanego. Należy jednak podkreślić, że znane są również prace w zakresie autokoderów z nadzorem (ang. Supervised AutoEncoders SAE), których celem jest rekonstrukcja zarówno danych wejściowych jak i etykiet.\n",
    "\n",
    "Rolą kodera jest transformacja $L$ wymiarowych danych wejściowych ($L$ - liczba cech, danych surowych, itp.) do $E$ wymiarowych, nowych cech ($E<L$). Transformacja reprezentacji danych musi być tak dokonana, aby dekoder mógł zrekonstruować dane w zmienionej reprezentacji na dane jak najbardziej podobne do reprezentacji źródłowej. Kryterium podobieństwa wyznaczać będzie funkcja kosztu, np.:\n",
    "\n",
    "$$L=||\\textbf x- \\hat {\\textbf x}||^2$$\n",
    "\n",
    "Stosując model MLP, blok kodera można zapisać jako:\n",
    "\n",
    "$$ \\textbf z = a(\\textbf W^{(k)} \\textbf x^{(k)})$$\n",
    "natomiast blok dekodera jako:\n",
    "\n",
    "$$ \\hat {\\textbf x} = a(\\textbf W^{(d)} \\textbf z^{(d)})$$\n",
    "\n",
    "gdzie: $a()$ - to funkcja aktywacji, $W$ - parametry modelu (z lub bez obciążenia $W_0$), $x$ - dane wejsciowe (z lub bez $x_0=1$).\n",
    "\n",
    "\n",
    "Do celów tego przykładu użyjemy zbiór danych MNIST Fashion. Na wzór znanego zbioru zeskanowanych cyfr MNIST utworzono zbiór danych MNIST Fashion zawierający 70 000 obrazów (60000 z. treningowy + 10000 z. testowy) o rozdzielczości 28x28 pikseli, każdy przedstawiający zdjęcie odzieży należące do jednej z 10 klas:\n",
    "\n",
    "0 T-shirt/top, 1 Trouser, 2 Pullover, 3 Dress, 4 Coat, 5 Sandal, 6 Shirt, 7 Sneaker, 8 Bag, 9 Ankle boot\n",
    "\n",
    "Oryginalny zbiór dostępny jest na stronie: https://github.com/zalandoresearch/fashion-mnist (The MIT License (MIT) Copyright © [2017] Zalando)\n",
    "\n",
    "Zastosowanie zbioru zrealizowane zostanie poprzez dostępne API w TensorFlow."
   ]
  },
  {
   "cell_type": "code",
   "execution_count": 1,
   "metadata": {
    "colab": {
     "base_uri": "https://localhost:8080/"
    },
    "executionInfo": {
     "elapsed": 2021,
     "status": "ok",
     "timestamp": 1622761296524,
     "user": {
      "displayName": "Tomasz Neumann",
      "photoUrl": "",
      "userId": "11079917422719855706"
     },
     "user_tz": -120
    },
    "id": "eqtNZWXkRn1q",
    "outputId": "c30243ee-34fd-45c4-d363-8e1c815e2d4f",
    "pycharm": {
     "name": "#%%\n"
    }
   },
   "outputs": [
    {
     "name": "stdout",
     "output_type": "stream",
     "text": [
      "2.8.0\n",
      "(60000, 28, 28)\n",
      "(10000, 28, 28)\n"
     ]
    }
   ],
   "source": [
    "import numpy as np\n",
    "import tensorflow as tf\n",
    "import matplotlib.pyplot as plt\n",
    "import matplotlib\n",
    "\n",
    "print(tf.__version__)\n",
    "\n",
    "(X_train, y_train), (X_test, y_test) = tf.keras.datasets.fashion_mnist.load_data()\n",
    "\n",
    "X_train = X_train.astype('float32') / 255.0\n",
    "X_test = X_test.astype('float32') / 255.0\n",
    "\n",
    "print (X_train.shape)\n",
    "print (X_test.shape)"
   ]
  },
  {
   "cell_type": "code",
   "execution_count": 2,
   "metadata": {
    "colab": {
     "base_uri": "https://localhost:8080/",
     "height": 358
    },
    "executionInfo": {
     "elapsed": 17,
     "status": "ok",
     "timestamp": 1622761296526,
     "user": {
      "displayName": "Tomasz Neumann",
      "photoUrl": "",
      "userId": "11079917422719855706"
     },
     "user_tz": -120
    },
    "id": "qlLDEgUORn1r",
    "outputId": "e3ea7339-3b59-42a8-9643-e62d2ff029d9",
    "pycharm": {
     "name": "#%%\n"
    }
   },
   "outputs": [
    {
     "name": "stdout",
     "output_type": "stream",
     "text": [
      "Bag\n"
     ]
    },
    {
     "data": {
      "text/plain": "<Figure size 576x384 with 1 Axes>",
      "image/png": "[encoded data removed]"
     },
     "metadata": {
      "needs_background": "light"
     },
     "output_type": "display_data"
    }
   ],
   "source": [
    "labels = [\"T-shirt/top\", \"Trouser\", \"Pullover\", \"Dress\", \"Coat\", \"Sandalv\", \n",
    "          \"Shirt\", \"Sneaker\", \"Bag\", \"Ankle boot\"]\n",
    "example = 57\n",
    "print(labels[y_train[example]])\n",
    "\n",
    "matplotlib.rcParams.update({'font.size': 16})\n",
    "fig = plt.figure(figsize=(9, 6), dpi=64)\n",
    "plt.imshow(X_train[example], cmap='gray')\n",
    "plt.show()"
   ]
  },
  {
   "cell_type": "markdown",
   "metadata": {
    "id": "mPkhzj9rRn1t",
    "pycharm": {
     "name": "#%% md\n"
    }
   },
   "source": [
    "Zrealizujemy teraz model autokodera, który będzie zmieniał reprezentację danych do nowej $E$ wymiarowej przestrzeni ukrytej. Wprowadzona zostanie zmienna latent_space_dim do określenia wymiaru $E$ (będzie można eksperymentować z wpływem doboru rozmiaru reprezentacji danych w przestrzeni ukrytej na wyniki autokodera). \n",
    "\n",
    "Jeśli $E < L$ (liczba cech zbioru oryginalnego) mówimy o niekompletnych autokoderach (ang. undercomplete autoencoders).\n",
    "\n",
    "Jeśli $E > L$ mówimy o nadkompletnych autokoderach (ang. overcomplete autoencoders), często związanych z danymi reprezentowanymi w warstwie ukrytej w sposób rzadki (dużo zer - wiele neuronów nieaktywnych) - ang. sparse autoencoders.\n",
    "\n",
    "Przeanazlizujmy aktualnie przypadek, gdzi $E<L$. "
   ]
  },
  {
   "cell_type": "code",
   "execution_count": 3,
   "metadata": {
    "id": "AxqOw_VNRn1u",
    "pycharm": {
     "name": "#%%\n"
    }
   },
   "outputs": [],
   "source": [
    "from tensorflow.keras import layers, losses\n",
    "\n",
    "class AE(tf.keras.models.Model):\n",
    "  def __init__(self, data_shape, lat_dim, enc_act, dec_act):\n",
    "    super(AE, self).__init__()\n",
    "    self.latent_space_dim = lat_dim   \n",
    "\n",
    "    self.encoder = tf.keras.Sequential([\n",
    "      # Kształt danych (60000, 28, 28), więc dokonywane jest ich spłaszczenie                                 \n",
    "      layers.Flatten(),\n",
    "      layers.Dense(latent_space_dim, activation=enc_act)\n",
    "    ])\n",
    "\n",
    "    self.decoder = tf.keras.Sequential([\n",
    "      # Kształt danych (60000, 28, 28), a na wyjściu oczekujemy 28*28\n",
    "      layers.Dense(data_shape[1]*data_shape[2], activation=dec_act),\n",
    "      layers.Reshape((data_shape[1],data_shape[2]))\n",
    "    ])\n",
    "\n",
    "  # forward projection\n",
    "  def call(self, x):\n",
    "    z = self.encoder(x)\n",
    "    x_e = self.decoder(z)\n",
    "    return x_e"
   ]
  },
  {
   "cell_type": "code",
   "execution_count": 4,
   "metadata": {
    "colab": {
     "base_uri": "https://localhost:8080/"
    },
    "executionInfo": {
     "elapsed": 46805,
     "status": "ok",
     "timestamp": 1622761343322,
     "user": {
      "displayName": "Tomasz Neumann",
      "photoUrl": "",
      "userId": "11079917422719855706"
     },
     "user_tz": -120
    },
    "id": "jn7Rgr0XRn1u",
    "outputId": "b75b77e0-8c9e-465c-ea3d-7503837d634c",
    "pycharm": {
     "name": "#%%\n"
    }
   },
   "outputs": [
    {
     "name": "stdout",
     "output_type": "stream",
     "text": [
      "(60000, 28, 28)\n",
      "Epoch 1/10\n",
      "1875/1875 [==============================] - 2s 928us/step - loss: 0.0335 - accuracy: 0.0880 - val_loss: 0.0213 - val_accuracy: 0.1029\n",
      "Epoch 2/10\n",
      "1875/1875 [==============================] - 2s 876us/step - loss: 0.0194 - accuracy: 0.1063 - val_loss: 0.0185 - val_accuracy: 0.1079\n",
      "Epoch 3/10\n",
      "1875/1875 [==============================] - 2s 883us/step - loss: 0.0182 - accuracy: 0.1085 - val_loss: 0.0181 - val_accuracy: 0.1089\n",
      "Epoch 4/10\n",
      "1875/1875 [==============================] - 2s 884us/step - loss: 0.0179 - accuracy: 0.1104 - val_loss: 0.0178 - val_accuracy: 0.1134\n",
      "Epoch 5/10\n",
      "1875/1875 [==============================] - 2s 880us/step - loss: 0.0177 - accuracy: 0.1116 - val_loss: 0.0177 - val_accuracy: 0.1134\n",
      "Epoch 6/10\n",
      "1875/1875 [==============================] - 2s 926us/step - loss: 0.0176 - accuracy: 0.1128 - val_loss: 0.0177 - val_accuracy: 0.1096\n",
      "Epoch 7/10\n",
      "1875/1875 [==============================] - 2s 873us/step - loss: 0.0176 - accuracy: 0.1140 - val_loss: 0.0176 - val_accuracy: 0.1159\n",
      "Epoch 8/10\n",
      "1875/1875 [==============================] - 2s 876us/step - loss: 0.0175 - accuracy: 0.1149 - val_loss: 0.0175 - val_accuracy: 0.1143\n",
      "Epoch 9/10\n",
      "1875/1875 [==============================] - 2s 884us/step - loss: 0.0175 - accuracy: 0.1155 - val_loss: 0.0175 - val_accuracy: 0.1157\n",
      "Epoch 10/10\n",
      "1875/1875 [==============================] - 2s 871us/step - loss: 0.0174 - accuracy: 0.1160 - val_loss: 0.0174 - val_accuracy: 0.1167\n"
     ]
    }
   ],
   "source": [
    "latent_space_dim = 16 \n",
    "encoder_activation = 'relu'\n",
    "decoder_activation = 'sigmoid'\n",
    "epochs = 10\n",
    "print(X_train.shape)\n",
    "\n",
    "ae = AE(X_train.shape, latent_space_dim, encoder_activation, decoder_activation)\n",
    "ae.compile(optimizer='adam', loss=losses.MeanSquaredError(), metrics=['accuracy'])\n",
    "history = ae.fit(X_train, X_train, epochs=epochs, shuffle=True, \n",
    "       validation_data=(X_test, X_test))"
   ]
  },
  {
   "cell_type": "markdown",
   "metadata": {
    "id": "fpRnqxLjRn1w",
    "pycharm": {
     "name": "#%% md\n"
    }
   },
   "source": [
    "W celu ilustracji działania zastosujmy koder i dekoder dla zbioru testowego."
   ]
  },
  {
   "cell_type": "code",
   "execution_count": 5,
   "metadata": {
    "id": "Z8MdejqQRn1w",
    "pycharm": {
     "name": "#%%\n"
    }
   },
   "outputs": [],
   "source": [
    "img_encoded = ae.encoder(X_test).numpy()\n",
    "img_decoded = ae.decoder(img_encoded).numpy()"
   ]
  },
  {
   "cell_type": "markdown",
   "metadata": {
    "id": "GEdAETo4Rn1x",
    "pycharm": {
     "name": "#%% md\n"
    }
   },
   "source": [
    "Zilustrujmy następnie obraz oryginalny oraz zrekonstruowany przez autokoder."
   ]
  },
  {
   "cell_type": "code",
   "execution_count": 8,
   "metadata": {
    "colab": {
     "base_uri": "https://localhost:8080/",
     "height": 309
    },
    "executionInfo": {
     "elapsed": 407,
     "status": "ok",
     "timestamp": 1622761344030,
     "user": {
      "displayName": "Tomasz Neumann",
      "photoUrl": "",
      "userId": "11079917422719855706"
     },
     "user_tz": -120
    },
    "id": "8Ghmq4hfRn1x",
    "outputId": "dc6cdebc-e2d6-4f8f-89b0-4f453deb7b72",
    "pycharm": {
     "name": "#%%\n"
    }
   },
   "outputs": [
    {
     "name": "stdout",
     "output_type": "stream",
     "text": [
      "Wejściowy rozmiar obrazu (shape): (28, 28)\n",
      "Rozmiar warstwy ukrytej (shape): (16,)\n",
      "Etykieta dla przykładu: Shirt\n"
     ]
    },
    {
     "data": {
      "text/plain": "<Figure size 792x792 with 3 Axes>",
      "image/png": "[encoded data removed]"
     },
     "metadata": {
      "needs_background": "light"
     },
     "output_type": "display_data"
    }
   ],
   "source": [
    "example = 7\n",
    "\n",
    "print(\"Wejściowy rozmiar obrazu (shape):\", X_test[example].shape)\n",
    "print(\"Rozmiar warstwy ukrytej (shape):\", img_encoded[example].shape)\n",
    "\n",
    "print(\"Etykieta dla przykładu:\", labels[y_test[example]])\n",
    "\n",
    "matplotlib.rcParams.update({'font.size': 16})\n",
    "fig, (ax1, ax2, ax3) = plt.subplots(1, 3, figsize=(11,11))\n",
    "\n",
    "ax1.set_title(\"Oryginał\")\n",
    "ax1.imshow(X_test[example], cmap='gray')\n",
    "\n",
    "ax2.set_title(\"Rekonstrukcja\")\n",
    "ax2.imshow(img_decoded[example], cmap='gray')\n",
    "\n",
    "ax3.set_title(\"Różnica\")\n",
    "ax3.imshow(np.abs(img_decoded[example]-X_test[example]), cmap='gray')\n",
    "plt.show()"
   ]
  },
  {
   "cell_type": "markdown",
   "metadata": {
    "id": "CbOLUXQQRn1z",
    "pycharm": {
     "name": "#%% md\n"
    }
   },
   "source": [
    "Można zaobserwować efekt wygładzenia obrazu (wygładzenie to filtracja dolnoprzepustowa - zmniejszamy częstotliwości przestrzenne, czyli liczbę zmian wartości pikseli na jednostkę długości).\n",
    "\n",
    "Oczywiste staje się wówczas pytanie, czy moglibyśmy zastosować wyuczony autokoder do odszumiania obrazów.\n",
    "\n",
    "Wygenerujemy obraz z szumem i zastosujmy ten sam model, który trenowaliśmy wyżej.\n"
   ]
  },
  {
   "cell_type": "code",
   "execution_count": 9,
   "metadata": {
    "colab": {
     "base_uri": "https://localhost:8080/",
     "height": 254
    },
    "executionInfo": {
     "elapsed": 582,
     "status": "ok",
     "timestamp": 1622761344604,
     "user": {
      "displayName": "Tomasz Neumann",
      "photoUrl": "",
      "userId": "11079917422719855706"
     },
     "user_tz": -120
    },
    "id": "uMi5bdEKRn1z",
    "outputId": "5b243809-f773-4928-ca71-3a4e2ea4a778",
    "pycharm": {
     "name": "#%%\n"
    }
   },
   "outputs": [
    {
     "data": {
      "text/plain": "<Figure size 792x792 with 3 Axes>",
      "image/png": "[encoded data removed]"
     },
     "metadata": {
      "needs_background": "light"
     },
     "output_type": "display_data"
    }
   ],
   "source": [
    "noise_amp = 0.003\n",
    "noise = noise_amp * np.random.normal(size=(28,28))\n",
    "img_example = np.array(X_test[example] + noise).reshape((1,28,28))\n",
    "\n",
    "\n",
    "img_example_encoded = ae.encoder(img_example).numpy()\n",
    "img_example_decoded = ae.decoder(img_example_encoded).numpy()\n",
    "\n",
    "matplotlib.rcParams.update({'font.size': 16})\n",
    "fig, (ax1, ax2, ax3) = plt.subplots(1, 3, figsize=(11,11))\n",
    "\n",
    "ax1.set_title(\"Oryginał\")\n",
    "ax1.imshow(img_example[0], cmap='gray')\n",
    "\n",
    "ax2.set_title(\"Rekonstrukcja\")\n",
    "ax2.imshow(img_example_decoded[0], cmap='gray')\n",
    "\n",
    "ax3.set_title(\"Róznica\")\n",
    "ax3.imshow(np.abs(img_example_decoded[0]-img_example[0]), cmap='gray')\n",
    "plt.show()"
   ]
  },
  {
   "cell_type": "markdown",
   "metadata": {
    "id": "7xTIhq2iRn10",
    "pycharm": {
     "name": "#%% md\n"
    }
   },
   "source": [
    "Wyraźnie widać, że tak prosty, stosunkowo płytki model z powodzeniem poradził sobie z problemem odszumiania obrazu. \n",
    "\n",
    "Autokodery mogą być zastosowane nie tylko do obrazów ale również do sekwencji danych, sygnałów, danych 3D, itd."
   ]
  },
  {
   "cell_type": "markdown",
   "metadata": {
    "id": "n4tX4wNHRn10",
    "pycharm": {
     "name": "#%% md\n"
    }
   },
   "source": [
    "# Zadania do wykonania"
   ]
  },
  {
   "cell_type": "markdown",
   "metadata": {
    "id": "3M9v3pznRn11",
    "pycharm": {
     "name": "#%% md\n"
    }
   },
   "source": [
    "<p><b>Zadanie 1</b></p> Przeprojektuj model dla danych wejściowych zbioru cyfr MNIST oraz wykonaj test odszumiania obrazu dla cyfry będącej ostatnią cyfrą w Twoim numerze albumu.\n",
    "\n"
   ]
  },
  {
   "cell_type": "markdown",
   "metadata": {
    "cellView": "form",
    "colab": {
     "base_uri": "https://localhost:8080/",
     "height": 174
    },
    "executionInfo": {
     "elapsed": 28,
     "status": "ok",
     "timestamp": 1622761344605,
     "user": {
      "displayName": "Tomasz Neumann",
      "photoUrl": "",
      "userId": "11079917422719855706"
     },
     "user_tz": -120
    },
    "id": "LrUf-MytR8vh",
    "outputId": "2020be68-c2c2-4f53-a455-bc611862993f",
    "pycharm": {
     "name": "#%% md\n"
    }
   },
   "source": [
    "![stopka.svg](stopka.svg)"
   ]
  }
 ],
 "metadata": {
  "accelerator": "GPU",
  "colab": {
   "name": "lab5_ex02.ipynb",
   "provenance": []
  },
  "kernelspec": {
   "display_name": "Python 3",
   "language": "python",
   "name": "python3"
  },
  "language_info": {
   "codemirror_mode": {
    "name": "ipython",
    "version": 3
   },
   "file_extension": ".py",
   "mimetype": "text/x-python",
   "name": "python",
   "nbconvert_exporter": "python",
   "pygments_lexer": "ipython3",
   "version": "3.7.9"
  }
 },
 "nbformat": 4,
 "nbformat_minor": 1
}