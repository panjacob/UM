{
 "cells": [
  {
   "cell_type": "code",
   "execution_count": 1,
   "metadata": {
    "collapsed": true,
    "pycharm": {
     "name": "#%%\n"
    }
   },
   "outputs": [],
   "source": [
    "import numpy as np\n",
    "import scipy\n",
    "import matplotlib.pyplot as plt\n",
    "import pandas as pd\n",
    "import seaborn as sns\n",
    "\n",
    "import sklearn\n",
    "from sklearn.decomposition import PCA\n",
    "from sklearn.linear_model import LogisticRegression\n",
    "from sklearn.metrics import confusion_matrix, ConfusionMatrixDisplay\n",
    "from sklearn.svm import SVC\n",
    "from sklearn.utils import shuffle\n",
    "from sklearn.model_selection import cross_val_score\n",
    "from sklearn.model_selection import KFold\n",
    "\n",
    "from helpers import *\n",
    "\n",
    "from utils.mnist_reader import load_mnist\n"
   ]
  },
  {
   "cell_type": "code",
   "execution_count": 2,
   "outputs": [
    {
     "name": "stdout",
     "output_type": "stream",
     "text": [
      "[9 0 0 ... 3 0 5]\n",
      "[9 2 1 ... 8 1 5]\n"
     ]
    }
   ],
   "source": [
    "def reduce_to_4_classes(X_orig, Y_orig):\n",
    "    X = []\n",
    "    Y = []\n",
    "    for x, y in zip(X_orig, Y_orig):\n",
    "        if y <= 9:\n",
    "            X.append(x)\n",
    "            Y.append(y)\n",
    "    Y_numpy = np.array(Y)\n",
    "    X_numpy = np.array(X)\n",
    "    print(Y_numpy)\n",
    "    return X_numpy, Y_numpy\n",
    "\n",
    "\n",
    "def reduce_to_0_and_rest(X_orig, Y_orig):\n",
    "    X = []\n",
    "    Y = []\n",
    "    for x, y in zip(X_orig, Y_orig):\n",
    "        if y > 0:\n",
    "            X.append(x)\n",
    "            Y.append(1)\n",
    "        else:\n",
    "            X.append(x)\n",
    "            Y.append(y)\n",
    "    Y_numpy = np.array(Y)\n",
    "    X_numpy = np.array(X)\n",
    "    print(Y_numpy)\n",
    "    return X_numpy, Y_numpy\n",
    "\n",
    "\n",
    "def load_minst_wrapper(path, kind):\n",
    "    X, Y = load_mnist(path, kind)\n",
    "    return reduce_to_4_classes(X, Y)\n",
    "\n",
    "\n",
    "Xtrn, Ytrn = load_minst_wrapper('data', 'train')\n",
    "Xtst, Ytst = load_minst_wrapper('data', 't10k')"
   ],
   "metadata": {
    "collapsed": false,
    "pycharm": {
     "name": "#%%\n"
    }
   }
  },
  {
   "cell_type": "code",
   "execution_count": 4,
   "outputs": [],
   "source": [
    "Xtrn = np.divide(Xtrn, 255)\n",
    "Xtst = np.divide(Xtst, 255)\n",
    "Xmean = Xtrn.mean(axis=0)\n",
    "# Substract means\n",
    "Xtrn_nm = Xtrn - Xmean\n",
    "Xtst_nm = Xtst - Xmean"
   ],
   "metadata": {
    "collapsed": false,
    "pycharm": {
     "name": "#%%\n"
    }
   }
  },
  {
   "cell_type": "code",
   "execution_count": null,
   "outputs": [],
   "source": [
    "SVM = SVC(kernel=\"rbf\", C=9.0, gamma=\"auto\", cache_size=2000)\n",
    "SVM.fit(Xtrn_nm, Ytrn)\n",
    "Y_pred = SVM.predict(Xtst_nm)\n",
    "accuracy = SVM.score(Xtst_nm, Ytst)\n",
    "conf_matrix = confusion_matrix(Ytst, Y_pred)\n",
    "print(f\"SVM Model's accuracy: {accuracy}\")\n",
    "cm = confusion_matrix(Ytst, Y_pred)\n",
    "disp = ConfusionMatrixDisplay(confusion_matrix=cm)\n",
    "disp.plot(cmap=plt.cm.Blues)"
   ],
   "metadata": {
    "collapsed": false,
    "pycharm": {
     "name": "#%%\n",
     "is_executing": true
    }
   }
  },
  {
   "cell_type": "code",
   "execution_count": 9,
   "outputs": [
    {
     "name": "stdout",
     "output_type": "stream",
     "text": [
      "[8.0, 8.5, 9.0, 9.5, 10.0, 10.5, 11.0, 11.5, 12.0, 12.5, 13.0, 13.5, 14.0, 14.5, 15.0, 15.5, 16.0, 16.5, 17.0, 17.5]\n",
      "On C= 8.0 \tMCV= 0.9914989952471212\n",
      "On C= 8.5 \tMCV= 0.9914989952471212\n",
      "On C= 9.0 \tMCV= 0.9909992451221837\n",
      "On C= 9.5 \tMCV= 0.9909992451221837\n",
      "On C= 10.0 \tMCV= 0.9909992451221837\n",
      "On C= 10.5 \tMCV= 0.9909992451221837\n",
      "On C= 11.0 \tMCV= 0.9909992451221837\n",
      "On C= 11.5 \tMCV= 0.9904987446216831\n",
      "On C= 12.0 \tMCV= 0.9904987446216831\n",
      "On C= 12.5 \tMCV= 0.9904987446216831\n",
      "On C= 13.0 \tMCV= 0.9904987446216831\n",
      "On C= 13.5 \tMCV= 0.9904987446216831\n",
      "On C= 14.0 \tMCV= 0.9904987446216831\n",
      "On C= 14.5 \tMCV= 0.9904987446216831\n",
      "On C= 15.0 \tMCV= 0.9904987446216831\n",
      "On C= 15.5 \tMCV= 0.9904987446216831\n",
      "On C= 16.0 \tMCV= 0.9904987446216831\n",
      "On C= 16.5 \tMCV= 0.9904987446216831\n",
      "On C= 17.0 \tMCV= 0.9904987446216831\n",
      "On C= 17.5 \tMCV= 0.9904987446216831\n"
     ]
    },
    {
     "data": {
      "text/plain": "<Figure size 1080x720 with 0 Axes>"
     },
     "metadata": {},
     "output_type": "display_data"
    }
   ],
   "source": [
    "sns.set_style('darkgrid')\n",
    "fig = plt.figure(figsize=(15, 10))\n",
    "lw = 2.5\n",
    "\n",
    "# Create dataset with normalized data and labels\n",
    "xtrn_ytrn_data = pd.concat([pd.DataFrame(data=Xtrn), pd.DataFrame(data=Ytrn, columns=['class'])]\n",
    "                           , axis=1).sort_values(by=['class'])\n",
    "\n",
    "# Create small samples of data to speed up training\n",
    "Xsmall = pd.concat([xtrn_ytrn_data[xtrn_ytrn_data['class'] == i].iloc[:1000, :-1] for i in range(0, 10)], axis=0).values\n",
    "Ysmall = pd.concat([xtrn_ytrn_data[xtrn_ytrn_data['class'] == i].iloc[:1000, -1] for i in range(0, 10)], axis=0).values\n",
    "\n",
    "# Shuffle data\n",
    "Xsmall, Ysmall = shuffle(Xsmall, Ysmall)\n",
    "\n",
    "# Create logspace to loop over\n",
    "# Cs = np.logspace(-2,3, num=10)\n",
    "Cs = [x for x in np.arange(8, 18, 0.5)]\n",
    "print(Cs)\n",
    "# Mean Cross Validation accuracy calculation\n",
    "MCV_list = []\n",
    "\n",
    "for C in Cs:\n",
    "    current_svm = SVC(kernel='rbf', C=C)\n",
    "    kf = KFold(n_splits=3, random_state=1, shuffle=True)\n",
    "    mean_crossval = np.mean(cross_val_score(current_svm, Xsmall, Ysmall, cv=kf, n_jobs=-1))\n",
    "    MCV_list.append(mean_crossval)\n",
    "    print(\"On C=\", C, \"\\tMCV=\", mean_crossval)\n",
    "\n",
    "\n"
   ],
   "metadata": {
    "collapsed": false,
    "pycharm": {
     "name": "#%%\n"
    }
   }
  },
  {
   "cell_type": "code",
   "execution_count": 71,
   "outputs": [
    {
     "data": {
      "text/plain": "<Figure size 432x288 with 1 Axes>",
      "image/png": "[encoded data removed]"
     },
     "metadata": {},
     "output_type": "display_data"
    }
   ],
   "source": [
    "plt.plot(Cs, MCV_list, color='teal', linewidth=lw)\n",
    "plt.title(\"Mean Cross Validation accuracy across Penalties\", fontsize=15, fontweight=\"bold\")\n",
    "plt.xlabel('Penalty C', fontsize=15)\n",
    "# plt.xscale(\"log\")\n",
    "plt.ylabel('Mean Cross Validation', fontsize=15)\n",
    "plt.show()"
   ],
   "metadata": {
    "collapsed": false,
    "pycharm": {
     "name": "#%%\n"
    }
   }
  },
  {
   "cell_type": "code",
   "execution_count": null,
   "outputs": [],
   "source": [],
   "metadata": {
    "collapsed": false,
    "pycharm": {
     "name": "#%%\n"
    }
   }
  }
 ],
 "metadata": {
  "kernelspec": {
   "display_name": "Python 3",
   "language": "python",
   "name": "python3"
  },
  "language_info": {
   "codemirror_mode": {
    "name": "ipython",
    "version": 2
   },
   "file_extension": ".py",
   "mimetype": "text/x-python",
   "name": "python",
   "nbconvert_exporter": "python",
   "pygments_lexer": "ipython2",
   "version": "2.7.6"
  }
 },
 "nbformat": 4,
 "nbformat_minor": 0
}