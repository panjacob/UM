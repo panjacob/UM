{
 "nbformat": 4,
 "nbformat_minor": 0,
 "metadata": {
  "colab": {
   "name": "lab2_ex1.ipynb",
   "provenance": [],
   "collapsed_sections": []
  },
  "kernelspec": {
   "name": "python3",
   "display_name": "Python 3"
  },
  "language_info": {
   "name": "python"
  }
 },
 "cells": [
  {
   "cell_type": "markdown",
   "metadata": {
    "id": "T8Qd-0_Xoutm",
    "pycharm": {
     "name": "#%% md\n"
    }
   },
   "source": [
    "##### AI TECH - Akademia Innowacyjnych Zastosowań Technologii Cyfrowych. Programu Operacyjnego Polska Cyfrowa na lata 2014-2020\n",
    "<hr>\n"
   ]
  },
  {
   "cell_type": "markdown",
   "metadata": {
    "id": "JPCZdn_Co05d",
    "pycharm": {
     "name": "#%% md\n"
    }
   },
   "source": [
    "<br>\n",
    "<br>\n",
    "<br>\n",
    "<br>\n",
    "<br>\n",
    "<br>\n",
    "<br>\n",
    "<center>\n",
    "    <h1 style = \"font-size:48px; font-weight:normal\"><b>AI</b>-TECH</style></h1>\n",
    "    <br>\n",
    "<br>\n",
    "<br>\n",
    "<br>\n",
    "    <h1 style = \"font-size:24px; font-weight:normal\">Przykład 1 DO LABORATORIUM 2</style></h1>\n",
    "    <h1 style = \"font-size:24px\">z UCZENIA MASZYNOWEGO</style></h1>\n",
    "    <h1 style = \"font-size:24px\">Klasyfikacja nadzorowana</style></h1>\n",
    "    <h1 style = \"font-size:24px\">Szymon Zaporowski</style></h1>\n",
    "    <h3 style = \"font-size:21px\">Klasyfikacja z użyciem Maszyny Wektorów Nośnych (SVM) - przykłady</h3>\n",
    "    <h3 style = \n",
    "</center>\n",
    "<br>\n",
    "<br>\n",
    "<br>\n",
    "<br>\n",
    "<br>\n",
    "<br>\n",
    "<br>\n",
    "<br>\n",
    "<br>\n",
    "    </body>\n",
    "    </html>"
   ]
  },
  {
   "cell_type": "markdown",
   "metadata": {
    "id": "AFFsYOAio4Mx",
    "pycharm": {
     "name": "#%% md\n"
    }
   },
   "source": [
    "![stopka.svg](stopka.svg)"
   ]
  },
  {
   "cell_type": "markdown",
   "metadata": {
    "id": "JRx4RECoo8XW",
    "pycharm": {
     "name": "#%% md\n"
    }
   },
   "source": [
    "<center>\n",
    "Projekt współfinansowany ze środków Unii Europejskiej w ramach Europejskiego Funduszu Rozwoju Regionalnego \n",
    "Program Operacyjny Polska Cyfrowa na lata 2014-2020,\n",
    "Oś Priorytetowa nr 3 \"Cyfrowe kompetencje społeczeństwa\" Działanie  nr 3.2 \"Innowacyjne rozwiązania na rzecz aktywizacji cyfrowej\" \n",
    "Tytuł projektu:  „Akademia Innowacyjnych Zastosowań Technologii Cyfrowych (AI Tech)”\n",
    "    </center>"
   ]
  },
  {
   "cell_type": "markdown",
   "metadata": {
    "id": "l2yOSzjQo-7D",
    "pycharm": {
     "name": "#%% md\n"
    }
   },
   "source": [
    "# 1. Przykład 1"
   ]
  },
  {
   "cell_type": "markdown",
   "metadata": {
    "id": "O3PN4ON0pCiP",
    "pycharm": {
     "name": "#%% md\n"
    }
   },
   "source": [
    "Maszyna Wektorów Nośnych (SVM) jest wszechstronnym modelem uczenia maszynowego za pomocą którego można dokonywać klasyfikacji zaróno liniowej jak i nieliniowej, regresji oraz detekcji elementów odstających. Główne zastosowanie SVM to klasyfikacja złożonych lecz niewielkich zbiorów danych.\n",
    "\n",
    "Dokładny sposób działania SVM został przedstawiony w ramach wykładów z przedmiotu Uczenie maszynowe:\n",
    ">wykład nr 7: https://enauczanie.pg.edu.pl/moodle/pluginfile.php/1174537/mod_resource/content/2/uczenie_maszynowe_7_rozszerzone.pdf  \n",
    "\n",
    ">wykład nr 8: https://enauczanie.pg.edu.pl/moodle/pluginfile.php/1184214/mod_resource/content/1/uczenie_maszynowe_8_rozszerzone.pdf\n",
    "\n",
    "<p>Oraz w materiałach pomocnicznych do wykładów:<p>\n",
    "\n",
    ">Wprowadzenie do SVM - wektory nośne, wyznaczanie marginesów: \n",
    "https://colab.research.google.com/drive/1usd-0v8DUUx70TvyZGzFe66ZiC3MYxR2?usp=sharing\n",
    "\n",
    ">Sztywne marginesy w SVM, prosta implementacja z użyciem Scikit_learn: https://colab.research.google.com/drive/1iq5UPWD1NLgL62SUUlyVq6sl3HvXw9QE?usp=sharing\n",
    "\n",
    ">Miękki margines oraz różne funkcje jądra SVM: https://colab.research.google.com/drive/1g64Y1b6WCWS-GmK6yq5D1hraiHHKQmlm?usp=sharing\n",
    "\n",
    "> Porównanie regresji logistycznej z SVM, podejście mutliklasowe do klasyfikacji z użyciem SVM: https://colab.research.google.com/drive/1EIIrzzg8i5RF8ZySi0ZKqWQDUP_u1bmE?usp=sharing\n",
    "\n",
    "W tym przykładzie skupimy się na zastosowaniu SVM do klasyfikacji. W tym celu wykorzystamy znany z wykładów zbiór danych dotyczący diagnostyki nowotworów piersi\n",
    "\n"
   ]
  },
  {
   "cell_type": "markdown",
   "metadata": {
    "id": "j-vntSqGeFfR",
    "pycharm": {
     "name": "#%% md\n"
    }
   },
   "source": [
    "Najpierw dokonujemy załadowania bibliotek niezbędnych do uruchomienia ćwiczenia."
   ]
  },
  {
   "cell_type": "code",
   "metadata": {
    "id": "C7MtxRVFeY9n",
    "pycharm": {
     "name": "#%%\n"
    }
   },
   "source": [
    "#Import bilbioteki scikit-learn i modułu dataset zawierającego zbiory danych \n",
    "from sklearn import datasets\n",
    "# Zaimporotwanie funkcji train_test_split do podziału zbioru na dane trenignowe i testowe \n",
    "from sklearn.model_selection import train_test_split\n",
    "# Zaimporotowanie modelu SVM z packietu sklearn \n",
    "from sklearn import svm\n",
    "#Import modułu metrics z pakietu scikit-learn do policzenia miary dokładności klasyfikatora\n",
    "from sklearn import metrics\n",
    "# Import modułów potrzebnych do tworzenia grafiki i obliczeń\n",
    "import numpy as np #import biblioteki numpy do obliczeń\n",
    "import pandas as pd # import biblioteki pandas do przetwarzania danych\n",
    "import matplotlib.pyplot as plt #import biblioteki matplotlib i modułu pyplot\n",
    "from matplotlib.colors import ListedColormap\n",
    "import seaborn as sns #import biblioteki seaborn do tworzenia wykresów\n",
    "from mpl_toolkits.mplot3d import Axes3D # import biblioteki potrzebnej do wizualizacji 3D\n",
    "from sklearn.decomposition import PCA # import biblioteki niezbędnej do przeprowadzenia redukcji wymiarowości z użyciem PCA\n",
    "%matplotlib inline\n",
    "from sklearn.pipeline import Pipeline\n",
    "from sklearn.pipeline import make_pipeline\n",
    "from sklearn.preprocessing import StandardScaler\n",
    "from sklearn.svm import LinearSVC\n",
    "from mlxtend.plotting import plot_decision_regions\n",
    "from sklearn.svm import SVC\n"
   ],
   "execution_count": 2,
   "outputs": []
  },
  {
   "cell_type": "markdown",
   "metadata": {
    "id": "CqQSok0dd_tY",
    "pycharm": {
     "name": "#%% md\n"
    }
   },
   "source": [
    "Dokonujemy ładowania danych, wyświetlamy nazwy cech oraz etykiet"
   ]
  },
  {
   "cell_type": "code",
   "metadata": {
    "colab": {
     "base_uri": "https://localhost:8080/"
    },
    "id": "a4wAGVbYebmw",
    "outputId": "a7c49bfe-697f-4112-fe34-0d532a5f7281",
    "pycharm": {
     "name": "#%%\n"
    }
   },
   "source": [
    "#Załadowanie zbioru danych\n",
    "dataset = datasets.load_breast_cancer() #datasets.load_iris() #datasets.load_breast_cancer() #datasets.load_wine() #load_breast_cancer()\n",
    "\n",
    "# Wypisanie zbioru nazw cech ze zbioru danych ( w tym przypadku 13 cech)\n",
    "print(\"Features: \", dataset.feature_names)\n",
    "\n",
    "#Wypisanie etykiet zawierających typy raka: \"złośliwy\", \"łagodny\" \n",
    "print(\"Labels: \", dataset.target_names)"
   ],
   "execution_count": 3,
   "outputs": [
    {
     "output_type": "stream",
     "text": [
      "Features:  ['mean radius' 'mean texture' 'mean perimeter' 'mean area'\n",
      " 'mean smoothness' 'mean compactness' 'mean concavity'\n",
      " 'mean concave points' 'mean symmetry' 'mean fractal dimension'\n",
      " 'radius error' 'texture error' 'perimeter error' 'area error'\n",
      " 'smoothness error' 'compactness error' 'concavity error'\n",
      " 'concave points error' 'symmetry error' 'fractal dimension error'\n",
      " 'worst radius' 'worst texture' 'worst perimeter' 'worst area'\n",
      " 'worst smoothness' 'worst compactness' 'worst concavity'\n",
      " 'worst concave points' 'worst symmetry' 'worst fractal dimension']\n",
      "Labels:  ['malignant' 'benign']\n"
     ],
     "name": "stdout"
    }
   ]
  },
  {
   "cell_type": "markdown",
   "metadata": {
    "id": "oxsTYrX7eQt5",
    "pycharm": {
     "name": "#%% md\n"
    }
   },
   "source": [
    "Sprawdzamy jak wyglądają wartości numeryczne danych poprzez wypisanie kształtu wektora danych oraz kilku pierwszych wartośći oraz wartości etykiet."
   ]
  },
  {
   "cell_type": "code",
   "metadata": {
    "colab": {
     "base_uri": "https://localhost:8080/"
    },
    "id": "CU095EaAednl",
    "outputId": "01068200-8bbe-452c-cc40-78dc7f0c3132",
    "pycharm": {
     "name": "#%%\n"
    }
   },
   "source": [
    "# Wypisanie kształtu danych (cech) ze zbioru \n",
    "print(\"Kształt wektora danych\",dataset.data.shape)\n",
    "# Wypisanie wartości dla 5 pierwych wpisów w danych \n",
    "print(\"Wartości pierwszych 5 rekordów:\",dataset.data[0:1])\n",
    "# Wypisanie etykiet oznaczających nowotwór (0:złośliwy, 1:łagodny)\n",
    "print(\"Etykiety danych:\",dataset.target)"
   ],
   "execution_count": 4,
   "outputs": [
    {
     "output_type": "stream",
     "text": [
      "Kształt wektora danych (569, 30)\n",
      "Wartości pierwszych 5 rekordów: [[1.799e+01 1.038e+01 1.228e+02 1.001e+03 1.184e-01 2.776e-01 3.001e-01\n",
      "  1.471e-01 2.419e-01 7.871e-02 1.095e+00 9.053e-01 8.589e+00 1.534e+02\n",
      "  6.399e-03 4.904e-02 5.373e-02 1.587e-02 3.003e-02 6.193e-03 2.538e+01\n",
      "  1.733e+01 1.846e+02 2.019e+03 1.622e-01 6.656e-01 7.119e-01 2.654e-01\n",
      "  4.601e-01 1.189e-01]]\n",
      "Etykiety danych: [0 0 0 0 0 0 0 0 0 0 0 0 0 0 0 0 0 0 0 1 1 1 0 0 0 0 0 0 0 0 0 0 0 0 0 0 0\n",
      " 1 0 0 0 0 0 0 0 0 1 0 1 1 1 1 1 0 0 1 0 0 1 1 1 1 0 1 0 0 1 1 1 1 0 1 0 0\n",
      " 1 0 1 0 0 1 1 1 0 0 1 0 0 0 1 1 1 0 1 1 0 0 1 1 1 0 0 1 1 1 1 0 1 1 0 1 1\n",
      " 1 1 1 1 1 1 0 0 0 1 0 0 1 1 1 0 0 1 0 1 0 0 1 0 0 1 1 0 1 1 0 1 1 1 1 0 1\n",
      " 1 1 1 1 1 1 1 1 0 1 1 1 1 0 0 1 0 1 1 0 0 1 1 0 0 1 1 1 1 0 1 1 0 0 0 1 0\n",
      " 1 0 1 1 1 0 1 1 0 0 1 0 0 0 0 1 0 0 0 1 0 1 0 1 1 0 1 0 0 0 0 1 1 0 0 1 1\n",
      " 1 0 1 1 1 1 1 0 0 1 1 0 1 1 0 0 1 0 1 1 1 1 0 1 1 1 1 1 0 1 0 0 0 0 0 0 0\n",
      " 0 0 0 0 0 0 0 1 1 1 1 1 1 0 1 0 1 1 0 1 1 0 1 0 0 1 1 1 1 1 1 1 1 1 1 1 1\n",
      " 1 0 1 1 0 1 0 1 1 1 1 1 1 1 1 1 1 1 1 1 1 0 1 1 1 0 1 0 1 1 1 1 0 0 0 1 1\n",
      " 1 1 0 1 0 1 0 1 1 1 0 1 1 1 1 1 1 1 0 0 0 1 1 1 1 1 1 1 1 1 1 1 0 0 1 0 0\n",
      " 0 1 0 0 1 1 1 1 1 0 1 1 1 1 1 0 1 1 1 0 1 1 0 0 1 1 1 1 1 1 0 1 1 1 1 1 1\n",
      " 1 0 1 1 1 1 1 0 1 1 0 1 1 1 1 1 1 1 1 1 1 1 1 0 1 0 0 1 0 1 1 1 1 1 0 1 1\n",
      " 0 1 0 1 1 0 1 0 1 1 1 1 1 1 1 1 0 0 1 1 1 1 1 1 0 1 1 1 1 1 1 1 1 1 1 0 1\n",
      " 1 1 1 1 1 1 0 1 0 1 1 0 1 1 1 1 1 0 0 1 0 1 0 1 1 1 1 1 0 1 1 0 1 0 1 0 0\n",
      " 1 1 1 0 1 1 1 1 1 1 1 1 1 1 1 0 1 0 0 1 1 1 1 1 1 1 1 1 1 1 1 1 1 1 1 1 1\n",
      " 1 1 1 1 1 1 1 0 0 0 0 0 0 1]\n"
     ],
     "name": "stdout"
    }
   ]
  },
  {
   "cell_type": "markdown",
   "metadata": {
    "id": "mpcUKYEJecEJ",
    "pycharm": {
     "name": "#%% md\n"
    }
   },
   "source": [
    "Następnie dokonywany jest podział zbioru na dane testow i treningowe z wykorzystaniem polecenia\n",
    "\n",
    "\n",
    "```\n",
    "# X_train, X_test, y_train, y_test = train_test_split(dataset.data, dataset.target, test_size=0.30,random_state=109)\n",
    "```\n",
    "Należy zwrócić uwagę na parametr\n",
    "```\n",
    "# test_size=0.30\n",
    "```\n",
    "Poprzez który ustalana jest wielkość zbioru testowego oraz treningowego, wartość 0.30 oznacza 30% zbioru testowego i 70% zbioru treningowego.\n",
    "\n",
    "Dla sprawdzenia czy podział został dokonany poprawnie wyśtwietlamy wartości dla wszystkich podzielonych zbiorów."
   ]
  },
  {
   "cell_type": "code",
   "metadata": {
    "colab": {
     "base_uri": "https://localhost:8080/"
    },
    "id": "iVymqSwtench",
    "outputId": "b1ae862d-9460-4c46-e7f6-a708de3686da",
    "pycharm": {
     "name": "#%%\n"
    }
   },
   "source": [
    "# Podział zbioru na dane treningowe i testowe \n",
    "X_train, X_test, y_train, y_test = train_test_split(dataset.data, dataset.target, test_size=0.10,random_state=109) # Rozmiar zbiorów to 70% treningowy i 30% testowy\n",
    "print(\"zbiór trenignowy:\", X_train)\n",
    "print(\"zbiór trenignowy - etykiety:\", y_train)\n",
    "print(\"zbiór testowy:\", X_test)\n",
    "print(\"zbiór testowy - etykiety:\", y_test)"
   ],
   "execution_count": 5,
   "outputs": [
    {
     "output_type": "stream",
     "text": [
      "zbiór trenignowy: [[1.298e+01 1.935e+01 8.452e+01 ... 9.858e-02 3.596e-01 9.166e-02]\n",
      " [8.950e+00 1.576e+01 5.874e+01 ... 3.846e-02 1.652e-01 7.722e-02]\n",
      " [1.603e+01 1.551e+01 1.058e+02 ... 1.981e-01 3.019e-01 9.124e-02]\n",
      " ...\n",
      " [1.611e+01 1.805e+01 1.051e+02 ... 1.216e-01 2.792e-01 8.158e-02]\n",
      " [1.048e+01 1.986e+01 6.672e+01 ... 6.736e-02 2.883e-01 7.748e-02]\n",
      " [1.729e+01 2.213e+01 1.144e+02 ... 1.528e-01 3.067e-01 7.484e-02]]\n",
      "zbiór trenignowy - etykiety: [1 1 0 0 1 0 1 0 0 1 1 1 1 0 1 1 1 0 1 0 1 1 1 1 1 1 1 0 1 1 1 1 1 0 0 1 0\n",
      " 1 1 1 1 1 0 0 1 1 0 1 1 0 1 0 1 1 0 1 1 0 0 0 1 0 1 1 1 1 1 0 1 0 1 0 1 0\n",
      " 0 0 0 0 1 1 0 1 1 1 0 1 1 0 0 1 0 0 0 1 1 1 1 1 0 0 1 0 1 1 1 1 1 1 1 1 0\n",
      " 1 1 1 0 1 1 1 1 1 1 0 0 1 0 1 1 0 0 0 0 1 0 1 0 1 1 1 1 0 0 1 0 1 1 1 1 1\n",
      " 0 1 0 1 0 1 0 1 0 0 0 0 1 1 0 1 0 1 0 0 1 0 0 1 1 1 1 1 1 0 0 1 1 1 1 1 1\n",
      " 1 1 0 1 1 1 1 0 1 1 1 0 1 1 1 1 0 1 1 1 1 1 1 1 0 1 1 1 0 1 1 0 1 1 1 0 1\n",
      " 1 0 0 0 1 1 1 0 1 1 1 0 0 1 1 1 0 1 0 0 0 1 0 1 1 1 0 1 0 1 0 0 1 1 1 1 0\n",
      " 0 1 1 1 1 1 0 1 1 1 0 0 1 0 1 0 0 0 0 1 1 0 0 1 1 1 1 1 1 1 1 1 0 1 0 0 0\n",
      " 1 1 0 1 0 1 1 1 0 1 1 0 0 1 0 1 1 1 0 0 1 0 1 1 1 1 0 1 1 1 1 1 0 1 1 1 0\n",
      " 0 0 1 0 0 1 1 1 1 1 0 0 0 1 1 1 0 1 0 1 1 1 1 1 0 0 0 1 1 1 0 1 0 0 0 0 0\n",
      " 1 1 1 1 0 1 1 1 0 1 1 0 1 0 1 0 1 0 1 1 0 1 1 1 1 1 1 0 0 0 0 1 0 1 1 1 0\n",
      " 1 1 1 0 1 0 0 1 1 1 0 1 0 1 0 0 0 0 1 1 0 0 1 0 1 1 1 0 1 0 1 1 0 1 1 0 0\n",
      " 1 0 1 0 1 0 1 0 0 1 1 1 1 1 1 1 1 1 1 1 1 0 0 0 0 1 1 1 0 0 1 1 1 0 0 1 1\n",
      " 1 1 0 1 1 1 1 1 1 1 1 1 1 1 0 1 1 1 1 1 1 0 0 0 1 1 0 1 0 1 0]\n",
      "zbiór testowy: [[1.167e+01 2.002e+01 7.521e+01 ... 8.120e-02 3.206e-01 8.950e-02]\n",
      " [1.194e+01 1.824e+01 7.571e+01 ... 6.296e-02 2.785e-01 7.408e-02]\n",
      " [1.916e+01 2.660e+01 1.262e+02 ... 1.872e-01 3.258e-01 9.720e-02]\n",
      " ...\n",
      " [8.196e+00 1.684e+01 5.171e+01 ... 2.564e-02 3.105e-01 7.409e-02]\n",
      " [1.894e+01 2.131e+01 1.236e+02 ... 1.789e-01 2.551e-01 6.589e-02]\n",
      " [1.290e+01 1.592e+01 8.374e+01 ... 1.012e-01 3.549e-01 8.118e-02]]\n",
      "zbiór testowy - etykiety: [1 1 0 0 1 0 1 1 1 0 0 0 1 0 1 1 0 0 1 0 1 1 0 0 1 1 0 1 1 1 1 0 1 1 1 1 1\n",
      " 0 1 1 0 1 0 1 1 1 0 1 0 0 1 1 0 1 1 0 1]\n"
     ],
     "name": "stdout"
    }
   ]
  },
  {
   "cell_type": "markdown",
   "metadata": {
    "id": "6p_JpZECnwEZ",
    "pycharm": {
     "name": "#%% md\n"
    }
   },
   "source": [
    "Rysujemy na płaszczyźnie zbiór danych, dane odróźniające się kolorem - lekko zanikające to dane testowe, pozostałe dane to dane treningowe."
   ]
  },
  {
   "cell_type": "code",
   "metadata": {
    "colab": {
     "base_uri": "https://localhost:8080/",
     "height": 374
    },
    "id": "tywFzDp-k4fK",
    "outputId": "e7ae8cfe-b3d9-4b55-d718-ced5b1e482e9",
    "pycharm": {
     "name": "#%%\n"
    }
   },
   "source": [
    "X = dataset.data\n",
    "y = dataset.target\n",
    "\n",
    "x_min, x_max = X[:, 0].min() - .5, X[:, 0].max() + .5\n",
    "y_min, y_max = X[:, 1].min() - .5, X[:, 1].max() + .5\n",
    "\n",
    "plt.figure(2, figsize=(8, 6))\n",
    "\n",
    "# Rysowanie danych treningowych\n",
    "#plt.scatter(X[:, 0], X[:, 1], c=y, cmap=plt.cm.Set1,\n",
    "#            edgecolor='k')\n",
    "\n",
    "# Rysowanie punktów należacych do zbioru treningowego\n",
    "cm_bright = ListedColormap(['#FF0000', '#0000FF'])\n",
    "plt.scatter(X_train[:, 0], X_train[:, 1], c=y_train, cmap=cm_bright,\n",
    "                   edgecolors='m')\n",
    "        # Rysowanie punktów należacych do zbioru testowego\n",
    "plt.scatter(X_test[:, 0], X_test[:, 1], c=y_test, cmap=cm_bright,\n",
    "                   edgecolors='y', alpha=0.4)\n",
    "\n",
    "\n",
    "plt.xlim(x_min, x_max)\n",
    "plt.ylim(y_min, y_max)\n",
    "\n",
    "plt.show()\n"
   ],
   "execution_count": 6,
   "outputs": [
    {
     "output_type": "display_data",
     "data": {
      "image/png": "[encoded data removed]",
      "text/plain": [
       "<Figure size 576x432 with 1 Axes>"
      ]
     },
     "metadata": {
      "tags": [],
      "needs_background": "light"
     }
    }
   ]
  },
  {
   "cell_type": "markdown",
   "metadata": {
    "id": "He0TYFGwTQAo",
    "pycharm": {
     "name": "#%% md\n"
    }
   },
   "source": [
    "Patrząc na wykres reprzentacji klas należacych do zbioru danych przedstawionych na płaszczyźnie można łatwo zauważyć, iż idealna separacja klas z wykorzystaniem prostej linii separucjącej może być niemożliwa. Wykorzystamy klasyfikator oparty o SVM z jądrem liniowym.\n",
    "Klasyfikator został zaimportowany z użyciem biblioteki scikit-learn.\n",
    "Poniżej pokazano komendę odpowiedzialną za import klasyfikatora. Jak widać istnieje kilka parametrów, które należy wpisać. Pierwszy z nich jest rodzaj jądra czyli kernel. Do wyboru jest kilka opcji, zaczynąc od najprosztszego czyli linowego ukrywająceog się pod nazwą \"linear\", poprzez jądra wielomianowe \"poly\" czy czy też funkcję rbf czyli \"rbf\". Oprócz tego istnieją inne istotne parametry takie jak współczynnik C odpowiadający za określenie wektorów nośnych oraz lini separującej i marginesu.\n",
    "\n",
    "\n",
    "```\n",
    "clf = svm.SVC(kernel='linear', C=1 )\n",
    "```\n",
    "\n",
    "Pełna dokumentacja funkcji znajduje się na stronie:https://scikit-learn.org/stable/modules/generated/sklearn.svm.SVC.html?highlight=svc#sklearn.svm.SVC\n",
    "\n",
    "Dodatkowo do sprawdzenia jakości modelu wykorzystamy miarę Accuracy, która powinna być państwu znana. Dla przypomnienia, jest to stosunek poprwnie dokonanych klasyfikacji do wszystkich dokonanych klasyfikacji. \n",
    "<p>Gdyby zapisać to za pomocą wzoru otrzymamy:<p>\n",
    "$$ Accuracy = \\frac {True Positive + True Negative}{True Positive + True Negative + False Positive + False Negative} $$\n",
    "Oprócz tego wykorzystane zostaną dwie inne miary: Precision oraz Recall.\n",
    "Precision jest definowana jako stosunek wartości prawdziwie pozytywnych wyników do sumy wartości prawdzwie pozytywnych wyników i wyników fałszywie pozytywnych. <p>Zapisując to we wzorze otrzymamy:<p>\n",
    "$$ Precision = \\frac {True Positive}{True Positive + False Positive} $$\n",
    "<p>\n",
    "Podobnie w przypadku miary Recall, która jest stosunkiem wartości prawdziwie pozytywnych wyników do sumy wyników prawdziwie pozytywnych i fałszywie negatywnych.<p>\n",
    "<p>Zapisując to za pomocą wzoru otrzymamy:<p>\n",
    "$$ Recall = \\frac {True Positive}{True Positive + False Negative} $$"
   ]
  },
  {
   "cell_type": "code",
   "metadata": {
    "colab": {
     "base_uri": "https://localhost:8080/"
    },
    "id": "Mnkcnss0eqaD",
    "outputId": "b3efd04e-20a1-4df6-b90d-f52ee9321c28",
    "pycharm": {
     "name": "#%%\n"
    }
   },
   "source": [
    "#Inicjalizacja klasyfikatora bazującego na SVM\n",
    "clf = svm.SVC(kernel='rbf')#,probability=True) # kernel - opcje: rbf - domyślna, linear -linioye, poly - wielomianowe, dodatkowy parametr degree oznaczający stopień wielomianu\n",
    "#Trening modelu z wykorzystaniem danych treningowych \n",
    "clf.fit(X_train, y_train)\n",
    "#Predykcja odpowiedzi modelu na dane testowe \n",
    "y_pred = clf.predict(X_test)\n",
    "# Obliczenie dokładności klasyfikatora, jak często klasyfikator klasyfikuje poprawnie\n",
    "print(\"Miara accuracy:\",metrics.accuracy_score(y_test, y_pred))\n",
    "y_score = clf.decision_function(X_test)\n",
    "# Obliczenia wartości miary precison dla modelu: (precision to stosunek wartości prawdziwie pozytywnych wyników do sumy wartości prawdzwie pozytywnych wyników i wyników fałszywie pozytywnych  \n",
    "print(\"Wartość miary precision dla wytrenowanego modelu:\",metrics.precision_score(y_test, y_pred))\n",
    "# Obliczenia wartości miary recall dla modelu: (recall to stosunek wartości prawdziwie pozytywnych wyników do sumy wyników prawdziwie pozytywnych i fałszywie negatywnych)\n",
    "print(\"Wartość miary recall dla wytrenowanego modelu:\",metrics.recall_score(y_test, y_pred))"
   ],
   "execution_count": null,
   "outputs": [
    {
     "output_type": "stream",
     "text": [
      "Dokładność: 0.9473684210526315\n",
      "Wartość miary precission dla wytrenowanego modelu: 0.9210526315789473\n",
      "Wartość miary recall dla wytrenowanego modelu: 1.0\n"
     ],
     "name": "stdout"
    }
   ]
  },
  {
   "cell_type": "markdown",
   "metadata": {
    "id": "MuCS4SPBrGQA",
    "pycharm": {
     "name": "#%% md\n"
    }
   },
   "source": [
    "Aby sprawdzić dokładnie jak wyglądała klasyfikacja i gdzie nastąpiły pomyłki wykorzystuje się macierz pomyłek. Poniżej pokazano kod pozwalający na graficzna interpretację wyników z wykorzystaniem macierzy pomyłek."
   ]
  },
  {
   "cell_type": "code",
   "metadata": {
    "colab": {
     "base_uri": "https://localhost:8080/",
     "height": 339
    },
    "id": "zRZZ8Ij2P9rk",
    "outputId": "0d1436b3-456e-40a7-b2f6-364d81d48024",
    "pycharm": {
     "name": "#%%\n"
    }
   },
   "source": [
    "#Tworzenie macierzy pomyłek dla testowanego klasfikatora\n",
    "cnf_matrix = metrics.confusion_matrix(y_test, y_pred)\n",
    "cnf_matrix\n",
    "class_names=[0,1] # nazwy klas\n",
    "fig, ax = plt.subplots()\n",
    "tick_marks = np.arange(len(class_names))\n",
    "plt.xticks(tick_marks, class_names)\n",
    "plt.yticks(tick_marks, class_names)\n",
    "# tworzenie mapy cieplnej\n",
    "sns.heatmap(pd.DataFrame(cnf_matrix), annot=True ,fmt='g')\n",
    "ax.xaxis.set_label_position(\"top\")\n",
    "plt.tight_layout()\n",
    "plt.title('Macierz pomyłek', y=1.1)\n",
    "plt.ylabel('Rzeczywista etykieta')\n",
    "plt.xlabel('Etykieta przewidziana przez model')"
   ],
   "execution_count": null,
   "outputs": [
    {
     "output_type": "execute_result",
     "data": {
      "text/plain": [
       "Text(0.5, 257.44, 'Etykieta przewidziana przez model')"
      ]
     },
     "metadata": {
      "tags": []
     },
     "execution_count": 17
    },
    {
     "output_type": "display_data",
     "data": {
      "image/png": "[encoded data removed]",
      "text/plain": [
       "<Figure size 432x288 with 2 Axes>"
      ]
     },
     "metadata": {
      "tags": [],
      "needs_background": "light"
     }
    }
   ]
  },
  {
   "cell_type": "markdown",
   "metadata": {
    "id": "ew87maTY2LDN",
    "pycharm": {
     "name": "#%% md\n"
    }
   },
   "source": [
    "Spróbujmy teraz wykorzystać inne jądro i sprawdzimy czy wpłynie to na wyniki klasyfikacji. Tym razem wykorzystane zostanie jądro Radial Baisis Function."
   ]
  },
  {
   "cell_type": "code",
   "metadata": {
    "colab": {
     "base_uri": "https://localhost:8080/"
    },
    "id": "0jJYTFByNV9p",
    "outputId": "d07fe67b-6b40-4163-95f1-d6e37297908c",
    "pycharm": {
     "name": "#%%\n"
    }
   },
   "source": [
    "#Inicjalizacja klasyfikatora bazującego na SVM\n",
    "clf = svm.SVC(kernel='rbf', C=100)#,probability=True) # kernel - opcje: rbf - domyślna, linear -linioye, poly - wielomianowe, dodatkowy parametr degree oznaczający stopień wielomianu\n",
    "#Trening modelu z wykorzystaniem danych treningowych \n",
    "clf.fit(X_train, y_train)\n",
    "#Predykcja odpowiedzi modelu na dane testowe \n",
    "y_pred = clf.predict(X_test)\n",
    "# Obliczenie dokładności klasyfikatora, jak często klasyfikator klasyfikuje poprawnie\n",
    "print(\"Miara accuracy:\",metrics.accuracy_score(y_test, y_pred))\n",
    "y_score = clf.decision_function(X_test)\n",
    "# Obliczenia wartości miary precison dla modelu: (precision to stosunek wartości prawdziwie pozytywnych wyników do sumy wartości prawdzwie pozytywnych wyników i wyników fałszywie pozytywnych  \n",
    "print(\"Wartość miary precision dla wytrenowanego modelu:\",metrics.precision_score(y_test, y_pred))\n",
    "# Obliczenia wartości miary recall dla modelu: (recall to stosunek wartości prawdziwie pozytywnych wyników do sumy wyników prawdziwie pozytywnych i fałszywie negatywnych)\n",
    "print(\"Wartość miary recall dla wytrenowanego modelu:\",metrics.recall_score(y_test, y_pred))"
   ],
   "execution_count": null,
   "outputs": [
    {
     "output_type": "stream",
     "text": [
      "Dokładność: 0.9824561403508771\n",
      "Wartość miary precision dla wytrenowanego modelu: 0.9722222222222222\n",
      "Wartość miary recall dla wytrenowanego modelu: 1.0\n"
     ],
     "name": "stdout"
    }
   ]
  },
  {
   "cell_type": "code",
   "metadata": {
    "colab": {
     "base_uri": "https://localhost:8080/",
     "height": 339
    },
    "id": "yOMGiDKlP7Qz",
    "outputId": "939800eb-de80-4ec1-bdf0-375421df52a2",
    "pycharm": {
     "name": "#%%\n"
    }
   },
   "source": [
    "#Tworzenie macierzy pomyłek dla testowanego klasfikatora\n",
    "cnf_matrix = metrics.confusion_matrix(y_test, y_pred)\n",
    "cnf_matrix\n",
    "class_names=[0,1] # nazwy klas\n",
    "fig, ax = plt.subplots()\n",
    "tick_marks = np.arange(len(class_names))\n",
    "plt.xticks(tick_marks, class_names)\n",
    "plt.yticks(tick_marks, class_names)\n",
    "# tworzenie mapy cieplnej\n",
    "sns.heatmap(pd.DataFrame(cnf_matrix), annot=True ,fmt='g')\n",
    "ax.xaxis.set_label_position(\"top\")\n",
    "plt.tight_layout()\n",
    "plt.title('Macierz pomyłek', y=1.1)\n",
    "plt.ylabel('Rzeczywista etykieta')\n",
    "plt.xlabel('Etykieta przewidziana przez model')"
   ],
   "execution_count": null,
   "outputs": [
    {
     "output_type": "execute_result",
     "data": {
      "text/plain": [
       "Text(0.5, 257.44, 'Etykieta przewidziana przez model')"
      ]
     },
     "metadata": {
      "tags": []
     },
     "execution_count": 104
    },
    {
     "output_type": "display_data",
     "data": {
      "image/png": "[encoded data removed]",
      "text/plain": [
       "<Figure size 432x288 with 2 Axes>"
      ]
     },
     "metadata": {
      "tags": [],
      "needs_background": "light"
     }
    }
   ]
  },
  {
   "cell_type": "markdown",
   "metadata": {
    "id": "oyZmh7gQGUSQ",
    "pycharm": {
     "name": "#%% md\n"
    }
   },
   "source": [
    "Udało się trochę poprawić wyniki klasyfikacji, natomiast jeszcze nie udało się uzyskać 100%. "
   ]
  },
  {
   "cell_type": "markdown",
   "metadata": {
    "id": "TdQ3s2c129ob",
    "pycharm": {
     "name": "#%% md\n"
    }
   },
   "source": [
    "Wykorzystamy teraz inną funkcję znajdująca sie w pakiecie scikit-learn do zaimplementowania klasyfikatora typu SVM. Użyte zostanie jądro liniowe i funkcja straty \"hinge\".\n",
    "\n",
    "\n",
    "\n",
    "```\n",
    "svm_clf = Pipeline ([\n",
    "                     (\"scaler\", StandardScaler()),\n",
    "                     (\"linear_svc\",LinearSVC(C=1, loss=\"hinge\")),\n",
    "])\n",
    "```\n",
    "\n",
    "\n",
    "Dodatkowo dokonano przekształcenia na danych - zostały one przeskalowane z użyciem funkcji StandardScaler. Funkcja ta standaryzuje dane, usuwając średnią i skalując je do wariancji jednostkowej\n",
    "\n",
    "Funkcję oblicza się jako:\n",
    "$$ z= \\frac{(x-u)} {s}  $$\n",
    "\n",
    "gdzie\n",
    "zmienna *u* jest rozumiana jako średnia wartość ze zbioru treningowego natomiast *s* jest to odchylenie standardowe wartości ze zbioru treningowego, natomiast *x* to oryginalna wartość ze zbioru treningowego."
   ]
  },
  {
   "cell_type": "code",
   "metadata": {
    "colab": {
     "base_uri": "https://localhost:8080/"
    },
    "id": "7ZyWDcAONrTq",
    "outputId": "76505791-5947-4918-c05c-cf8064ec91ab",
    "pycharm": {
     "name": "#%%\n"
    }
   },
   "source": [
    "svm_clf = Pipeline ([\n",
    "                     (\"scaler\", StandardScaler()),\n",
    "                     (\"linear_svc\",LinearSVC(C=1, loss=\"hinge\")),\n",
    "])\n",
    "svm_clf.fit(X_train,y_train)\n",
    "y_pred_svm = svm_clf.predict(X_test)\n",
    "# Obliczenie dokładności klasyfikatora, jak często klasyfikator klasyfikuje poprawnie\n",
    "print(\"Miara accuracy:\",metrics.accuracy_score(y_test, y_pred_svm))\n",
    "y_score = svm_clf.decision_function(X_test)\n",
    "# Obliczenia wartości miary precison dla modelu: (precision to stosunek wartości prawdziwie pozytywnych wyników do sumy wartości prawdzwie pozytywnych wyników i wyników fałszywie pozytywnych  \n",
    "print(\"Wartość miary precision dla wytrenowanego modelu:\",metrics.precision_score(y_test,y_pred_svm))\n",
    "# Obliczenia wartości miary recall dla modelu: (recall to stosunek wartości prawdziwie pozytywnych wyników do sumy wyników prawdziwie pozytywnych i fałszywie negatywnych)\n",
    "print(\"Wartość miary recall dla wytrenowanego modelu:\",metrics.recall_score(y_test, y_pred_svm))"
   ],
   "execution_count": null,
   "outputs": [
    {
     "output_type": "stream",
     "text": [
      "Miara accuracy: 1.0\n",
      "Wartość miary precision dla wytrenowanego modelu: 1.0\n",
      "Wartość miary recall dla wytrenowanego modelu: 1.0\n"
     ],
     "name": "stdout"
    },
    {
     "output_type": "stream",
     "text": [
      "/usr/local/lib/python3.7/dist-packages/sklearn/svm/_base.py:947: ConvergenceWarning: Liblinear failed to converge, increase the number of iterations.\n",
      "  \"the number of iterations.\", ConvergenceWarning)\n"
     ],
     "name": "stderr"
    }
   ]
  },
  {
   "cell_type": "code",
   "metadata": {
    "colab": {
     "base_uri": "https://localhost:8080/",
     "height": 339
    },
    "id": "4-i_Ljbf2bSz",
    "outputId": "a3e090d5-ccf8-4dd6-b30c-c3a1d3704c83",
    "pycharm": {
     "name": "#%%\n"
    }
   },
   "source": [
    "#Tworzenie macierzy pomyłek dla testowanego klasfikatora\n",
    "cnf_matrix = metrics.confusion_matrix(y_test, y_pred_svm)\n",
    "cnf_matrix\n",
    "class_names=[0,1] # nazwy klas\n",
    "fig, ax = plt.subplots()\n",
    "tick_marks = np.arange(len(class_names))\n",
    "plt.xticks(tick_marks, class_names)\n",
    "plt.yticks(tick_marks, class_names)\n",
    "# tworzenie mapy cieplnej\n",
    "sns.heatmap(pd.DataFrame(cnf_matrix), annot=True ,fmt='g')\n",
    "ax.xaxis.set_label_position(\"top\")\n",
    "plt.tight_layout()\n",
    "plt.title('Macierz pomyłek', y=1.1)\n",
    "plt.ylabel('Rzeczywista etykieta')\n",
    "plt.xlabel('Etykieta przewidziana przez model')"
   ],
   "execution_count": null,
   "outputs": [
    {
     "output_type": "execute_result",
     "data": {
      "text/plain": [
       "Text(0.5, 257.44, 'Etykieta przewidziana przez model')"
      ]
     },
     "metadata": {
      "tags": []
     },
     "execution_count": 109
    },
    {
     "output_type": "display_data",
     "data": {
      "image/png": "[encoded data removed]",
      "text/plain": [
       "<Figure size 432x288 with 2 Axes>"
      ]
     },
     "metadata": {
      "tags": [],
      "needs_background": "light"
     }
    }
   ]
  },
  {
   "cell_type": "markdown",
   "metadata": {
    "id": "w99w2ffqGAIc",
    "pycharm": {
     "name": "#%% md\n"
    }
   },
   "source": [
    "Jak widać pomimo zastosowania liniowego klasyfikatora SVM udało się uzyskać 100% skuteczności. Jest to zasługa zastosowania standaryzacji danych poprzez ich skalowanie. Wbrew pozorom skalowanie danych pozwala na poprawienie wyników klasyfikacji."
   ]
  },
  {
   "cell_type": "markdown",
   "metadata": {
    "id": "LxyIx1t7rwOE",
    "pycharm": {
     "name": "#%% md\n"
    }
   },
   "source": [
    "Uważny obserwator zauważy pewną nieścisłość. Dlaczego miara Accuracy na rysunku nie zgadza się z tą wyświetloną pod rysunkiem"
   ]
  },
  {
   "cell_type": "code",
   "metadata": {
    "colab": {
     "base_uri": "https://localhost:8080/",
     "height": 343
    },
    "id": "_NRKtO2Ie0TT",
    "outputId": "f8544369-eac5-40ac-b4b1-7829cad75bd3",
    "pycharm": {
     "name": "#%%\n"
    }
   },
   "source": [
    "#Tworzenie macierzy pomyłek dla testowanego klasfikatora\n",
    "cnf_matrix = metrics.confusion_matrix(y_test, y_pred)\n",
    "cnf_matrix\n",
    "class_names=[0,1] # nazwy klas\n",
    "fig, ax = plt.subplots()\n",
    "tick_marks = np.arange(len(class_names))\n",
    "plt.xticks(tick_marks, class_names)\n",
    "plt.yticks(tick_marks, class_names)\n",
    "# tworzenie mapy cieplnej\n",
    "sns.heatmap(pd.DataFrame(cnf_matrix), annot=True ,fmt='g')\n",
    "ax.xaxis.set_label_position(\"top\")\n",
    "plt.tight_layout()\n",
    "plt.title('Macierz pomyłek', y=1.1)\n",
    "plt.ylabel('Rzeczywista etykieta')\n",
    "plt.xlabel('Etykieta przewidziana przez model')"
   ],
   "execution_count": null,
   "outputs": [
    {
     "output_type": "execute_result",
     "data": {
      "text/plain": [
       "Text(0.5, 257.44, 'Etykieta przewidziana przez model')"
      ]
     },
     "metadata": {
      "tags": []
     },
     "execution_count": 111
    },
    {
     "output_type": "display_data",
     "data": {
      "image/png": "[encoded data removed]",
      "text/plain": [
       "<Figure size 432x288 with 2 Axes>"
      ]
     },
     "metadata": {
      "tags": [],
      "needs_background": "light"
     }
    }
   ]
  },
  {
   "cell_type": "code",
   "metadata": {
    "colab": {
     "base_uri": "https://localhost:8080/"
    },
    "id": "2g8xuyDuQIab",
    "outputId": "65c820fd-cfe6-48b7-92f6-5c7b6abb4288",
    "pycharm": {
     "name": "#%%\n"
    }
   },
   "source": [
    "#Inicjalizacja klasyfikatora bazującego na SVM\n",
    "clf = svm.SVC(kernel='linear',  decision_function_shape='ovo')#,probability=True) # kernel - opcje: rbf - domyślna, linear -linioye, poly - wielomianowe, dodatkowy parametr degree oznaczający stopień wielomianu\n",
    "#Trening modelu z wykorzystaniem danych treningowych \n",
    "clf.fit(X_train, y_train)\n",
    "#Predykcja odpowiedzi modelu na dane testowe \n",
    "y_pred = clf.predict(X_test)\n",
    "# Obliczenie dokładności klasyfikatora, jak często klasyfikator klasyfikuje poprawnie\n",
    "print(\"Dokładność:\",metrics.accuracy_score(y_test, y_pred))\n",
    "y_score = clf.decision_function(X_test)\n",
    "# Obliczenia wartości miary precisson dla modelu: (precission to stosunek wartości prawdziwie pozytywnych wyników do sumy wartości prawdzwie pozytywnych wyników i wyników fałszywie pozytywnych  \n",
    "print(\"Wartość miary precission dla wytrenowanego modelu:\",metrics.precision_score(y_test, y_pred))\n",
    "# Obliczenia wartości miary recall dla modelu: (recal to stosunek wartości prawdziwie pozytywnych wyników do sumy wyników prawdziwie pozytywnych i fałszywie negatywnych)\n",
    "print(\"Wartość miary recall dla wytrenowanego modelu:\",metrics.recall_score(y_test, y_pred))"
   ],
   "execution_count": null,
   "outputs": [
    {
     "output_type": "stream",
     "text": [
      "Dokładność: 0.9649122807017544\n",
      "Wartość miary precission dla wytrenowanego modelu: 0.9714285714285714\n",
      "Wartość miary recall dla wytrenowanego modelu: 0.9714285714285714\n"
     ],
     "name": "stdout"
    }
   ]
  },
  {
   "cell_type": "code",
   "metadata": {
    "colab": {
     "base_uri": "https://localhost:8080/",
     "height": 343
    },
    "id": "qwcny3LpQPl3",
    "outputId": "d26cdc7d-6af6-4633-efc0-d7b7d6b2dc67",
    "pycharm": {
     "name": "#%%\n"
    }
   },
   "source": [
    "#Tworzenie macierzy pomyłek dla testowanego klasfikatora\n",
    "cnf_matrix = metrics.confusion_matrix(y_test, y_pred)\n",
    "cnf_matrix\n",
    "class_names=[0,1] # nazwy klas\n",
    "fig, ax = plt.subplots()\n",
    "tick_marks = np.arange(len(class_names))\n",
    "plt.xticks(tick_marks, class_names)\n",
    "plt.yticks(tick_marks, class_names)\n",
    "# tworzenie mapy cieplnej\n",
    "sns.heatmap(pd.DataFrame(cnf_matrix), annot=True ,fmt='g')\n",
    "ax.xaxis.set_label_position(\"top\")\n",
    "plt.tight_layout()\n",
    "plt.title('Macierz pomyłek', y=1.1)\n",
    "plt.ylabel('Rzeczywista etykieta')\n",
    "plt.xlabel('Etykieta przewidziana przez model')"
   ],
   "execution_count": null,
   "outputs": [
    {
     "output_type": "execute_result",
     "data": {
      "text/plain": [
       "Text(0.5, 257.44, 'Etykieta przewidziana przez model')"
      ]
     },
     "metadata": {
      "tags": []
     },
     "execution_count": 23
    },
    {
     "output_type": "display_data",
     "data": {
      "image/png": "[encoded data removed]",
      "text/plain": [
       "<Figure size 432x288 with 2 Axes>"
      ]
     },
     "metadata": {
      "tags": [],
      "needs_background": "light"
     }
    }
   ]
  },
  {
   "cell_type": "code",
   "metadata": {
    "colab": {
     "base_uri": "https://localhost:8080/"
    },
    "id": "rYjI3M7rQTKt",
    "outputId": "01aa6a31-fe78-4d65-c5fa-8c0083be1a6f",
    "pycharm": {
     "name": "#%%\n"
    }
   },
   "source": [
    "#Inicjalizacja klasyfikatora bazującego na SVM\n",
    "clf = svm.SVC(kernel='linear',  decision_function_shape='ovr')#,probability=True) # kernel - opcje: rbf - domyślna, linear -linioye, poly - wielomianowe, dodatkowy parametr degree oznaczający stopień wielomianu\n",
    "#Trening modelu z wykorzystaniem danych treningowych \n",
    "clf.fit(X_train, y_train)\n",
    "#Predykcja odpowiedzi modelu na dane testowe \n",
    "y_pred = clf.predict(X_test)\n",
    "# Obliczenie dokładności klasyfikatora, jak często klasyfikator klasyfikuje poprawnie\n",
    "print(\"Dokładność:\",metrics.accuracy_score(y_test, y_pred))\n",
    "y_score = clf.decision_function(X_test)\n",
    "# Obliczenia wartości miary precisson dla modelu: (precission to stosunek wartości prawdziwie pozytywnych wyników do sumy wartości prawdzwie pozytywnych wyników i wyników fałszywie pozytywnych  \n",
    "print(\"Wartość miary precission dla wytrenowanego modelu:\",metrics.precision_score(y_test, y_pred))\n",
    "# Obliczenia wartości miary recall dla modelu: (recal to stosunek wartości prawdziwie pozytywnych wyników do sumy wyników prawdziwie pozytywnych i fałszywie negatywnych)\n",
    "print(\"Wartość miary recall dla wytrenowanego modelu:\",metrics.recall_score(y_test, y_pred))"
   ],
   "execution_count": null,
   "outputs": [
    {
     "output_type": "stream",
     "text": [
      "Dokładność: 0.9649122807017544\n",
      "Wartość miary precission dla wytrenowanego modelu: 0.9714285714285714\n",
      "Wartość miary recall dla wytrenowanego modelu: 0.9714285714285714\n"
     ],
     "name": "stdout"
    }
   ]
  },
  {
   "cell_type": "code",
   "metadata": {
    "colab": {
     "base_uri": "https://localhost:8080/",
     "height": 343
    },
    "id": "SNwOhrVqQT2_",
    "outputId": "637a414b-3415-4c53-f20d-a321aa0f7b86",
    "pycharm": {
     "name": "#%%\n"
    }
   },
   "source": [
    "#Tworzenie macierzy pomyłek dla testowanego klasfikatora\n",
    "cnf_matrix = metrics.confusion_matrix(y_test, y_pred)\n",
    "cnf_matrix\n",
    "class_names=[0,1] # nazwy klas\n",
    "fig, ax = plt.subplots()\n",
    "tick_marks = np.arange(len(class_names))\n",
    "plt.xticks(tick_marks, class_names)\n",
    "plt.yticks(tick_marks, class_names)\n",
    "# tworzenie mapy cieplnej\n",
    "sns.heatmap(pd.DataFrame(cnf_matrix), annot=True ,fmt='g')\n",
    "ax.xaxis.set_label_position(\"top\")\n",
    "plt.tight_layout()\n",
    "plt.title('Macierz pomyłek', y=1.1)\n",
    "plt.ylabel('Rzeczywista etykieta')\n",
    "plt.xlabel('Etykieta przewidziana przez model')"
   ],
   "execution_count": null,
   "outputs": [
    {
     "output_type": "execute_result",
     "data": {
      "text/plain": [
       "Text(0.5, 257.44, 'Etykieta przewidziana przez model')"
      ]
     },
     "metadata": {
      "tags": []
     },
     "execution_count": 25
    },
    {
     "output_type": "display_data",
     "data": {
      "image/png": "[encoded data removed]",
      "text/plain": [
       "<Figure size 432x288 with 2 Axes>"
      ]
     },
     "metadata": {
      "tags": [],
      "needs_background": "light"
     }
    }
   ]
  },
  {
   "cell_type": "markdown",
   "metadata": {
    "id": "N1KMJ0YCgg9z",
    "pycharm": {
     "name": "#%% md\n"
    }
   },
   "source": [
    "<p><b>Zadanie 1</b></p>\n",
    "\n",
    "Bazując na powyższym przykładzie sprawdzić jak będzie działał SVM implementowany przy użyciu `svm.SVC()` z innymi nastawami - zmienić rodzaj jądra oraz jego stopień i wskazać wpływ na metryki accuracy, preccison i recall. W przypadku jądra rbf wykorzystać współczynnik *gamma*. Wybrać najlepsze nastawy i wykorzystać je w Zadaniu 2.\n",
    "\n",
    "<p><b>Zadanie 2</b></p>\n",
    "<p>Zmienić podział zbioru danych co 10% zaczynając od podziału 10% danych treningowych - 90% danych testowych. Czy widać znaczącą różnicę w wynikach metryk accuracy, preccison i recall?  Dla jakich wartośći uzyskano optymalne wyniki? Czy zaobserwowano zjawisko underfittingu i overfittingu? Jeśli tak to w jaki sposób się ono objawiało?\n",
    "\n",
    "<p><b>Zadanie 3</b></p>\n",
    "\n",
    "Wykorzystując *Pipeline* i *StandardScaler()* przeprowadzić ponownie dobór hiperparametrów dla różnych funkcji jądra. Porównać otrzymane wyniki z wynikami z zadania pierwszego.\n"
   ]
  }
 ]
}