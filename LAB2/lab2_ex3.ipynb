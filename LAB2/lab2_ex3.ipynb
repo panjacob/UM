{
 "nbformat": 4,
 "nbformat_minor": 0,
 "metadata": {
  "kernelspec": {
   "display_name": "Python 3",
   "language": "python",
   "name": "python3"
  },
  "language_info": {
   "codemirror_mode": {
    "name": "ipython",
    "version": 3
   },
   "file_extension": ".py",
   "mimetype": "text/x-python",
   "name": "python",
   "nbconvert_exporter": "python",
   "pygments_lexer": "ipython3",
   "version": "3.7.9"
  },
  "colab": {
   "name": "lab2_ex3.ipynb",
   "provenance": [],
   "collapsed_sections": [],
   "toc_visible": true
  }
 },
 "cells": [
  {
   "cell_type": "markdown",
   "metadata": {
    "id": "_Lra10nA9O-W",
    "pycharm": {
     "name": "#%% md\n"
    }
   },
   "source": [
    "##### AI TECH - Akademia Innowacyjnych Zastosowań Technologii Cyfrowych. Programu Operacyjnego Polska Cyfrowa na lata 2014-2020\n",
    "<hr>"
   ]
  },
  {
   "cell_type": "markdown",
   "metadata": {
    "id": "vRGpfS0W9O-e",
    "pycharm": {
     "name": "#%% md\n"
    }
   },
   "source": [
    "<br>\n",
    "<br>\n",
    "<br>\n",
    "<br>\n",
    "<br>\n",
    "<br>\n",
    "<br>\n",
    "<center>\n",
    "    <h1 style = \"font-size:48px; font-weight:normal\"><b>AI</b>-TECH</h1>\n",
    "    <br>\n",
    "<br>\n",
    "<br>\n",
    "<br>\n",
    "    <h1 style = \"font-size:24px; font-weight:normal\">Przykład 3 DO LABORATORIUM 1</h1>\n",
    "    <h1 style = \"font-size:24px\">z UCZENIA MASZYNOWEGO</h1>\n",
    "    <h1 style = \"font-size:24px\">Klasyfikacja nadzorowana </h1>\n",
    "    <h1 style = \"font-size:24px\">Szymon Zaporowski</h1>\n",
    "    <h3 style = \"font-size:21px\">Regresja logistyczna, SVM i Drzewa Losowe - wykorzystanie danych z MNIST i tensorflow do porównania klasyfikatorów</h3>\n",
    "</center>\n",
    "<br>\n",
    "<br>\n",
    "<br>\n",
    "<br>\n",
    "<br>\n",
    "<br>\n",
    "<br>\n",
    "<br>\n",
    "<br>\n",
    "    </body>\n",
    "    </html>"
   ]
  },
  {
   "cell_type": "markdown",
   "metadata": {
    "id": "s9XWVqEB9O-h",
    "pycharm": {
     "name": "#%% md\n"
    }
   },
   "source": [
    "![stopka.svg](stopka.svg)"
   ]
  },
  {
   "cell_type": "markdown",
   "metadata": {
    "id": "fwZlOvDm9O-i",
    "pycharm": {
     "name": "#%% md\n"
    }
   },
   "source": [
    "<center>\n",
    "Projekt współfinansowany ze środków Unii Europejskiej w ramach Europejskiego Funduszu Rozwoju Regionalnego \n",
    "Program Operacyjny Polska Cyfrowa na lata 2014-2020,\n",
    "Oś Priorytetowa nr 3 \"Cyfrowe kompetencje społeczeństwa\" Działanie  nr 3.2 \"Innowacyjne rozwiązania na rzecz aktywizacji cyfrowej\" \n",
    "Tytuł projektu:  „Akademia Innowacyjnych Zastosowań Technologii Cyfrowych (AI Tech)”\n",
    "    </center>"
   ]
  },
  {
   "cell_type": "markdown",
   "metadata": {
    "id": "gfJ2T4qH9O-j",
    "pycharm": {
     "name": "#%% md\n"
    }
   },
   "source": [
    "<hr>"
   ]
  },
  {
   "cell_type": "markdown",
   "metadata": {
    "id": "HhcPy3gJ9O-k",
    "pycharm": {
     "name": "#%% md\n"
    }
   },
   "source": [
    "# 1. Przykład 3"
   ]
  },
  {
   "cell_type": "markdown",
   "metadata": {
    "id": "KubBhCNF9O-l",
    "pycharm": {
     "name": "#%% md\n"
    }
   },
   "source": [
    "Aby porównać działanie Regresji Logistycznej i SVM oraz algorytmu lasów losowych posłużymy się przykładem, który został wykorzystany w trakcie poprzedniego laboratorium i pierwotnie dotyczył tylko regresji liniowej.\n",
    "Ponownie wykorzystany zostanie zbiór danych MNIST, który zawiera 70 tysięcy obrazków o rozdzielczości 28x28 w odcieniach szarości, który został zebrany przez Yann’a Lecun (http://yann.lecun.com/exdb/mnist/). Obrazki te zawierają zeskanowane zapisy cyfr: 0-9. Daje to do dyspozycji 10 klas (0-9).\n",
    "Zbiór ten można wczytać na wiele róznych sposobów do projektu, ale żeby uniknąć w tym momencie pewnego preprocessingu skorzystamy z możliwości biblioteki tensorflow.\n",
    "\n",
    "Podobnie jak poprzednio, do celów aktualnego ćwiczenia przemodelujemy opis klas do problemu binarnego w którym cyfry od 0 do 8 będą stanowić klasę 0, zaś klasę 1 będzie stanowić cyfry 9.\n"
   ]
  },
  {
   "cell_type": "code",
   "metadata": {
    "colab": {
     "base_uri": "https://localhost:8080/"
    },
    "id": "LQRFA_Yk9O-m",
    "outputId": "fcec1fc3-0f27-424c-d1a7-b21b6d7edefd",
    "pycharm": {
     "name": "#%%\n"
    }
   },
   "source": [
    "# Import podstawowych bibliotek\n",
    "import numpy as np\n",
    "import matplotlib.pyplot as plt\n",
    "import matplotlib\n",
    "import keras\n",
    "import tensorflow as tf\n",
    "from sklearn.linear_model import LogisticRegression\n",
    "from io import StringIO\n",
    "import requests\n",
    "from random import randint\n",
    "from sklearn import svm #Zaimporotowanie modelu SVM z packietu sklearn \n",
    "from sklearn import metrics #Import modułu metrics z pakietu scikit-lear do policzenia miary dokładności klasyfikatora\n",
    "import seaborn as sns\n",
    "import pandas as pd\n",
    "print(tf.__version__)\n",
    "print('keras:',keras.__version__)\n"
   ],
   "execution_count": 5,
   "outputs": [
    {
     "name": "stdout",
     "output_type": "stream",
     "text": [
      "2.8.0\n",
      "keras: 2.8.0\n"
     ]
    }
   ]
  },
  {
   "cell_type": "markdown",
   "metadata": {
    "id": "s61VvKYl9O-p",
    "pycharm": {
     "name": "#%% md\n"
    }
   },
   "source": [
    "W takim rozwiązaniu, zbiór wejściowy jest wczytywany od razu z podziałem na zbiór treningowy (60000) oraz testowy (10000). Zbiór testowy zostanie wykorzystany później do oceny treningu i wyznaczenia miar błędów."
   ]
  },
  {
   "cell_type": "code",
   "metadata": {
    "colab": {
     "base_uri": "https://localhost:8080/"
    },
    "id": "AclvfqAQ9O-p",
    "outputId": "bb417484-5e10-4a09-c64f-e8cc73d1d277",
    "pycharm": {
     "name": "#%%\n"
    }
   },
   "source": [
    "(X_train, y_train), (X_test, y_test) = tf.keras.datasets.mnist.load_data(path='mnist.npz')\n",
    "\n",
    "print(\"Training set size: \", X_train.shape)\n",
    "print(\"Test set size: \", X_test.shape)\n"
   ],
   "execution_count": 6,
   "outputs": [
    {
     "name": "stdout",
     "output_type": "stream",
     "text": [
      "Training set size:  (60000, 28, 28)\n",
      "Test set size:  (10000, 28, 28)\n"
     ]
    }
   ]
  },
  {
   "cell_type": "markdown",
   "metadata": {
    "id": "I4-OBreW9O-q",
    "pycharm": {
     "name": "#%% md\n"
    }
   },
   "source": [
    "Do celów aktualnego ćwiczenia przemodelujemy opis klas, tak aby uzyskać problem binarny, w którym cyfry od 0 do 8 będą stanowić klasę 0, zaś klasę 1 będzie stanowić cyfry 9."
   ]
  },
  {
   "cell_type": "code",
   "metadata": {
    "id": "1vnWz7wE9O-t",
    "pycharm": {
     "name": "#%%\n"
    }
   },
   "source": [
    "y_train_binary = np.where(y_train < 9, 0.0, 1.0).reshape(y_train.shape[0], 1)\n",
    "y_train_binary = y_train_binary.astype('float32')"
   ],
   "execution_count": 7,
   "outputs": []
  },
  {
   "cell_type": "markdown",
   "metadata": {
    "id": "vUR9Iddn9O-u",
    "pycharm": {
     "name": "#%% md\n"
    }
   },
   "source": [
    "Dane wejściowe traktujemy jako zbiór cech, stąd \"spłaszczamy\" reprezentację 2D do reprezentacji 1D (28*28 -> 784).\n",
    "Taka spłaszczona reprezentacja obrazka przemnożona przez ilość obrazków występujących w rozważanym zbiorze daje nam wektor, który jest łatwiejszy do przetwarzania przez algorytmy uczenia maszynowego. Wartości te zostają również znormalizowane do przedziału [0,1]."
   ]
  },
  {
   "cell_type": "code",
   "metadata": {
    "colab": {
     "base_uri": "https://localhost:8080/"
    },
    "id": "Vr-VP-C49O-u",
    "outputId": "4645829f-80ea-44de-e36c-eaf05e9e6ca6",
    "pycharm": {
     "name": "#%%\n"
    }
   },
   "source": [
    "#przygotowanie danych treningowych jako wektor znormalizowany\n",
    "X_train_flat = X_train.reshape((X_train.shape[0], X_train.shape[1]*X_train.shape[2]))\n",
    "X_train_flat = X_train_flat.astype('float32')/255.0\n",
    "print(\"Input dataset shape: \", X_train_flat.shape)\n",
    "\n",
    "#przygotowanie danych testowych jako wektor znormalizowany\n",
    "y_test_binary = np.where(y_test < 9, 0.0, 1.0).reshape(y_test.shape[0], 1)\n",
    "y_test_binary = y_test_binary.astype('float32').flatten()\n",
    "X_test_flat = X_test.reshape((X_test.shape[0], X_test.shape[1]*X_test.shape[2]))\n",
    "X_test_flat = X_test_flat.astype('float32')/255.0\n",
    "print(\"Test dataset shape: \", X_test_flat.shape)"
   ],
   "execution_count": 8,
   "outputs": [
    {
     "name": "stdout",
     "output_type": "stream",
     "text": [
      "Input dataset shape:  (60000, 784)\n",
      "Test dataset shape:  (10000, 784)\n"
     ]
    }
   ]
  },
  {
   "cell_type": "markdown",
   "metadata": {
    "id": "BeLqs3QQ9O-v",
    "pycharm": {
     "name": "#%% md\n"
    }
   },
   "source": [
    "Przykładowy obraz z bazy danych, jego oryginalna etykieta oraz aktualna przynależność do klasy została przedsatwiona w poniższej sekcji."
   ]
  },
  {
   "cell_type": "code",
   "metadata": {
    "colab": {
     "base_uri": "https://localhost:8080/",
     "height": 302
    },
    "id": "JMRYbU_J9O-v",
    "outputId": "f7258af2-45bc-47d7-95a5-93b2fad4f821",
    "pycharm": {
     "name": "#%%\n"
    }
   },
   "source": [
    "example = randint(0, 100)\n",
    "plt.imshow(X_train[example], cmap=\"gray\")\n",
    "print(\"True orginal label :\", y_train[example])\n",
    "print(\"True binary label :\", y_train_binary[example])"
   ],
   "execution_count": 9,
   "outputs": [
    {
     "name": "stdout",
     "output_type": "stream",
     "text": [
      "True orginal label : 0\n",
      "True binary label : [0.]\n"
     ]
    },
    {
     "data": {
      "text/plain": "<Figure size 432x288 with 1 Axes>",
      "image/png": "[encoded data removed]"
     },
     "metadata": {
      "needs_background": "light"
     },
     "output_type": "display_data"
    }
   ]
  },
  {
   "cell_type": "markdown",
   "metadata": {
    "id": "HtzDtfKC9O-w",
    "pycharm": {
     "name": "#%% md\n"
    }
   },
   "source": [
    "W tym kroku dopasowujemy model regresji logistycznej do \"spłaszczonych\" danych wejściowych oraz prezentujemy wynik predykcji dla zbioru danych testowych"
   ]
  },
  {
   "cell_type": "code",
   "metadata": {
    "colab": {
     "base_uri": "https://localhost:8080/"
    },
    "id": "Fdj6TLj09O-w",
    "outputId": "02896bcf-a06f-4476-b56d-0511bde3aeb6",
    "pycharm": {
     "name": "#%%\n"
    }
   },
   "source": [
    "model = LogisticRegression(solver='newton-cg',random_state=0).fit(X_train_flat, y_train_binary.flatten())\n",
    "\n",
    "print(\"Wynik ewaluacji wytrenowanego modelu: \", model.score(X_test_flat, y_test_binary.flatten()))"
   ],
   "execution_count": 10,
   "outputs": [
    {
     "name": "stdout",
     "output_type": "stream",
     "text": [
      "Wynik ewaluacji wytrenowanego modelu:  0.9674\n"
     ]
    },
    {
     "name": "stderr",
     "output_type": "stream",
     "text": [
      "C:\\Projekty\\UM\\venv\\lib\\site-packages\\scipy\\optimize\\_linesearch.py:305: LineSearchWarning: The line search algorithm did not converge\n",
      "  warn('The line search algorithm did not converge', LineSearchWarning)\n",
      "C:\\Projekty\\UM\\venv\\lib\\site-packages\\sklearn\\utils\\optimize.py:203: UserWarning: Line Search failed\n",
      "  warnings.warn(\"Line Search failed\")\n"
     ]
    }
   ]
  },
  {
   "cell_type": "markdown",
   "metadata": {
    "id": "1-rZL2hg9O-x",
    "pycharm": {
     "name": "#%% md\n"
    }
   },
   "source": [
    "Mając wytrenowany model można go użyć do oceny prognozy $p$ innego wektora wejściowego. Dodatkowo doknamy predykcji dla całego zbioru testowego."
   ]
  },
  {
   "cell_type": "code",
   "metadata": {
    "colab": {
     "base_uri": "https://localhost:8080/",
     "height": 320
    },
    "id": "RnAZxfoK9O-x",
    "outputId": "e012f2d5-7414-4fd8-c136-c16b42482dda",
    "pycharm": {
     "name": "#%%\n"
    }
   },
   "source": [
    "test_example = 9\n",
    "p = model.predict(X_test_flat[test_example:test_example+1])\n",
    "\n",
    "# Wyswietlenie wartości prognozy (\"prawdopodobieństwa\") p z przedziału [0,1]\n",
    "print(\"Wartość prognozy dla wybranego przypadku: \", p)\n",
    "print(\"Prawdziwa etykieta klasy dla wybranego przypadku: \", int(y_test_binary[test_example]))\n",
    "#Predykcja odpowiedzi modelu na dane testowe \n",
    "\n",
    "# Użycie wartości progu w celu przypisania do odpowiednich klas \n",
    "predicted_class = 0 if p < 0.5 else 1\n",
    "print(\"Przewidywana etykieta klasy dla wybranego przypadku: \", predicted_class)\n",
    "\n",
    "plt.imshow(X_test[test_example], cmap=\"gray\")\n",
    "\n",
    "y_pred = model.predict(X_test_flat) # Predykcja dla całego zbioru testowego"
   ],
   "execution_count": 11,
   "outputs": [
    {
     "name": "stdout",
     "output_type": "stream",
     "text": [
      "Wartość prognozy dla wybranego przypadku:  [1.]\n",
      "Prawdziwa etykieta klasy dla wybranego przypadku:  1\n",
      "Przewidywana etykieta klasy dla wybranego przypadku:  1\n"
     ]
    },
    {
     "data": {
      "text/plain": "<Figure size 432x288 with 1 Axes>",
      "image/png": "[encoded data removed]"
     },
     "metadata": {
      "needs_background": "light"
     },
     "output_type": "display_data"
    }
   ]
  },
  {
   "cell_type": "markdown",
   "metadata": {
    "id": "C7WJfIEOKDyZ",
    "pycharm": {
     "name": "#%% md\n"
    }
   },
   "source": [
    "Sprawdzimy jak wyglądają wyniki z wykorzystaniem macierzy pomyłek"
   ]
  },
  {
   "cell_type": "code",
   "metadata": {
    "colab": {
     "base_uri": "https://localhost:8080/",
     "height": 343
    },
    "id": "xhGY1IqkQheN",
    "outputId": "66c02503-c1b1-4bc3-961a-795fe7375ee5",
    "pycharm": {
     "name": "#%%\n"
    }
   },
   "source": [
    "#Tworzenie macierzy pomyłek dla testowanego klasfikatora\n",
    "cnf_matrix = metrics.confusion_matrix(y_test_binary, y_pred)\n",
    "cnf_matrix\n",
    "class_names=[0,1] # nazwy klas\n",
    "fig, ax = plt.subplots()\n",
    "tick_marks = np.arange(len(class_names))\n",
    "plt.xticks(tick_marks, class_names)\n",
    "plt.yticks(tick_marks, class_names)\n",
    "# tworzenie mapy cieplnej\n",
    "sns.heatmap(pd.DataFrame(cnf_matrix), annot=True ,fmt='g')\n",
    "ax.xaxis.set_label_position(\"top\")\n",
    "plt.tight_layout()\n",
    "plt.title('Macierz pomyłek', y=1.1)\n",
    "plt.ylabel('Rzeczywista etykieta')\n",
    "plt.xlabel('Etykieta przewidziana przez model')"
   ],
   "execution_count": 12,
   "outputs": [
    {
     "data": {
      "text/plain": "Text(0.5, 257.44, 'Etykieta przewidziana przez model')"
     },
     "execution_count": 12,
     "metadata": {},
     "output_type": "execute_result"
    },
    {
     "data": {
      "text/plain": "<Figure size 432x288 with 2 Axes>",
      "image/png": "[encoded data removed]"
     },
     "metadata": {
      "needs_background": "light"
     },
     "output_type": "display_data"
    }
   ]
  },
  {
   "cell_type": "markdown",
   "metadata": {
    "id": "q_xvSmgNKHAE",
    "pycharm": {
     "name": "#%% md\n"
    }
   },
   "source": [
    "Po macierzy pomyłek widać, że zgodnie z założeniami otrzymujemy wyniki tylko w obrębie dwóch klas - 0 oraz 1. Można jednak zauważyć, że przez dokonanie ingerencji w klasy obecnie klasa 0 zawiera znacznie więcej przykładów niż klasa 1. Do czego to prowadzi będzie dokładnie widać po obliczeniu metryk precission i recall.\n",
    "Inicjalizujemy klasyfiokator oparty o SVM, podobnie jak to było w przykładzie 1."
   ]
  },
  {
   "cell_type": "code",
   "metadata": {
    "colab": {
     "base_uri": "https://localhost:8080/"
    },
    "id": "EihfZRn5HC--",
    "outputId": "98005453-427b-433a-825a-2d3398e755ce",
    "pycharm": {
     "name": "#%%\n"
    }
   },
   "source": [
    "# clf = svm.SVC(C=10, kernel='poly',degree=5, probability=False, max_iter=1000, decision_function_shape='ovo')\n",
    "clf = svm.SVC(C=10, max_iter=100, kernel='rbf')\n",
    "#Trening modelu z wykorzystaniem danych treningowych\n",
    "clf.fit(X_train_flat, y_train_binary.flatten())\n",
    "#Predykcja odpowiedzi modelu na dane testowe \n",
    "y_pred = clf.predict(X_test_flat)"
   ],
   "execution_count": 26,
   "outputs": [
    {
     "name": "stderr",
     "output_type": "stream",
     "text": [
      "C:\\Projekty\\UM\\venv\\lib\\site-packages\\sklearn\\svm\\_base.py:284: ConvergenceWarning: Solver terminated early (max_iter=100).  Consider pre-processing your data with StandardScaler or MinMaxScaler.\n",
      "  warnings.warn(\n"
     ]
    }
   ]
  },
  {
   "cell_type": "markdown",
   "metadata": {
    "id": "TofO-xlTKURc",
    "pycharm": {
     "name": "#%% md\n"
    }
   },
   "source": [
    "Dokonujemy obliczeń miar: accuracy, precision i recall."
   ]
  },
  {
   "cell_type": "code",
   "metadata": {
    "colab": {
     "base_uri": "https://localhost:8080/"
    },
    "id": "hFXk2ZiTHkJ6",
    "outputId": "73176d65-cb90-4610-e3bd-9327d305c795",
    "pycharm": {
     "name": "#%%\n"
    }
   },
   "source": [
    "# Obliczenie dokładności klasyfikatora, jak często klasyfikator klasyfikuje poprawnie\n",
    "print(\"Miara accuracy:\",metrics.accuracy_score(y_test_binary, y_pred))\n",
    "y_score = clf.decision_function(X_test_flat)\n",
    "# Obliczenia wartości miary precisson dla modelu: (precission to stosunek wartości prawdziwie pozytywnych wyników do sumy wartości prawdzwie pozytywnych wyników i wyników fałszywie pozytywnych  \n",
    "print(\"Wartość miary precission dla wytrenowanego modelu:\",metrics.precision_score(y_test_binary, y_pred, average=\"weighted\"))\n",
    "# Obliczenia wartości miary recall dla modelu: (recal to stosunek wartości prawdziwie pozytywnych wyników do sumy wyników prawdziwie pozytywnych i fałszywie negatywnych)\n",
    "print(\"Wartość miary recall dla wytrenowanego modelu:\",metrics.recall_score(y_test_binary, y_pred, average=\"weighted\"))"
   ],
   "execution_count": 27,
   "outputs": [
    {
     "name": "stdout",
     "output_type": "stream",
     "text": [
      "Miara accuracy: 0.9404\n",
      "Wartość miary precission dla wytrenowanego modelu: 0.9402955297995846\n",
      "Wartość miary recall dla wytrenowanego modelu: 0.9404\n"
     ]
    }
   ]
  },
  {
   "cell_type": "markdown",
   "metadata": {
    "id": "u1yK3eKfaLMO",
    "pycharm": {
     "name": "#%% md\n"
    }
   },
   "source": [
    "Po dokonaniu klasyfikacji z użyciem SVM widać, iż metryka accuracy jest na całkiem niezłym poziomie i wynosi ponad 80%. Patrząc tylko na tę metrykę można przypuszczać, iż model sprawuje się całkiem dobrze. Zwracając jednak uwage na pozostałe metryki widać dosyć niepokojące wartości - oscylujące w granicach poniżej 0.16. Oznacza to, iż ze względu na dysproporcję w danych i przewagę ilość danych w jednej klasie klasyfikator zaczyna dokonywać "
   ]
  },
  {
   "cell_type": "markdown",
   "metadata": {
    "id": "WePJgF_8KbkJ",
    "pycharm": {
     "name": "#%% md\n"
    }
   },
   "source": [
    "Dla pewności obliczny jeszcze macierz pomyłek - można będzie bezpośrednio porównać Regresję Liniową z SVM."
   ]
  },
  {
   "cell_type": "code",
   "metadata": {
    "colab": {
     "base_uri": "https://localhost:8080/",
     "height": 343
    },
    "id": "CskpbtG0M6Gh",
    "outputId": "ba4d52da-10c8-4e8e-c4ef-8d9c161d5081",
    "pycharm": {
     "name": "#%%\n"
    }
   },
   "source": [
    "#Tworzenie macierzy pomyłek dla testowanego klasfikatora\n",
    "cnf_matrix = metrics.confusion_matrix(y_test_binary, y_pred)\n",
    "cnf_matrix\n",
    "class_names=[0,1] # nazwy klas\n",
    "fig, ax = plt.subplots()\n",
    "tick_marks = np.arange(len(class_names))\n",
    "plt.xticks(tick_marks, class_names)\n",
    "plt.yticks(tick_marks, class_names)\n",
    "# tworzenie mapy cieplnej\n",
    "sns.heatmap(pd.DataFrame(cnf_matrix), annot=True ,fmt='g')\n",
    "ax.xaxis.set_label_position(\"top\")\n",
    "plt.tight_layout()\n",
    "plt.title('Macierz pomyłek', y=1.1)\n",
    "plt.ylabel('Rzeczywista etykieta')\n",
    "plt.xlabel('Etykieta przewidziana przez model')"
   ],
   "execution_count": 15,
   "outputs": [
    {
     "data": {
      "text/plain": "Text(0.5, 257.44, 'Etykieta przewidziana przez model')"
     },
     "execution_count": 15,
     "metadata": {},
     "output_type": "execute_result"
    },
    {
     "data": {
      "text/plain": "<Figure size 432x288 with 2 Axes>",
      "image/png": "[encoded data removed]"
     },
     "metadata": {
      "needs_background": "light"
     },
     "output_type": "display_data"
    }
   ]
  },
  {
   "cell_type": "markdown",
   "metadata": {
    "id": "ckfaJGJCz1vQ",
    "pycharm": {
     "name": "#%% md\n"
    }
   },
   "source": [
    "Dodajmy jeszcze kalsyfikator oparty o algortym lasów losowych"
   ]
  },
  {
   "cell_type": "code",
   "metadata": {
    "id": "T9XqmD5guoGo",
    "pycharm": {
     "name": "#%%\n"
    }
   },
   "source": [
    "from sklearn.ensemble import RandomForestClassifier\n",
    "\n",
    "from sklearn.tree import DecisionTreeClassifier\n",
    "from sklearn.datasets import make_classification\n",
    "from sklearn.metrics import accuracy_score, confusion_matrix, classification_report"
   ],
   "execution_count": 16,
   "outputs": []
  },
  {
   "cell_type": "markdown",
   "metadata": {
    "id": "Fdb4HuZcz7B1",
    "pycharm": {
     "name": "#%% md\n"
    }
   },
   "source": [
    "Dokonamy od razu incicjalizacji i predykcji z użcyiem tego algorytmu i otrzymamy miarę accuracy."
   ]
  },
  {
   "cell_type": "code",
   "metadata": {
    "colab": {
     "base_uri": "https://localhost:8080/"
    },
    "id": "0j8AWCiKupH1",
    "outputId": "e984ea99-74f9-462d-bc57-152ae36170d1",
    "pycharm": {
     "name": "#%%\n"
    }
   },
   "source": [
    "rf = RandomForestClassifier(n_estimators = 100,criterion='entropy', random_state = 42)\n",
    "rf.fit(X_train_flat, y_train_binary.flatten())\n",
    "predictions_forest = rf.predict(X_test_flat)\n",
    "print('Wynik dla miary accuracy:')\n",
    "accuracy_score(y_test_binary, predictions_forest)"
   ],
   "execution_count": 33,
   "outputs": [
    {
     "name": "stdout",
     "output_type": "stream",
     "text": [
      "Wynik dla miary accuracy:\n"
     ]
    },
    {
     "data": {
      "text/plain": "0.9851"
     },
     "execution_count": 33,
     "metadata": {},
     "output_type": "execute_result"
    }
   ]
  },
  {
   "cell_type": "markdown",
   "metadata": {
    "id": "Z-NAvV-q0BjI",
    "pycharm": {
     "name": "#%% md\n"
    }
   },
   "source": [
    "Miara accuracy wygląda bardzo dobrze, szczególnie porównując z pozostałymi klasyfikatorami. A jak wyglądają pozostałe miary?"
   ]
  },
  {
   "cell_type": "code",
   "metadata": {
    "colab": {
     "base_uri": "https://localhost:8080/"
    },
    "id": "DOHJ8ZSWwMX3",
    "outputId": "305323dd-76a9-4a77-f0a7-5ac5632de47b",
    "pycharm": {
     "name": "#%%\n"
    }
   },
   "source": [
    "classification_report(y_test_binary, predictions_forest, output_dict= True, target_names=[0,1])"
   ],
   "execution_count": 34,
   "outputs": [
    {
     "data": {
      "text/plain": "{0: {'precision': 0.9851843722563652,\n  'recall': 0.9984428873317762,\n  'f1-score': 0.9917693200022096,\n  'support': 8991},\n 1: {'precision': 0.9842342342342343,\n  'recall': 0.8662041625371655,\n  'f1-score': 0.9214549288350027,\n  'support': 1009},\n 'accuracy': 0.9851,\n 'macro avg': {'precision': 0.9847093032452998,\n  'recall': 0.9323235249344708,\n  'f1-score': 0.9566121244186061,\n  'support': 10000},\n 'weighted avg': {'precision': 0.9850885033299323,\n  'recall': 0.9851,\n  'f1-score': 0.9846745979334384,\n  'support': 10000}}"
     },
     "execution_count": 34,
     "metadata": {},
     "output_type": "execute_result"
    }
   ]
  },
  {
   "cell_type": "markdown",
   "metadata": {
    "id": "IF7kM-lt9O-x",
    "pycharm": {
     "name": "#%% md\n"
    }
   },
   "source": [
    "# Zadania do wykonania"
   ]
  },
  {
   "cell_type": "markdown",
   "metadata": {
    "id": "qcrULnXf9O-x",
    "pycharm": {
     "name": "#%% md\n"
    }
   },
   "source": [
    "<p><b>Zadanie 1</b></p>\n",
    "Przeprowadź eksperyment, porównaj klasyfikację z wykorzystaniem regresji liniowej oraz z SVM  i algorytmem lasów losowych. Zmień nastawy klasyfikatora SVM i przetestuj wszystkie funkcje jądra. Zrób podobnie dla lasów losowych wykorzystując wiedzę zdobytą w przykłądzie 2. Które nastawy sprawują się najlepiej, a które mają problemy?\n",
    "\n",
    "<p><b>Zadanie 2</b></p>\n",
    "Zmień przyporządkowanie do klas i sprawdź jak wpłynie to na wyniki klasyfikacji z wykorzystaniem SVM i lasów losowych. Zwróć szczególną uwagę na to w jaki sposób zmieniają się metryki po ponownym treningu. Jak wyjaśnisz różnicę między metrykami preccison i recall dla SVM? \n"
   ]
  },
  {
   "cell_type": "markdown",
   "metadata": {
    "id": "QSsk3AD59O-y",
    "pycharm": {
     "name": "#%% md\n"
    }
   },
   "source": [
    "![stopka.svg](stopka.svg)"
   ]
  }
 ]
}